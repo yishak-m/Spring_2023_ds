{
 "cells": [
  {
   "cell_type": "code",
   "execution_count": 1,
   "id": "3dcfbfc4",
   "metadata": {},
   "outputs": [],
   "source": [
    "import numpy as np\n",
    "import pandas as pd"
   ]
  },
  {
   "cell_type": "code",
   "execution_count": 2,
   "id": "4367ea32",
   "metadata": {},
   "outputs": [],
   "source": [
    "from numpy.random import randn"
   ]
  },
  {
   "cell_type": "code",
   "execution_count": 3,
   "id": "6fc6faa6",
   "metadata": {},
   "outputs": [],
   "source": [
    "data = np.random.randint(20,100, size=50)\n"
   ]
  },
  {
   "cell_type": "code",
   "execution_count": 4,
   "id": "7063f75a",
   "metadata": {},
   "outputs": [
    {
     "data": {
      "text/plain": [
       "array([91, 77, 62, 56, 44, 79, 20, 89, 59, 94, 31, 86, 79, 44, 68, 73, 77,\n",
       "       83, 96, 37, 71, 34, 31, 63, 22, 58, 28, 65, 88, 55, 26, 30, 38, 80,\n",
       "       60, 87, 64, 39, 91, 45, 64, 67, 50, 71, 76, 40, 49, 69, 24, 46])"
      ]
     },
     "execution_count": 4,
     "metadata": {},
     "output_type": "execute_result"
    }
   ],
   "source": [
    "data"
   ]
  },
  {
   "cell_type": "code",
   "execution_count": 5,
   "id": "bea405f4",
   "metadata": {},
   "outputs": [
    {
     "data": {
      "text/html": [
       "<div>\n",
       "<style scoped>\n",
       "    .dataframe tbody tr th:only-of-type {\n",
       "        vertical-align: middle;\n",
       "    }\n",
       "\n",
       "    .dataframe tbody tr th {\n",
       "        vertical-align: top;\n",
       "    }\n",
       "\n",
       "    .dataframe thead th {\n",
       "        text-align: right;\n",
       "    }\n",
       "</style>\n",
       "<table border=\"1\" class=\"dataframe\">\n",
       "  <thead>\n",
       "    <tr style=\"text-align: right;\">\n",
       "      <th></th>\n",
       "      <th>A</th>\n",
       "    </tr>\n",
       "  </thead>\n",
       "  <tbody>\n",
       "    <tr>\n",
       "      <th>45</th>\n",
       "      <td>40</td>\n",
       "    </tr>\n",
       "    <tr>\n",
       "      <th>46</th>\n",
       "      <td>49</td>\n",
       "    </tr>\n",
       "    <tr>\n",
       "      <th>47</th>\n",
       "      <td>69</td>\n",
       "    </tr>\n",
       "    <tr>\n",
       "      <th>48</th>\n",
       "      <td>24</td>\n",
       "    </tr>\n",
       "    <tr>\n",
       "      <th>49</th>\n",
       "      <td>46</td>\n",
       "    </tr>\n",
       "  </tbody>\n",
       "</table>\n",
       "</div>"
      ],
      "text/plain": [
       "     A\n",
       "45  40\n",
       "46  49\n",
       "47  69\n",
       "48  24\n",
       "49  46"
      ]
     },
     "execution_count": 5,
     "metadata": {},
     "output_type": "execute_result"
    }
   ],
   "source": [
    "df = pd.DataFrame(data, columns = ['A'])\n",
    "df.tail()"
   ]
  },
  {
   "cell_type": "code",
   "execution_count": 6,
   "id": "4ef024cc",
   "metadata": {},
   "outputs": [
    {
     "data": {
      "text/html": [
       "<div>\n",
       "<style scoped>\n",
       "    .dataframe tbody tr th:only-of-type {\n",
       "        vertical-align: middle;\n",
       "    }\n",
       "\n",
       "    .dataframe tbody tr th {\n",
       "        vertical-align: top;\n",
       "    }\n",
       "\n",
       "    .dataframe thead th {\n",
       "        text-align: right;\n",
       "    }\n",
       "</style>\n",
       "<table border=\"1\" class=\"dataframe\">\n",
       "  <thead>\n",
       "    <tr style=\"text-align: right;\">\n",
       "      <th></th>\n",
       "      <th>A</th>\n",
       "    </tr>\n",
       "  </thead>\n",
       "  <tbody>\n",
       "    <tr>\n",
       "      <th>0</th>\n",
       "      <td>91</td>\n",
       "    </tr>\n",
       "    <tr>\n",
       "      <th>1</th>\n",
       "      <td>77</td>\n",
       "    </tr>\n",
       "    <tr>\n",
       "      <th>2</th>\n",
       "      <td>62</td>\n",
       "    </tr>\n",
       "    <tr>\n",
       "      <th>3</th>\n",
       "      <td>56</td>\n",
       "    </tr>\n",
       "    <tr>\n",
       "      <th>4</th>\n",
       "      <td>44</td>\n",
       "    </tr>\n",
       "  </tbody>\n",
       "</table>\n",
       "</div>"
      ],
      "text/plain": [
       "    A\n",
       "0  91\n",
       "1  77\n",
       "2  62\n",
       "3  56\n",
       "4  44"
      ]
     },
     "execution_count": 6,
     "metadata": {},
     "output_type": "execute_result"
    }
   ],
   "source": [
    "df.head()"
   ]
  },
  {
   "cell_type": "code",
   "execution_count": 7,
   "id": "a778243c",
   "metadata": {},
   "outputs": [],
   "source": [
    "# Adding one more column \n",
    "data1 = np.random.randint(-50,50, size = 50)"
   ]
  },
  {
   "cell_type": "code",
   "execution_count": 8,
   "id": "2e837cb1",
   "metadata": {},
   "outputs": [
    {
     "data": {
      "text/html": [
       "<div>\n",
       "<style scoped>\n",
       "    .dataframe tbody tr th:only-of-type {\n",
       "        vertical-align: middle;\n",
       "    }\n",
       "\n",
       "    .dataframe tbody tr th {\n",
       "        vertical-align: top;\n",
       "    }\n",
       "\n",
       "    .dataframe thead th {\n",
       "        text-align: right;\n",
       "    }\n",
       "</style>\n",
       "<table border=\"1\" class=\"dataframe\">\n",
       "  <thead>\n",
       "    <tr style=\"text-align: right;\">\n",
       "      <th></th>\n",
       "      <th>A</th>\n",
       "      <th>B</th>\n",
       "    </tr>\n",
       "  </thead>\n",
       "  <tbody>\n",
       "    <tr>\n",
       "      <th>0</th>\n",
       "      <td>91</td>\n",
       "      <td>49</td>\n",
       "    </tr>\n",
       "    <tr>\n",
       "      <th>1</th>\n",
       "      <td>77</td>\n",
       "      <td>-5</td>\n",
       "    </tr>\n",
       "    <tr>\n",
       "      <th>2</th>\n",
       "      <td>62</td>\n",
       "      <td>22</td>\n",
       "    </tr>\n",
       "    <tr>\n",
       "      <th>3</th>\n",
       "      <td>56</td>\n",
       "      <td>44</td>\n",
       "    </tr>\n",
       "    <tr>\n",
       "      <th>4</th>\n",
       "      <td>44</td>\n",
       "      <td>22</td>\n",
       "    </tr>\n",
       "  </tbody>\n",
       "</table>\n",
       "</div>"
      ],
      "text/plain": [
       "    A   B\n",
       "0  91  49\n",
       "1  77  -5\n",
       "2  62  22\n",
       "3  56  44\n",
       "4  44  22"
      ]
     },
     "execution_count": 8,
     "metadata": {},
     "output_type": "execute_result"
    }
   ],
   "source": [
    "df['B'] = data1\n",
    "df.head()"
   ]
  },
  {
   "cell_type": "code",
   "execution_count": 9,
   "id": "2f14af15",
   "metadata": {},
   "outputs": [],
   "source": [
    "# Adding a third column\n",
    "data2 = np.random.randint(110,170, size = 50)"
   ]
  },
  {
   "cell_type": "code",
   "execution_count": 10,
   "id": "7cfa7a95",
   "metadata": {},
   "outputs": [
    {
     "data": {
      "text/html": [
       "<div>\n",
       "<style scoped>\n",
       "    .dataframe tbody tr th:only-of-type {\n",
       "        vertical-align: middle;\n",
       "    }\n",
       "\n",
       "    .dataframe tbody tr th {\n",
       "        vertical-align: top;\n",
       "    }\n",
       "\n",
       "    .dataframe thead th {\n",
       "        text-align: right;\n",
       "    }\n",
       "</style>\n",
       "<table border=\"1\" class=\"dataframe\">\n",
       "  <thead>\n",
       "    <tr style=\"text-align: right;\">\n",
       "      <th></th>\n",
       "      <th>A</th>\n",
       "      <th>B</th>\n",
       "      <th>C</th>\n",
       "    </tr>\n",
       "  </thead>\n",
       "  <tbody>\n",
       "    <tr>\n",
       "      <th>0</th>\n",
       "      <td>91</td>\n",
       "      <td>49</td>\n",
       "      <td>160</td>\n",
       "    </tr>\n",
       "    <tr>\n",
       "      <th>1</th>\n",
       "      <td>77</td>\n",
       "      <td>-5</td>\n",
       "      <td>152</td>\n",
       "    </tr>\n",
       "    <tr>\n",
       "      <th>2</th>\n",
       "      <td>62</td>\n",
       "      <td>22</td>\n",
       "      <td>134</td>\n",
       "    </tr>\n",
       "    <tr>\n",
       "      <th>3</th>\n",
       "      <td>56</td>\n",
       "      <td>44</td>\n",
       "      <td>133</td>\n",
       "    </tr>\n",
       "    <tr>\n",
       "      <th>4</th>\n",
       "      <td>44</td>\n",
       "      <td>22</td>\n",
       "      <td>157</td>\n",
       "    </tr>\n",
       "  </tbody>\n",
       "</table>\n",
       "</div>"
      ],
      "text/plain": [
       "    A   B    C\n",
       "0  91  49  160\n",
       "1  77  -5  152\n",
       "2  62  22  134\n",
       "3  56  44  133\n",
       "4  44  22  157"
      ]
     },
     "execution_count": 10,
     "metadata": {},
     "output_type": "execute_result"
    }
   ],
   "source": [
    "df['C'] = data2\n",
    "df.head()"
   ]
  },
  {
   "cell_type": "code",
   "execution_count": 11,
   "id": "31847d32",
   "metadata": {},
   "outputs": [],
   "source": [
    "df = pd.DataFrame(randn(5,4),index= 'A B C D E'.split(\" \"),columns= 'X Y Z W'.split(\" \"))"
   ]
  },
  {
   "cell_type": "code",
   "execution_count": 12,
   "id": "85baa598",
   "metadata": {},
   "outputs": [
    {
     "data": {
      "text/html": [
       "<div>\n",
       "<style scoped>\n",
       "    .dataframe tbody tr th:only-of-type {\n",
       "        vertical-align: middle;\n",
       "    }\n",
       "\n",
       "    .dataframe tbody tr th {\n",
       "        vertical-align: top;\n",
       "    }\n",
       "\n",
       "    .dataframe thead th {\n",
       "        text-align: right;\n",
       "    }\n",
       "</style>\n",
       "<table border=\"1\" class=\"dataframe\">\n",
       "  <thead>\n",
       "    <tr style=\"text-align: right;\">\n",
       "      <th></th>\n",
       "      <th>X</th>\n",
       "      <th>Y</th>\n",
       "      <th>Z</th>\n",
       "      <th>W</th>\n",
       "    </tr>\n",
       "  </thead>\n",
       "  <tbody>\n",
       "    <tr>\n",
       "      <th>A</th>\n",
       "      <td>-0.494927</td>\n",
       "      <td>1.277896</td>\n",
       "      <td>0.038667</td>\n",
       "      <td>-0.430560</td>\n",
       "    </tr>\n",
       "    <tr>\n",
       "      <th>B</th>\n",
       "      <td>1.072560</td>\n",
       "      <td>0.998068</td>\n",
       "      <td>1.228446</td>\n",
       "      <td>-0.809835</td>\n",
       "    </tr>\n",
       "    <tr>\n",
       "      <th>C</th>\n",
       "      <td>-0.169369</td>\n",
       "      <td>0.463666</td>\n",
       "      <td>-0.440254</td>\n",
       "      <td>0.721016</td>\n",
       "    </tr>\n",
       "    <tr>\n",
       "      <th>D</th>\n",
       "      <td>-0.434913</td>\n",
       "      <td>-0.780051</td>\n",
       "      <td>0.874259</td>\n",
       "      <td>0.867277</td>\n",
       "    </tr>\n",
       "    <tr>\n",
       "      <th>E</th>\n",
       "      <td>-0.266327</td>\n",
       "      <td>-0.090903</td>\n",
       "      <td>-1.726803</td>\n",
       "      <td>1.106192</td>\n",
       "    </tr>\n",
       "  </tbody>\n",
       "</table>\n",
       "</div>"
      ],
      "text/plain": [
       "          X         Y         Z         W\n",
       "A -0.494927  1.277896  0.038667 -0.430560\n",
       "B  1.072560  0.998068  1.228446 -0.809835\n",
       "C -0.169369  0.463666 -0.440254  0.721016\n",
       "D -0.434913 -0.780051  0.874259  0.867277\n",
       "E -0.266327 -0.090903 -1.726803  1.106192"
      ]
     },
     "execution_count": 12,
     "metadata": {},
     "output_type": "execute_result"
    }
   ],
   "source": [
    "df.head()"
   ]
  },
  {
   "cell_type": "code",
   "execution_count": 13,
   "id": "ca6edf5e",
   "metadata": {},
   "outputs": [
    {
     "data": {
      "text/html": [
       "<div>\n",
       "<style scoped>\n",
       "    .dataframe tbody tr th:only-of-type {\n",
       "        vertical-align: middle;\n",
       "    }\n",
       "\n",
       "    .dataframe tbody tr th {\n",
       "        vertical-align: top;\n",
       "    }\n",
       "\n",
       "    .dataframe thead th {\n",
       "        text-align: right;\n",
       "    }\n",
       "</style>\n",
       "<table border=\"1\" class=\"dataframe\">\n",
       "  <thead>\n",
       "    <tr style=\"text-align: right;\">\n",
       "      <th></th>\n",
       "      <th>X</th>\n",
       "      <th>Y</th>\n",
       "      <th>Z</th>\n",
       "      <th>W</th>\n",
       "    </tr>\n",
       "  </thead>\n",
       "  <tbody>\n",
       "    <tr>\n",
       "      <th>A</th>\n",
       "      <td>-1.225744</td>\n",
       "      <td>-1.451331</td>\n",
       "      <td>-0.659887</td>\n",
       "      <td>1.580038</td>\n",
       "    </tr>\n",
       "    <tr>\n",
       "      <th>B</th>\n",
       "      <td>-0.608178</td>\n",
       "      <td>-1.462948</td>\n",
       "      <td>-0.858922</td>\n",
       "      <td>-1.109464</td>\n",
       "    </tr>\n",
       "    <tr>\n",
       "      <th>C</th>\n",
       "      <td>-0.265673</td>\n",
       "      <td>0.766390</td>\n",
       "      <td>0.950819</td>\n",
       "      <td>1.440794</td>\n",
       "    </tr>\n",
       "    <tr>\n",
       "      <th>D</th>\n",
       "      <td>0.109286</td>\n",
       "      <td>0.595527</td>\n",
       "      <td>-0.546931</td>\n",
       "      <td>-1.010402</td>\n",
       "    </tr>\n",
       "    <tr>\n",
       "      <th>E</th>\n",
       "      <td>0.477122</td>\n",
       "      <td>1.221871</td>\n",
       "      <td>0.655995</td>\n",
       "      <td>0.241874</td>\n",
       "    </tr>\n",
       "  </tbody>\n",
       "</table>\n",
       "</div>"
      ],
      "text/plain": [
       "          X         Y         Z         W\n",
       "A -1.225744 -1.451331 -0.659887  1.580038\n",
       "B -0.608178 -1.462948 -0.858922 -1.109464\n",
       "C -0.265673  0.766390  0.950819  1.440794\n",
       "D  0.109286  0.595527 -0.546931 -1.010402\n",
       "E  0.477122  1.221871  0.655995  0.241874"
      ]
     },
     "execution_count": 13,
     "metadata": {},
     "output_type": "execute_result"
    }
   ],
   "source": [
    "df = pd.DataFrame(randn(5,4),index= 'A/B/C/D/E'.split(\"/\"),columns= 'X*Y*Z*W'.split(\"*\"))\n",
    "df.head()"
   ]
  },
  {
   "cell_type": "code",
   "execution_count": 14,
   "id": "7af679f7",
   "metadata": {},
   "outputs": [
    {
     "data": {
      "text/plain": [
       "A   -1.451331\n",
       "B   -1.462948\n",
       "C    0.766390\n",
       "D    0.595527\n",
       "E    1.221871\n",
       "Name: Y, dtype: float64"
      ]
     },
     "execution_count": 14,
     "metadata": {},
     "output_type": "execute_result"
    }
   ],
   "source": [
    "df['Y']"
   ]
  },
  {
   "cell_type": "code",
   "execution_count": 15,
   "id": "5d4d274b",
   "metadata": {},
   "outputs": [
    {
     "data": {
      "text/html": [
       "<div>\n",
       "<style scoped>\n",
       "    .dataframe tbody tr th:only-of-type {\n",
       "        vertical-align: middle;\n",
       "    }\n",
       "\n",
       "    .dataframe tbody tr th {\n",
       "        vertical-align: top;\n",
       "    }\n",
       "\n",
       "    .dataframe thead th {\n",
       "        text-align: right;\n",
       "    }\n",
       "</style>\n",
       "<table border=\"1\" class=\"dataframe\">\n",
       "  <thead>\n",
       "    <tr style=\"text-align: right;\">\n",
       "      <th></th>\n",
       "      <th>X</th>\n",
       "      <th>W</th>\n",
       "    </tr>\n",
       "  </thead>\n",
       "  <tbody>\n",
       "    <tr>\n",
       "      <th>A</th>\n",
       "      <td>-1.225744</td>\n",
       "      <td>1.580038</td>\n",
       "    </tr>\n",
       "    <tr>\n",
       "      <th>B</th>\n",
       "      <td>-0.608178</td>\n",
       "      <td>-1.109464</td>\n",
       "    </tr>\n",
       "    <tr>\n",
       "      <th>C</th>\n",
       "      <td>-0.265673</td>\n",
       "      <td>1.440794</td>\n",
       "    </tr>\n",
       "    <tr>\n",
       "      <th>D</th>\n",
       "      <td>0.109286</td>\n",
       "      <td>-1.010402</td>\n",
       "    </tr>\n",
       "    <tr>\n",
       "      <th>E</th>\n",
       "      <td>0.477122</td>\n",
       "      <td>0.241874</td>\n",
       "    </tr>\n",
       "  </tbody>\n",
       "</table>\n",
       "</div>"
      ],
      "text/plain": [
       "          X         W\n",
       "A -1.225744  1.580038\n",
       "B -0.608178 -1.109464\n",
       "C -0.265673  1.440794\n",
       "D  0.109286 -1.010402\n",
       "E  0.477122  0.241874"
      ]
     },
     "execution_count": 15,
     "metadata": {},
     "output_type": "execute_result"
    }
   ],
   "source": [
    "df[['X','W']]"
   ]
  },
  {
   "cell_type": "code",
   "execution_count": 16,
   "id": "528898f2",
   "metadata": {
    "scrolled": false
   },
   "outputs": [
    {
     "data": {
      "text/plain": [
       "X   -1.225744\n",
       "Y   -1.451331\n",
       "Z   -0.659887\n",
       "W    1.580038\n",
       "Name: A, dtype: float64"
      ]
     },
     "execution_count": 16,
     "metadata": {},
     "output_type": "execute_result"
    }
   ],
   "source": [
    "df.iloc[0]"
   ]
  },
  {
   "cell_type": "markdown",
   "id": "6ffd8631",
   "metadata": {},
   "source": [
    " # Selecting rows"
   ]
  },
  {
   "cell_type": "code",
   "execution_count": 17,
   "id": "7c2cdbd8",
   "metadata": {},
   "outputs": [
    {
     "data": {
      "text/html": [
       "<div>\n",
       "<style scoped>\n",
       "    .dataframe tbody tr th:only-of-type {\n",
       "        vertical-align: middle;\n",
       "    }\n",
       "\n",
       "    .dataframe tbody tr th {\n",
       "        vertical-align: top;\n",
       "    }\n",
       "\n",
       "    .dataframe thead th {\n",
       "        text-align: right;\n",
       "    }\n",
       "</style>\n",
       "<table border=\"1\" class=\"dataframe\">\n",
       "  <thead>\n",
       "    <tr style=\"text-align: right;\">\n",
       "      <th></th>\n",
       "      <th>X</th>\n",
       "      <th>Y</th>\n",
       "      <th>Z</th>\n",
       "      <th>W</th>\n",
       "    </tr>\n",
       "  </thead>\n",
       "  <tbody>\n",
       "    <tr>\n",
       "      <th>C</th>\n",
       "      <td>-0.265673</td>\n",
       "      <td>0.766390</td>\n",
       "      <td>0.950819</td>\n",
       "      <td>1.440794</td>\n",
       "    </tr>\n",
       "    <tr>\n",
       "      <th>D</th>\n",
       "      <td>0.109286</td>\n",
       "      <td>0.595527</td>\n",
       "      <td>-0.546931</td>\n",
       "      <td>-1.010402</td>\n",
       "    </tr>\n",
       "    <tr>\n",
       "      <th>E</th>\n",
       "      <td>0.477122</td>\n",
       "      <td>1.221871</td>\n",
       "      <td>0.655995</td>\n",
       "      <td>0.241874</td>\n",
       "    </tr>\n",
       "  </tbody>\n",
       "</table>\n",
       "</div>"
      ],
      "text/plain": [
       "          X         Y         Z         W\n",
       "C -0.265673  0.766390  0.950819  1.440794\n",
       "D  0.109286  0.595527 -0.546931 -1.010402\n",
       "E  0.477122  1.221871  0.655995  0.241874"
      ]
     },
     "execution_count": 17,
     "metadata": {},
     "output_type": "execute_result"
    }
   ],
   "source": [
    "df.iloc[2:5]"
   ]
  },
  {
   "cell_type": "code",
   "execution_count": 18,
   "id": "6362ec3e",
   "metadata": {},
   "outputs": [
    {
     "data": {
      "text/html": [
       "<div>\n",
       "<style scoped>\n",
       "    .dataframe tbody tr th:only-of-type {\n",
       "        vertical-align: middle;\n",
       "    }\n",
       "\n",
       "    .dataframe tbody tr th {\n",
       "        vertical-align: top;\n",
       "    }\n",
       "\n",
       "    .dataframe thead th {\n",
       "        text-align: right;\n",
       "    }\n",
       "</style>\n",
       "<table border=\"1\" class=\"dataframe\">\n",
       "  <thead>\n",
       "    <tr style=\"text-align: right;\">\n",
       "      <th></th>\n",
       "      <th>X</th>\n",
       "      <th>Y</th>\n",
       "      <th>Z</th>\n",
       "      <th>W</th>\n",
       "    </tr>\n",
       "  </thead>\n",
       "  <tbody>\n",
       "    <tr>\n",
       "      <th>A</th>\n",
       "      <td>False</td>\n",
       "      <td>False</td>\n",
       "      <td>True</td>\n",
       "      <td>True</td>\n",
       "    </tr>\n",
       "    <tr>\n",
       "      <th>B</th>\n",
       "      <td>True</td>\n",
       "      <td>False</td>\n",
       "      <td>True</td>\n",
       "      <td>False</td>\n",
       "    </tr>\n",
       "    <tr>\n",
       "      <th>C</th>\n",
       "      <td>True</td>\n",
       "      <td>True</td>\n",
       "      <td>True</td>\n",
       "      <td>True</td>\n",
       "    </tr>\n",
       "    <tr>\n",
       "      <th>D</th>\n",
       "      <td>True</td>\n",
       "      <td>True</td>\n",
       "      <td>True</td>\n",
       "      <td>False</td>\n",
       "    </tr>\n",
       "    <tr>\n",
       "      <th>E</th>\n",
       "      <td>True</td>\n",
       "      <td>True</td>\n",
       "      <td>True</td>\n",
       "      <td>True</td>\n",
       "    </tr>\n",
       "  </tbody>\n",
       "</table>\n",
       "</div>"
      ],
      "text/plain": [
       "       X      Y     Z      W\n",
       "A  False  False  True   True\n",
       "B   True  False  True  False\n",
       "C   True   True  True   True\n",
       "D   True   True  True  False\n",
       "E   True   True  True   True"
      ]
     },
     "execution_count": 18,
     "metadata": {},
     "output_type": "execute_result"
    }
   ],
   "source": [
    "df>-1"
   ]
  },
  {
   "cell_type": "code",
   "execution_count": 19,
   "id": "f9958cbb",
   "metadata": {},
   "outputs": [],
   "source": [
    "df_1 = df[df>0]"
   ]
  },
  {
   "cell_type": "code",
   "execution_count": 20,
   "id": "356c9340",
   "metadata": {},
   "outputs": [
    {
     "data": {
      "text/html": [
       "<div>\n",
       "<style scoped>\n",
       "    .dataframe tbody tr th:only-of-type {\n",
       "        vertical-align: middle;\n",
       "    }\n",
       "\n",
       "    .dataframe tbody tr th {\n",
       "        vertical-align: top;\n",
       "    }\n",
       "\n",
       "    .dataframe thead th {\n",
       "        text-align: right;\n",
       "    }\n",
       "</style>\n",
       "<table border=\"1\" class=\"dataframe\">\n",
       "  <thead>\n",
       "    <tr style=\"text-align: right;\">\n",
       "      <th></th>\n",
       "      <th>X</th>\n",
       "      <th>Y</th>\n",
       "      <th>Z</th>\n",
       "      <th>W</th>\n",
       "    </tr>\n",
       "  </thead>\n",
       "  <tbody>\n",
       "    <tr>\n",
       "      <th>A</th>\n",
       "      <td>NaN</td>\n",
       "      <td>NaN</td>\n",
       "      <td>NaN</td>\n",
       "      <td>1.580038</td>\n",
       "    </tr>\n",
       "    <tr>\n",
       "      <th>B</th>\n",
       "      <td>NaN</td>\n",
       "      <td>NaN</td>\n",
       "      <td>NaN</td>\n",
       "      <td>NaN</td>\n",
       "    </tr>\n",
       "    <tr>\n",
       "      <th>C</th>\n",
       "      <td>NaN</td>\n",
       "      <td>0.766390</td>\n",
       "      <td>0.950819</td>\n",
       "      <td>1.440794</td>\n",
       "    </tr>\n",
       "    <tr>\n",
       "      <th>D</th>\n",
       "      <td>0.109286</td>\n",
       "      <td>0.595527</td>\n",
       "      <td>NaN</td>\n",
       "      <td>NaN</td>\n",
       "    </tr>\n",
       "    <tr>\n",
       "      <th>E</th>\n",
       "      <td>0.477122</td>\n",
       "      <td>1.221871</td>\n",
       "      <td>0.655995</td>\n",
       "      <td>0.241874</td>\n",
       "    </tr>\n",
       "  </tbody>\n",
       "</table>\n",
       "</div>"
      ],
      "text/plain": [
       "          X         Y         Z         W\n",
       "A       NaN       NaN       NaN  1.580038\n",
       "B       NaN       NaN       NaN       NaN\n",
       "C       NaN  0.766390  0.950819  1.440794\n",
       "D  0.109286  0.595527       NaN       NaN\n",
       "E  0.477122  1.221871  0.655995  0.241874"
      ]
     },
     "execution_count": 20,
     "metadata": {},
     "output_type": "execute_result"
    }
   ],
   "source": [
    "df_1.head()"
   ]
  },
  {
   "cell_type": "code",
   "execution_count": 21,
   "id": "112f27e5",
   "metadata": {},
   "outputs": [
    {
     "data": {
      "text/plain": [
       "X    3\n",
       "Y    2\n",
       "Z    3\n",
       "W    2\n",
       "dtype: int64"
      ]
     },
     "execution_count": 21,
     "metadata": {},
     "output_type": "execute_result"
    }
   ],
   "source": [
    "df_1.isnull().sum()"
   ]
  },
  {
   "cell_type": "code",
   "execution_count": 22,
   "id": "785f4a08",
   "metadata": {},
   "outputs": [
    {
     "data": {
      "text/plain": [
       "X    3\n",
       "Y    2\n",
       "Z    3\n",
       "W    2\n",
       "dtype: int64"
      ]
     },
     "execution_count": 22,
     "metadata": {},
     "output_type": "execute_result"
    }
   ],
   "source": [
    "df_1.isna().sum()"
   ]
  },
  {
   "cell_type": "code",
   "execution_count": 23,
   "id": "368dc8f4",
   "metadata": {},
   "outputs": [],
   "source": [
    "new_columns = ['Col1', 'Col2', 'Col3', 'Col4']"
   ]
  },
  {
   "cell_type": "code",
   "execution_count": 24,
   "id": "dfbc4910",
   "metadata": {},
   "outputs": [],
   "source": [
    "df.columns = new_columns"
   ]
  },
  {
   "cell_type": "code",
   "execution_count": 25,
   "id": "3d4e9642",
   "metadata": {},
   "outputs": [
    {
     "data": {
      "text/html": [
       "<div>\n",
       "<style scoped>\n",
       "    .dataframe tbody tr th:only-of-type {\n",
       "        vertical-align: middle;\n",
       "    }\n",
       "\n",
       "    .dataframe tbody tr th {\n",
       "        vertical-align: top;\n",
       "    }\n",
       "\n",
       "    .dataframe thead th {\n",
       "        text-align: right;\n",
       "    }\n",
       "</style>\n",
       "<table border=\"1\" class=\"dataframe\">\n",
       "  <thead>\n",
       "    <tr style=\"text-align: right;\">\n",
       "      <th></th>\n",
       "      <th>Col1</th>\n",
       "      <th>Col2</th>\n",
       "      <th>Col3</th>\n",
       "      <th>Col4</th>\n",
       "    </tr>\n",
       "  </thead>\n",
       "  <tbody>\n",
       "    <tr>\n",
       "      <th>A</th>\n",
       "      <td>-1.225744</td>\n",
       "      <td>-1.451331</td>\n",
       "      <td>-0.659887</td>\n",
       "      <td>1.580038</td>\n",
       "    </tr>\n",
       "  </tbody>\n",
       "</table>\n",
       "</div>"
      ],
      "text/plain": [
       "       Col1      Col2      Col3      Col4\n",
       "A -1.225744 -1.451331 -0.659887  1.580038"
      ]
     },
     "execution_count": 25,
     "metadata": {},
     "output_type": "execute_result"
    }
   ],
   "source": [
    "df.head(1)"
   ]
  },
  {
   "cell_type": "code",
   "execution_count": 26,
   "id": "22470ce7",
   "metadata": {},
   "outputs": [],
   "source": [
    "df_1.columns = new_columns"
   ]
  },
  {
   "cell_type": "code",
   "execution_count": 27,
   "id": "85ba7618",
   "metadata": {},
   "outputs": [
    {
     "data": {
      "text/html": [
       "<div>\n",
       "<style scoped>\n",
       "    .dataframe tbody tr th:only-of-type {\n",
       "        vertical-align: middle;\n",
       "    }\n",
       "\n",
       "    .dataframe tbody tr th {\n",
       "        vertical-align: top;\n",
       "    }\n",
       "\n",
       "    .dataframe thead th {\n",
       "        text-align: right;\n",
       "    }\n",
       "</style>\n",
       "<table border=\"1\" class=\"dataframe\">\n",
       "  <thead>\n",
       "    <tr style=\"text-align: right;\">\n",
       "      <th></th>\n",
       "      <th>Col1</th>\n",
       "      <th>Col2</th>\n",
       "      <th>Col3</th>\n",
       "      <th>Col4</th>\n",
       "    </tr>\n",
       "  </thead>\n",
       "  <tbody>\n",
       "    <tr>\n",
       "      <th>A</th>\n",
       "      <td>NaN</td>\n",
       "      <td>NaN</td>\n",
       "      <td>NaN</td>\n",
       "      <td>1.580038</td>\n",
       "    </tr>\n",
       "    <tr>\n",
       "      <th>B</th>\n",
       "      <td>NaN</td>\n",
       "      <td>NaN</td>\n",
       "      <td>NaN</td>\n",
       "      <td>NaN</td>\n",
       "    </tr>\n",
       "    <tr>\n",
       "      <th>C</th>\n",
       "      <td>NaN</td>\n",
       "      <td>0.76639</td>\n",
       "      <td>0.950819</td>\n",
       "      <td>1.440794</td>\n",
       "    </tr>\n",
       "  </tbody>\n",
       "</table>\n",
       "</div>"
      ],
      "text/plain": [
       "   Col1     Col2      Col3      Col4\n",
       "A   NaN      NaN       NaN  1.580038\n",
       "B   NaN      NaN       NaN       NaN\n",
       "C   NaN  0.76639  0.950819  1.440794"
      ]
     },
     "execution_count": 27,
     "metadata": {},
     "output_type": "execute_result"
    }
   ],
   "source": [
    "df_1.head(3)"
   ]
  },
  {
   "cell_type": "code",
   "execution_count": 28,
   "id": "5eeb9136",
   "metadata": {},
   "outputs": [
    {
     "data": {
      "text/plain": [
       "Col1    3\n",
       "Col2    2\n",
       "Col3    3\n",
       "Col4    2\n",
       "dtype: int64"
      ]
     },
     "execution_count": 28,
     "metadata": {},
     "output_type": "execute_result"
    }
   ],
   "source": [
    "df_1.isna().sum()"
   ]
  },
  {
   "cell_type": "code",
   "execution_count": 29,
   "id": "348daf9f",
   "metadata": {},
   "outputs": [
    {
     "data": {
      "text/html": [
       "<div>\n",
       "<style scoped>\n",
       "    .dataframe tbody tr th:only-of-type {\n",
       "        vertical-align: middle;\n",
       "    }\n",
       "\n",
       "    .dataframe tbody tr th {\n",
       "        vertical-align: top;\n",
       "    }\n",
       "\n",
       "    .dataframe thead th {\n",
       "        text-align: right;\n",
       "    }\n",
       "</style>\n",
       "<table border=\"1\" class=\"dataframe\">\n",
       "  <thead>\n",
       "    <tr style=\"text-align: right;\">\n",
       "      <th></th>\n",
       "      <th>Col1</th>\n",
       "      <th>Col2</th>\n",
       "      <th>Col3</th>\n",
       "      <th>Col4</th>\n",
       "      <th>new</th>\n",
       "    </tr>\n",
       "  </thead>\n",
       "  <tbody>\n",
       "    <tr>\n",
       "      <th>A</th>\n",
       "      <td>-1.225744</td>\n",
       "      <td>-1.451331</td>\n",
       "      <td>-0.659887</td>\n",
       "      <td>1.580038</td>\n",
       "      <td>-1.885630</td>\n",
       "    </tr>\n",
       "    <tr>\n",
       "      <th>B</th>\n",
       "      <td>-0.608178</td>\n",
       "      <td>-1.462948</td>\n",
       "      <td>-0.858922</td>\n",
       "      <td>-1.109464</td>\n",
       "      <td>-1.467100</td>\n",
       "    </tr>\n",
       "    <tr>\n",
       "      <th>C</th>\n",
       "      <td>-0.265673</td>\n",
       "      <td>0.766390</td>\n",
       "      <td>0.950819</td>\n",
       "      <td>1.440794</td>\n",
       "      <td>0.685146</td>\n",
       "    </tr>\n",
       "    <tr>\n",
       "      <th>D</th>\n",
       "      <td>0.109286</td>\n",
       "      <td>0.595527</td>\n",
       "      <td>-0.546931</td>\n",
       "      <td>-1.010402</td>\n",
       "      <td>-0.437644</td>\n",
       "    </tr>\n",
       "    <tr>\n",
       "      <th>E</th>\n",
       "      <td>0.477122</td>\n",
       "      <td>1.221871</td>\n",
       "      <td>0.655995</td>\n",
       "      <td>0.241874</td>\n",
       "      <td>1.133118</td>\n",
       "    </tr>\n",
       "  </tbody>\n",
       "</table>\n",
       "</div>"
      ],
      "text/plain": [
       "       Col1      Col2      Col3      Col4       new\n",
       "A -1.225744 -1.451331 -0.659887  1.580038 -1.885630\n",
       "B -0.608178 -1.462948 -0.858922 -1.109464 -1.467100\n",
       "C -0.265673  0.766390  0.950819  1.440794  0.685146\n",
       "D  0.109286  0.595527 -0.546931 -1.010402 -0.437644\n",
       "E  0.477122  1.221871  0.655995  0.241874  1.133118"
      ]
     },
     "execution_count": 29,
     "metadata": {},
     "output_type": "execute_result"
    }
   ],
   "source": [
    "df['new'] = df['Col1'] + df['Col3']\n",
    "df.head()"
   ]
  },
  {
   "cell_type": "code",
   "execution_count": 30,
   "id": "69806708",
   "metadata": {},
   "outputs": [
    {
     "data": {
      "text/html": [
       "<div>\n",
       "<style scoped>\n",
       "    .dataframe tbody tr th:only-of-type {\n",
       "        vertical-align: middle;\n",
       "    }\n",
       "\n",
       "    .dataframe tbody tr th {\n",
       "        vertical-align: top;\n",
       "    }\n",
       "\n",
       "    .dataframe thead th {\n",
       "        text-align: right;\n",
       "    }\n",
       "</style>\n",
       "<table border=\"1\" class=\"dataframe\">\n",
       "  <thead>\n",
       "    <tr style=\"text-align: right;\">\n",
       "      <th></th>\n",
       "      <th>Col1</th>\n",
       "      <th>Col2</th>\n",
       "      <th>Col3</th>\n",
       "      <th>Col4</th>\n",
       "      <th>new</th>\n",
       "      <th>Minus</th>\n",
       "    </tr>\n",
       "  </thead>\n",
       "  <tbody>\n",
       "    <tr>\n",
       "      <th>A</th>\n",
       "      <td>-1.225744</td>\n",
       "      <td>-1.451331</td>\n",
       "      <td>-0.659887</td>\n",
       "      <td>1.580038</td>\n",
       "      <td>-1.885630</td>\n",
       "      <td>-3.465668</td>\n",
       "    </tr>\n",
       "    <tr>\n",
       "      <th>B</th>\n",
       "      <td>-0.608178</td>\n",
       "      <td>-1.462948</td>\n",
       "      <td>-0.858922</td>\n",
       "      <td>-1.109464</td>\n",
       "      <td>-1.467100</td>\n",
       "      <td>-0.357636</td>\n",
       "    </tr>\n",
       "    <tr>\n",
       "      <th>C</th>\n",
       "      <td>-0.265673</td>\n",
       "      <td>0.766390</td>\n",
       "      <td>0.950819</td>\n",
       "      <td>1.440794</td>\n",
       "      <td>0.685146</td>\n",
       "      <td>-0.755648</td>\n",
       "    </tr>\n",
       "    <tr>\n",
       "      <th>D</th>\n",
       "      <td>0.109286</td>\n",
       "      <td>0.595527</td>\n",
       "      <td>-0.546931</td>\n",
       "      <td>-1.010402</td>\n",
       "      <td>-0.437644</td>\n",
       "      <td>0.572758</td>\n",
       "    </tr>\n",
       "    <tr>\n",
       "      <th>E</th>\n",
       "      <td>0.477122</td>\n",
       "      <td>1.221871</td>\n",
       "      <td>0.655995</td>\n",
       "      <td>0.241874</td>\n",
       "      <td>1.133118</td>\n",
       "      <td>0.891244</td>\n",
       "    </tr>\n",
       "  </tbody>\n",
       "</table>\n",
       "</div>"
      ],
      "text/plain": [
       "       Col1      Col2      Col3      Col4       new     Minus\n",
       "A -1.225744 -1.451331 -0.659887  1.580038 -1.885630 -3.465668\n",
       "B -0.608178 -1.462948 -0.858922 -1.109464 -1.467100 -0.357636\n",
       "C -0.265673  0.766390  0.950819  1.440794  0.685146 -0.755648\n",
       "D  0.109286  0.595527 -0.546931 -1.010402 -0.437644  0.572758\n",
       "E  0.477122  1.221871  0.655995  0.241874  1.133118  0.891244"
      ]
     },
     "execution_count": 30,
     "metadata": {},
     "output_type": "execute_result"
    }
   ],
   "source": [
    "df['Minus'] = df['new'] - df['Col4']\n",
    "df.head()"
   ]
  },
  {
   "cell_type": "code",
   "execution_count": 31,
   "id": "ec157a97",
   "metadata": {},
   "outputs": [
    {
     "data": {
      "text/plain": [
       "Index(['Col1', 'Col2', 'Col3', 'Col4', 'new', 'Minus'], dtype='object')"
      ]
     },
     "execution_count": 31,
     "metadata": {},
     "output_type": "execute_result"
    }
   ],
   "source": [
    "df.columns\n",
    "# this will return the columns name"
   ]
  },
  {
   "cell_type": "code",
   "execution_count": 32,
   "id": "aa14a47d",
   "metadata": {},
   "outputs": [
    {
     "name": "stdout",
     "output_type": "stream",
     "text": [
      "<class 'pandas.core.frame.DataFrame'>\n",
      "Index: 5 entries, A to E\n",
      "Data columns (total 6 columns):\n",
      " #   Column  Non-Null Count  Dtype  \n",
      "---  ------  --------------  -----  \n",
      " 0   Col1    5 non-null      float64\n",
      " 1   Col2    5 non-null      float64\n",
      " 2   Col3    5 non-null      float64\n",
      " 3   Col4    5 non-null      float64\n",
      " 4   new     5 non-null      float64\n",
      " 5   Minus   5 non-null      float64\n",
      "dtypes: float64(6)\n",
      "memory usage: 452.0+ bytes\n"
     ]
    }
   ],
   "source": [
    "df.info()"
   ]
  },
  {
   "cell_type": "code",
   "execution_count": 33,
   "id": "b802e398",
   "metadata": {},
   "outputs": [
    {
     "name": "stdout",
     "output_type": "stream",
     "text": [
      "<class 'pandas.core.frame.DataFrame'>\n",
      "Index: 5 entries, A to E\n",
      "Data columns (total 4 columns):\n",
      " #   Column  Non-Null Count  Dtype  \n",
      "---  ------  --------------  -----  \n",
      " 0   Col1    2 non-null      float64\n",
      " 1   Col2    3 non-null      float64\n",
      " 2   Col3    2 non-null      float64\n",
      " 3   Col4    3 non-null      float64\n",
      "dtypes: float64(4)\n",
      "memory usage: 372.0+ bytes\n"
     ]
    }
   ],
   "source": [
    "df_1.info()"
   ]
  },
  {
   "cell_type": "code",
   "execution_count": 34,
   "id": "aeae5bc9",
   "metadata": {},
   "outputs": [
    {
     "data": {
      "text/html": [
       "<div>\n",
       "<style scoped>\n",
       "    .dataframe tbody tr th:only-of-type {\n",
       "        vertical-align: middle;\n",
       "    }\n",
       "\n",
       "    .dataframe tbody tr th {\n",
       "        vertical-align: top;\n",
       "    }\n",
       "\n",
       "    .dataframe thead th {\n",
       "        text-align: right;\n",
       "    }\n",
       "</style>\n",
       "<table border=\"1\" class=\"dataframe\">\n",
       "  <thead>\n",
       "    <tr style=\"text-align: right;\">\n",
       "      <th></th>\n",
       "      <th>Col1</th>\n",
       "      <th>Col2</th>\n",
       "      <th>Col3</th>\n",
       "      <th>Col4</th>\n",
       "      <th>new</th>\n",
       "      <th>Minus</th>\n",
       "    </tr>\n",
       "  </thead>\n",
       "  <tbody>\n",
       "    <tr>\n",
       "      <th>count</th>\n",
       "      <td>5.000000</td>\n",
       "      <td>5.000000</td>\n",
       "      <td>5.000000</td>\n",
       "      <td>5.000000</td>\n",
       "      <td>5.000000</td>\n",
       "      <td>5.000000</td>\n",
       "    </tr>\n",
       "    <tr>\n",
       "      <th>mean</th>\n",
       "      <td>-0.302637</td>\n",
       "      <td>-0.066098</td>\n",
       "      <td>-0.091785</td>\n",
       "      <td>0.228568</td>\n",
       "      <td>-0.394422</td>\n",
       "      <td>-0.622990</td>\n",
       "    </tr>\n",
       "    <tr>\n",
       "      <th>std</th>\n",
       "      <td>0.656611</td>\n",
       "      <td>1.290321</td>\n",
       "      <td>0.831354</td>\n",
       "      <td>1.286616</td>\n",
       "      <td>1.311016</td>\n",
       "      <td>1.724206</td>\n",
       "    </tr>\n",
       "    <tr>\n",
       "      <th>min</th>\n",
       "      <td>-1.225744</td>\n",
       "      <td>-1.462948</td>\n",
       "      <td>-0.858922</td>\n",
       "      <td>-1.109464</td>\n",
       "      <td>-1.885630</td>\n",
       "      <td>-3.465668</td>\n",
       "    </tr>\n",
       "    <tr>\n",
       "      <th>25%</th>\n",
       "      <td>-0.608178</td>\n",
       "      <td>-1.451331</td>\n",
       "      <td>-0.659887</td>\n",
       "      <td>-1.010402</td>\n",
       "      <td>-1.467100</td>\n",
       "      <td>-0.755648</td>\n",
       "    </tr>\n",
       "    <tr>\n",
       "      <th>50%</th>\n",
       "      <td>-0.265673</td>\n",
       "      <td>0.595527</td>\n",
       "      <td>-0.546931</td>\n",
       "      <td>0.241874</td>\n",
       "      <td>-0.437644</td>\n",
       "      <td>-0.357636</td>\n",
       "    </tr>\n",
       "    <tr>\n",
       "      <th>75%</th>\n",
       "      <td>0.109286</td>\n",
       "      <td>0.766390</td>\n",
       "      <td>0.655995</td>\n",
       "      <td>1.440794</td>\n",
       "      <td>0.685146</td>\n",
       "      <td>0.572758</td>\n",
       "    </tr>\n",
       "    <tr>\n",
       "      <th>max</th>\n",
       "      <td>0.477122</td>\n",
       "      <td>1.221871</td>\n",
       "      <td>0.950819</td>\n",
       "      <td>1.580038</td>\n",
       "      <td>1.133118</td>\n",
       "      <td>0.891244</td>\n",
       "    </tr>\n",
       "  </tbody>\n",
       "</table>\n",
       "</div>"
      ],
      "text/plain": [
       "           Col1      Col2      Col3      Col4       new     Minus\n",
       "count  5.000000  5.000000  5.000000  5.000000  5.000000  5.000000\n",
       "mean  -0.302637 -0.066098 -0.091785  0.228568 -0.394422 -0.622990\n",
       "std    0.656611  1.290321  0.831354  1.286616  1.311016  1.724206\n",
       "min   -1.225744 -1.462948 -0.858922 -1.109464 -1.885630 -3.465668\n",
       "25%   -0.608178 -1.451331 -0.659887 -1.010402 -1.467100 -0.755648\n",
       "50%   -0.265673  0.595527 -0.546931  0.241874 -0.437644 -0.357636\n",
       "75%    0.109286  0.766390  0.655995  1.440794  0.685146  0.572758\n",
       "max    0.477122  1.221871  0.950819  1.580038  1.133118  0.891244"
      ]
     },
     "execution_count": 34,
     "metadata": {},
     "output_type": "execute_result"
    }
   ],
   "source": [
    "df.describe()"
   ]
  },
  {
   "cell_type": "code",
   "execution_count": 35,
   "id": "f2ae2c13",
   "metadata": {},
   "outputs": [
    {
     "data": {
      "text/html": [
       "<div>\n",
       "<style scoped>\n",
       "    .dataframe tbody tr th:only-of-type {\n",
       "        vertical-align: middle;\n",
       "    }\n",
       "\n",
       "    .dataframe tbody tr th {\n",
       "        vertical-align: top;\n",
       "    }\n",
       "\n",
       "    .dataframe thead th {\n",
       "        text-align: right;\n",
       "    }\n",
       "</style>\n",
       "<table border=\"1\" class=\"dataframe\">\n",
       "  <thead>\n",
       "    <tr style=\"text-align: right;\">\n",
       "      <th></th>\n",
       "      <th>count</th>\n",
       "      <th>mean</th>\n",
       "      <th>std</th>\n",
       "      <th>min</th>\n",
       "      <th>25%</th>\n",
       "      <th>50%</th>\n",
       "      <th>75%</th>\n",
       "      <th>max</th>\n",
       "    </tr>\n",
       "  </thead>\n",
       "  <tbody>\n",
       "    <tr>\n",
       "      <th>Col1</th>\n",
       "      <td>5.0</td>\n",
       "      <td>-0.302637</td>\n",
       "      <td>0.656611</td>\n",
       "      <td>-1.225744</td>\n",
       "      <td>-0.608178</td>\n",
       "      <td>-0.265673</td>\n",
       "      <td>0.109286</td>\n",
       "      <td>0.477122</td>\n",
       "    </tr>\n",
       "    <tr>\n",
       "      <th>Col2</th>\n",
       "      <td>5.0</td>\n",
       "      <td>-0.066098</td>\n",
       "      <td>1.290321</td>\n",
       "      <td>-1.462948</td>\n",
       "      <td>-1.451331</td>\n",
       "      <td>0.595527</td>\n",
       "      <td>0.766390</td>\n",
       "      <td>1.221871</td>\n",
       "    </tr>\n",
       "    <tr>\n",
       "      <th>Col3</th>\n",
       "      <td>5.0</td>\n",
       "      <td>-0.091785</td>\n",
       "      <td>0.831354</td>\n",
       "      <td>-0.858922</td>\n",
       "      <td>-0.659887</td>\n",
       "      <td>-0.546931</td>\n",
       "      <td>0.655995</td>\n",
       "      <td>0.950819</td>\n",
       "    </tr>\n",
       "    <tr>\n",
       "      <th>Col4</th>\n",
       "      <td>5.0</td>\n",
       "      <td>0.228568</td>\n",
       "      <td>1.286616</td>\n",
       "      <td>-1.109464</td>\n",
       "      <td>-1.010402</td>\n",
       "      <td>0.241874</td>\n",
       "      <td>1.440794</td>\n",
       "      <td>1.580038</td>\n",
       "    </tr>\n",
       "    <tr>\n",
       "      <th>new</th>\n",
       "      <td>5.0</td>\n",
       "      <td>-0.394422</td>\n",
       "      <td>1.311016</td>\n",
       "      <td>-1.885630</td>\n",
       "      <td>-1.467100</td>\n",
       "      <td>-0.437644</td>\n",
       "      <td>0.685146</td>\n",
       "      <td>1.133118</td>\n",
       "    </tr>\n",
       "    <tr>\n",
       "      <th>Minus</th>\n",
       "      <td>5.0</td>\n",
       "      <td>-0.622990</td>\n",
       "      <td>1.724206</td>\n",
       "      <td>-3.465668</td>\n",
       "      <td>-0.755648</td>\n",
       "      <td>-0.357636</td>\n",
       "      <td>0.572758</td>\n",
       "      <td>0.891244</td>\n",
       "    </tr>\n",
       "  </tbody>\n",
       "</table>\n",
       "</div>"
      ],
      "text/plain": [
       "       count      mean       std       min       25%       50%       75%  \\\n",
       "Col1     5.0 -0.302637  0.656611 -1.225744 -0.608178 -0.265673  0.109286   \n",
       "Col2     5.0 -0.066098  1.290321 -1.462948 -1.451331  0.595527  0.766390   \n",
       "Col3     5.0 -0.091785  0.831354 -0.858922 -0.659887 -0.546931  0.655995   \n",
       "Col4     5.0  0.228568  1.286616 -1.109464 -1.010402  0.241874  1.440794   \n",
       "new      5.0 -0.394422  1.311016 -1.885630 -1.467100 -0.437644  0.685146   \n",
       "Minus    5.0 -0.622990  1.724206 -3.465668 -0.755648 -0.357636  0.572758   \n",
       "\n",
       "            max  \n",
       "Col1   0.477122  \n",
       "Col2   1.221871  \n",
       "Col3   0.950819  \n",
       "Col4   1.580038  \n",
       "new    1.133118  \n",
       "Minus  0.891244  "
      ]
     },
     "execution_count": 35,
     "metadata": {},
     "output_type": "execute_result"
    }
   ],
   "source": [
    "df.describe().transpose()"
   ]
  },
  {
   "cell_type": "code",
   "execution_count": 36,
   "id": "4a682c0c",
   "metadata": {},
   "outputs": [
    {
     "data": {
      "text/plain": [
       "Col1     0.109286\n",
       "Col2     0.595527\n",
       "Col3    -0.546931\n",
       "Col4    -1.010402\n",
       "new     -0.437644\n",
       "Minus    0.572758\n",
       "Name: D, dtype: float64"
      ]
     },
     "execution_count": 36,
     "metadata": {},
     "output_type": "execute_result"
    }
   ],
   "source": [
    "df.loc['D']"
   ]
  },
  {
   "cell_type": "code",
   "execution_count": 37,
   "id": "82b752f2",
   "metadata": {},
   "outputs": [
    {
     "data": {
      "text/html": [
       "<div>\n",
       "<style scoped>\n",
       "    .dataframe tbody tr th:only-of-type {\n",
       "        vertical-align: middle;\n",
       "    }\n",
       "\n",
       "    .dataframe tbody tr th {\n",
       "        vertical-align: top;\n",
       "    }\n",
       "\n",
       "    .dataframe thead th {\n",
       "        text-align: right;\n",
       "    }\n",
       "</style>\n",
       "<table border=\"1\" class=\"dataframe\">\n",
       "  <thead>\n",
       "    <tr style=\"text-align: right;\">\n",
       "      <th></th>\n",
       "      <th>Col1</th>\n",
       "      <th>Col2</th>\n",
       "      <th>Col3</th>\n",
       "      <th>Col4</th>\n",
       "      <th>new</th>\n",
       "      <th>Minus</th>\n",
       "    </tr>\n",
       "  </thead>\n",
       "  <tbody>\n",
       "    <tr>\n",
       "      <th>D</th>\n",
       "      <td>0.109286</td>\n",
       "      <td>0.595527</td>\n",
       "      <td>-0.546931</td>\n",
       "      <td>-1.010402</td>\n",
       "      <td>-0.437644</td>\n",
       "      <td>0.572758</td>\n",
       "    </tr>\n",
       "    <tr>\n",
       "      <th>E</th>\n",
       "      <td>0.477122</td>\n",
       "      <td>1.221871</td>\n",
       "      <td>0.655995</td>\n",
       "      <td>0.241874</td>\n",
       "      <td>1.133118</td>\n",
       "      <td>0.891244</td>\n",
       "    </tr>\n",
       "  </tbody>\n",
       "</table>\n",
       "</div>"
      ],
      "text/plain": [
       "       Col1      Col2      Col3      Col4       new     Minus\n",
       "D  0.109286  0.595527 -0.546931 -1.010402 -0.437644  0.572758\n",
       "E  0.477122  1.221871  0.655995  0.241874  1.133118  0.891244"
      ]
     },
     "execution_count": 37,
     "metadata": {},
     "output_type": "execute_result"
    }
   ],
   "source": [
    "df.loc[['D','E']]"
   ]
  },
  {
   "cell_type": "code",
   "execution_count": 38,
   "id": "c0518db6",
   "metadata": {},
   "outputs": [],
   "source": [
    "# selecting two rows and columns"
   ]
  },
  {
   "cell_type": "code",
   "execution_count": 39,
   "id": "4fab405a",
   "metadata": {},
   "outputs": [
    {
     "data": {
      "text/html": [
       "<div>\n",
       "<style scoped>\n",
       "    .dataframe tbody tr th:only-of-type {\n",
       "        vertical-align: middle;\n",
       "    }\n",
       "\n",
       "    .dataframe tbody tr th {\n",
       "        vertical-align: top;\n",
       "    }\n",
       "\n",
       "    .dataframe thead th {\n",
       "        text-align: right;\n",
       "    }\n",
       "</style>\n",
       "<table border=\"1\" class=\"dataframe\">\n",
       "  <thead>\n",
       "    <tr style=\"text-align: right;\">\n",
       "      <th></th>\n",
       "      <th>Col2</th>\n",
       "      <th>Col4</th>\n",
       "    </tr>\n",
       "  </thead>\n",
       "  <tbody>\n",
       "    <tr>\n",
       "      <th>A</th>\n",
       "      <td>-1.451331</td>\n",
       "      <td>1.580038</td>\n",
       "    </tr>\n",
       "    <tr>\n",
       "      <th>B</th>\n",
       "      <td>-1.462948</td>\n",
       "      <td>-1.109464</td>\n",
       "    </tr>\n",
       "  </tbody>\n",
       "</table>\n",
       "</div>"
      ],
      "text/plain": [
       "       Col2      Col4\n",
       "A -1.451331  1.580038\n",
       "B -1.462948 -1.109464"
      ]
     },
     "execution_count": 39,
     "metadata": {},
     "output_type": "execute_result"
    }
   ],
   "source": [
    "df.loc[['A','B']][['Col2','Col4']]"
   ]
  },
  {
   "cell_type": "code",
   "execution_count": 40,
   "id": "6ac0bc10",
   "metadata": {},
   "outputs": [
    {
     "data": {
      "text/html": [
       "<div>\n",
       "<style scoped>\n",
       "    .dataframe tbody tr th:only-of-type {\n",
       "        vertical-align: middle;\n",
       "    }\n",
       "\n",
       "    .dataframe tbody tr th {\n",
       "        vertical-align: top;\n",
       "    }\n",
       "\n",
       "    .dataframe thead th {\n",
       "        text-align: right;\n",
       "    }\n",
       "</style>\n",
       "<table border=\"1\" class=\"dataframe\">\n",
       "  <thead>\n",
       "    <tr style=\"text-align: right;\">\n",
       "      <th></th>\n",
       "      <th>Col1</th>\n",
       "      <th>Col2</th>\n",
       "      <th>Col3</th>\n",
       "      <th>Col4</th>\n",
       "      <th>new</th>\n",
       "      <th>Minus</th>\n",
       "    </tr>\n",
       "  </thead>\n",
       "  <tbody>\n",
       "    <tr>\n",
       "      <th>A</th>\n",
       "      <td>-1.225744</td>\n",
       "      <td>-1.451331</td>\n",
       "      <td>-0.659887</td>\n",
       "      <td>1.580038</td>\n",
       "      <td>-1.885630</td>\n",
       "      <td>-3.465668</td>\n",
       "    </tr>\n",
       "    <tr>\n",
       "      <th>B</th>\n",
       "      <td>-0.608178</td>\n",
       "      <td>-1.462948</td>\n",
       "      <td>-0.858922</td>\n",
       "      <td>-1.109464</td>\n",
       "      <td>-1.467100</td>\n",
       "      <td>-0.357636</td>\n",
       "    </tr>\n",
       "    <tr>\n",
       "      <th>C</th>\n",
       "      <td>-0.265673</td>\n",
       "      <td>0.766390</td>\n",
       "      <td>0.950819</td>\n",
       "      <td>1.440794</td>\n",
       "      <td>0.685146</td>\n",
       "      <td>-0.755648</td>\n",
       "    </tr>\n",
       "    <tr>\n",
       "      <th>D</th>\n",
       "      <td>0.109286</td>\n",
       "      <td>0.595527</td>\n",
       "      <td>-0.546931</td>\n",
       "      <td>-1.010402</td>\n",
       "      <td>-0.437644</td>\n",
       "      <td>0.572758</td>\n",
       "    </tr>\n",
       "    <tr>\n",
       "      <th>E</th>\n",
       "      <td>0.477122</td>\n",
       "      <td>1.221871</td>\n",
       "      <td>0.655995</td>\n",
       "      <td>0.241874</td>\n",
       "      <td>1.133118</td>\n",
       "      <td>0.891244</td>\n",
       "    </tr>\n",
       "  </tbody>\n",
       "</table>\n",
       "</div>"
      ],
      "text/plain": [
       "       Col1      Col2      Col3      Col4       new     Minus\n",
       "A -1.225744 -1.451331 -0.659887  1.580038 -1.885630 -3.465668\n",
       "B -0.608178 -1.462948 -0.858922 -1.109464 -1.467100 -0.357636\n",
       "C -0.265673  0.766390  0.950819  1.440794  0.685146 -0.755648\n",
       "D  0.109286  0.595527 -0.546931 -1.010402 -0.437644  0.572758\n",
       "E  0.477122  1.221871  0.655995  0.241874  1.133118  0.891244"
      ]
     },
     "execution_count": 40,
     "metadata": {},
     "output_type": "execute_result"
    }
   ],
   "source": [
    "df"
   ]
  },
  {
   "cell_type": "code",
   "execution_count": 41,
   "id": "fd1ec026",
   "metadata": {},
   "outputs": [
    {
     "data": {
      "text/plain": [
       "A    False\n",
       "B    False\n",
       "C     True\n",
       "D     True\n",
       "E     True\n",
       "Name: new, dtype: bool"
      ]
     },
     "execution_count": 41,
     "metadata": {},
     "output_type": "execute_result"
    }
   ],
   "source": [
    "df.new > -0.8"
   ]
  },
  {
   "cell_type": "code",
   "execution_count": 42,
   "id": "8d0ecdb3",
   "metadata": {},
   "outputs": [],
   "source": [
    "df = df[df> 0 ]"
   ]
  },
  {
   "cell_type": "code",
   "execution_count": 43,
   "id": "a6e8d7e1",
   "metadata": {},
   "outputs": [
    {
     "data": {
      "text/html": [
       "<div>\n",
       "<style scoped>\n",
       "    .dataframe tbody tr th:only-of-type {\n",
       "        vertical-align: middle;\n",
       "    }\n",
       "\n",
       "    .dataframe tbody tr th {\n",
       "        vertical-align: top;\n",
       "    }\n",
       "\n",
       "    .dataframe thead th {\n",
       "        text-align: right;\n",
       "    }\n",
       "</style>\n",
       "<table border=\"1\" class=\"dataframe\">\n",
       "  <thead>\n",
       "    <tr style=\"text-align: right;\">\n",
       "      <th></th>\n",
       "      <th>Col1</th>\n",
       "      <th>Col2</th>\n",
       "      <th>Col3</th>\n",
       "      <th>Col4</th>\n",
       "      <th>new</th>\n",
       "      <th>Minus</th>\n",
       "    </tr>\n",
       "  </thead>\n",
       "  <tbody>\n",
       "    <tr>\n",
       "      <th>A</th>\n",
       "      <td>NaN</td>\n",
       "      <td>NaN</td>\n",
       "      <td>NaN</td>\n",
       "      <td>1.580038</td>\n",
       "      <td>NaN</td>\n",
       "      <td>NaN</td>\n",
       "    </tr>\n",
       "    <tr>\n",
       "      <th>B</th>\n",
       "      <td>NaN</td>\n",
       "      <td>NaN</td>\n",
       "      <td>NaN</td>\n",
       "      <td>NaN</td>\n",
       "      <td>NaN</td>\n",
       "      <td>NaN</td>\n",
       "    </tr>\n",
       "    <tr>\n",
       "      <th>C</th>\n",
       "      <td>NaN</td>\n",
       "      <td>0.766390</td>\n",
       "      <td>0.950819</td>\n",
       "      <td>1.440794</td>\n",
       "      <td>0.685146</td>\n",
       "      <td>NaN</td>\n",
       "    </tr>\n",
       "    <tr>\n",
       "      <th>D</th>\n",
       "      <td>0.109286</td>\n",
       "      <td>0.595527</td>\n",
       "      <td>NaN</td>\n",
       "      <td>NaN</td>\n",
       "      <td>NaN</td>\n",
       "      <td>0.572758</td>\n",
       "    </tr>\n",
       "    <tr>\n",
       "      <th>E</th>\n",
       "      <td>0.477122</td>\n",
       "      <td>1.221871</td>\n",
       "      <td>0.655995</td>\n",
       "      <td>0.241874</td>\n",
       "      <td>1.133118</td>\n",
       "      <td>0.891244</td>\n",
       "    </tr>\n",
       "  </tbody>\n",
       "</table>\n",
       "</div>"
      ],
      "text/plain": [
       "       Col1      Col2      Col3      Col4       new     Minus\n",
       "A       NaN       NaN       NaN  1.580038       NaN       NaN\n",
       "B       NaN       NaN       NaN       NaN       NaN       NaN\n",
       "C       NaN  0.766390  0.950819  1.440794  0.685146       NaN\n",
       "D  0.109286  0.595527       NaN       NaN       NaN  0.572758\n",
       "E  0.477122  1.221871  0.655995  0.241874  1.133118  0.891244"
      ]
     },
     "execution_count": 43,
     "metadata": {},
     "output_type": "execute_result"
    }
   ],
   "source": [
    "df"
   ]
  },
  {
   "cell_type": "code",
   "execution_count": 44,
   "id": "b1f2792c",
   "metadata": {},
   "outputs": [
    {
     "data": {
      "text/html": [
       "<style type=\"text/css\">\n",
       "#T_511f4_row0_col0, #T_511f4_row0_col1, #T_511f4_row0_col2, #T_511f4_row0_col4, #T_511f4_row0_col5, #T_511f4_row1_col0, #T_511f4_row1_col1, #T_511f4_row1_col2, #T_511f4_row1_col3, #T_511f4_row1_col4, #T_511f4_row1_col5, #T_511f4_row2_col0, #T_511f4_row2_col5, #T_511f4_row3_col2, #T_511f4_row3_col3, #T_511f4_row3_col4 {\n",
       "  background-color: red;\n",
       "}\n",
       "</style>\n",
       "<table id=\"T_511f4\">\n",
       "  <thead>\n",
       "    <tr>\n",
       "      <th class=\"blank level0\" >&nbsp;</th>\n",
       "      <th id=\"T_511f4_level0_col0\" class=\"col_heading level0 col0\" >Col1</th>\n",
       "      <th id=\"T_511f4_level0_col1\" class=\"col_heading level0 col1\" >Col2</th>\n",
       "      <th id=\"T_511f4_level0_col2\" class=\"col_heading level0 col2\" >Col3</th>\n",
       "      <th id=\"T_511f4_level0_col3\" class=\"col_heading level0 col3\" >Col4</th>\n",
       "      <th id=\"T_511f4_level0_col4\" class=\"col_heading level0 col4\" >new</th>\n",
       "      <th id=\"T_511f4_level0_col5\" class=\"col_heading level0 col5\" >Minus</th>\n",
       "    </tr>\n",
       "  </thead>\n",
       "  <tbody>\n",
       "    <tr>\n",
       "      <th id=\"T_511f4_level0_row0\" class=\"row_heading level0 row0\" >A</th>\n",
       "      <td id=\"T_511f4_row0_col0\" class=\"data row0 col0\" >nan</td>\n",
       "      <td id=\"T_511f4_row0_col1\" class=\"data row0 col1\" >nan</td>\n",
       "      <td id=\"T_511f4_row0_col2\" class=\"data row0 col2\" >nan</td>\n",
       "      <td id=\"T_511f4_row0_col3\" class=\"data row0 col3\" >1.580038</td>\n",
       "      <td id=\"T_511f4_row0_col4\" class=\"data row0 col4\" >nan</td>\n",
       "      <td id=\"T_511f4_row0_col5\" class=\"data row0 col5\" >nan</td>\n",
       "    </tr>\n",
       "    <tr>\n",
       "      <th id=\"T_511f4_level0_row1\" class=\"row_heading level0 row1\" >B</th>\n",
       "      <td id=\"T_511f4_row1_col0\" class=\"data row1 col0\" >nan</td>\n",
       "      <td id=\"T_511f4_row1_col1\" class=\"data row1 col1\" >nan</td>\n",
       "      <td id=\"T_511f4_row1_col2\" class=\"data row1 col2\" >nan</td>\n",
       "      <td id=\"T_511f4_row1_col3\" class=\"data row1 col3\" >nan</td>\n",
       "      <td id=\"T_511f4_row1_col4\" class=\"data row1 col4\" >nan</td>\n",
       "      <td id=\"T_511f4_row1_col5\" class=\"data row1 col5\" >nan</td>\n",
       "    </tr>\n",
       "    <tr>\n",
       "      <th id=\"T_511f4_level0_row2\" class=\"row_heading level0 row2\" >C</th>\n",
       "      <td id=\"T_511f4_row2_col0\" class=\"data row2 col0\" >nan</td>\n",
       "      <td id=\"T_511f4_row2_col1\" class=\"data row2 col1\" >0.766390</td>\n",
       "      <td id=\"T_511f4_row2_col2\" class=\"data row2 col2\" >0.950819</td>\n",
       "      <td id=\"T_511f4_row2_col3\" class=\"data row2 col3\" >1.440794</td>\n",
       "      <td id=\"T_511f4_row2_col4\" class=\"data row2 col4\" >0.685146</td>\n",
       "      <td id=\"T_511f4_row2_col5\" class=\"data row2 col5\" >nan</td>\n",
       "    </tr>\n",
       "    <tr>\n",
       "      <th id=\"T_511f4_level0_row3\" class=\"row_heading level0 row3\" >D</th>\n",
       "      <td id=\"T_511f4_row3_col0\" class=\"data row3 col0\" >0.109286</td>\n",
       "      <td id=\"T_511f4_row3_col1\" class=\"data row3 col1\" >0.595527</td>\n",
       "      <td id=\"T_511f4_row3_col2\" class=\"data row3 col2\" >nan</td>\n",
       "      <td id=\"T_511f4_row3_col3\" class=\"data row3 col3\" >nan</td>\n",
       "      <td id=\"T_511f4_row3_col4\" class=\"data row3 col4\" >nan</td>\n",
       "      <td id=\"T_511f4_row3_col5\" class=\"data row3 col5\" >0.572758</td>\n",
       "    </tr>\n",
       "    <tr>\n",
       "      <th id=\"T_511f4_level0_row4\" class=\"row_heading level0 row4\" >E</th>\n",
       "      <td id=\"T_511f4_row4_col0\" class=\"data row4 col0\" >0.477122</td>\n",
       "      <td id=\"T_511f4_row4_col1\" class=\"data row4 col1\" >1.221871</td>\n",
       "      <td id=\"T_511f4_row4_col2\" class=\"data row4 col2\" >0.655995</td>\n",
       "      <td id=\"T_511f4_row4_col3\" class=\"data row4 col3\" >0.241874</td>\n",
       "      <td id=\"T_511f4_row4_col4\" class=\"data row4 col4\" >1.133118</td>\n",
       "      <td id=\"T_511f4_row4_col5\" class=\"data row4 col5\" >0.891244</td>\n",
       "    </tr>\n",
       "  </tbody>\n",
       "</table>\n"
      ],
      "text/plain": [
       "<pandas.io.formats.style.Styler at 0x23eab2ecdf0>"
      ]
     },
     "execution_count": 44,
     "metadata": {},
     "output_type": "execute_result"
    }
   ],
   "source": [
    "df.style.highlight_null(null_color=\"red\")"
   ]
  },
  {
   "cell_type": "code",
   "execution_count": 45,
   "id": "ae5cb2d8",
   "metadata": {},
   "outputs": [
    {
     "data": {
      "text/plain": [
       "Col1     3\n",
       "Col2     2\n",
       "Col3     3\n",
       "Col4     2\n",
       "new      3\n",
       "Minus    3\n",
       "dtype: int64"
      ]
     },
     "execution_count": 45,
     "metadata": {},
     "output_type": "execute_result"
    }
   ],
   "source": [
    "df.isna().sum()"
   ]
  },
  {
   "cell_type": "code",
   "execution_count": 46,
   "id": "bb311df8",
   "metadata": {},
   "outputs": [
    {
     "data": {
      "text/html": [
       "<div>\n",
       "<style scoped>\n",
       "    .dataframe tbody tr th:only-of-type {\n",
       "        vertical-align: middle;\n",
       "    }\n",
       "\n",
       "    .dataframe tbody tr th {\n",
       "        vertical-align: top;\n",
       "    }\n",
       "\n",
       "    .dataframe thead th {\n",
       "        text-align: right;\n",
       "    }\n",
       "</style>\n",
       "<table border=\"1\" class=\"dataframe\">\n",
       "  <thead>\n",
       "    <tr style=\"text-align: right;\">\n",
       "      <th></th>\n",
       "      <th>Col1</th>\n",
       "      <th>Col2</th>\n",
       "      <th>Col3</th>\n",
       "      <th>Col4</th>\n",
       "      <th>Minus</th>\n",
       "    </tr>\n",
       "  </thead>\n",
       "  <tbody>\n",
       "    <tr>\n",
       "      <th>A</th>\n",
       "      <td>NaN</td>\n",
       "      <td>NaN</td>\n",
       "      <td>NaN</td>\n",
       "      <td>1.580038</td>\n",
       "      <td>NaN</td>\n",
       "    </tr>\n",
       "    <tr>\n",
       "      <th>B</th>\n",
       "      <td>NaN</td>\n",
       "      <td>NaN</td>\n",
       "      <td>NaN</td>\n",
       "      <td>NaN</td>\n",
       "      <td>NaN</td>\n",
       "    </tr>\n",
       "    <tr>\n",
       "      <th>C</th>\n",
       "      <td>NaN</td>\n",
       "      <td>0.766390</td>\n",
       "      <td>0.950819</td>\n",
       "      <td>1.440794</td>\n",
       "      <td>NaN</td>\n",
       "    </tr>\n",
       "    <tr>\n",
       "      <th>D</th>\n",
       "      <td>0.109286</td>\n",
       "      <td>0.595527</td>\n",
       "      <td>NaN</td>\n",
       "      <td>NaN</td>\n",
       "      <td>0.572758</td>\n",
       "    </tr>\n",
       "    <tr>\n",
       "      <th>E</th>\n",
       "      <td>0.477122</td>\n",
       "      <td>1.221871</td>\n",
       "      <td>0.655995</td>\n",
       "      <td>0.241874</td>\n",
       "      <td>0.891244</td>\n",
       "    </tr>\n",
       "  </tbody>\n",
       "</table>\n",
       "</div>"
      ],
      "text/plain": [
       "       Col1      Col2      Col3      Col4     Minus\n",
       "A       NaN       NaN       NaN  1.580038       NaN\n",
       "B       NaN       NaN       NaN       NaN       NaN\n",
       "C       NaN  0.766390  0.950819  1.440794       NaN\n",
       "D  0.109286  0.595527       NaN       NaN  0.572758\n",
       "E  0.477122  1.221871  0.655995  0.241874  0.891244"
      ]
     },
     "execution_count": 46,
     "metadata": {},
     "output_type": "execute_result"
    }
   ],
   "source": [
    "df.drop('new', axis = 1, inplace = True)\n",
    "df"
   ]
  },
  {
   "cell_type": "code",
   "execution_count": null,
   "id": "2e0fd0f3",
   "metadata": {},
   "outputs": [],
   "source": []
  }
 ],
 "metadata": {
  "kernelspec": {
   "display_name": "Python 3 (ipykernel)",
   "language": "python",
   "name": "python3"
  },
  "language_info": {
   "codemirror_mode": {
    "name": "ipython",
    "version": 3
   },
   "file_extension": ".py",
   "mimetype": "text/x-python",
   "name": "python",
   "nbconvert_exporter": "python",
   "pygments_lexer": "ipython3",
   "version": "3.9.13"
  }
 },
 "nbformat": 4,
 "nbformat_minor": 5
}
