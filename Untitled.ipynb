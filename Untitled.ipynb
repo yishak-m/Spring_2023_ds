{
 "cells": [
  {
   "cell_type": "code",
   "execution_count": 1,
   "id": "5434080c",
   "metadata": {},
   "outputs": [
    {
     "data": {
      "text/plain": [
       "'TEACHER'"
      ]
     },
     "execution_count": 1,
     "metadata": {},
     "output_type": "execute_result"
    }
   ],
   "source": [
    "position = \"TEACHER\"\n",
    "position"
   ]
  },
  {
   "cell_type": "code",
   "execution_count": 2,
   "id": "b9c21b3d",
   "metadata": {},
   "outputs": [
    {
     "data": {
      "text/plain": [
       "'dowmbia'"
      ]
     },
     "execution_count": 2,
     "metadata": {},
     "output_type": "execute_result"
    }
   ],
   "source": [
    "last = 'DOWMBIA'\n",
    "last.lower()"
   ]
  },
  {
   "cell_type": "code",
   "execution_count": 3,
   "id": "61a15e13",
   "metadata": {},
   "outputs": [
    {
     "data": {
      "text/plain": [
       "'Teacher'"
      ]
     },
     "execution_count": 3,
     "metadata": {},
     "output_type": "execute_result"
    }
   ],
   "source": [
    "position.title()"
   ]
  },
  {
   "cell_type": "code",
   "execution_count": 4,
   "id": "8eee61d2",
   "metadata": {},
   "outputs": [],
   "source": [
    "# title() --> will capitalize the first charcter of a string\n",
    "# lower() --> will lowercase all the characters of a string\n",
    "# strip() --> remove sll the unnecessary spaces\n",
    "# lstrip / rstrip / strip "
   ]
  },
  {
   "cell_type": "code",
   "execution_count": 5,
   "id": "7feda57f",
   "metadata": {},
   "outputs": [],
   "source": [
    "### Strip method()"
   ]
  },
  {
   "cell_type": "code",
   "execution_count": 6,
   "id": "36779f7d",
   "metadata": {},
   "outputs": [
    {
     "data": {
      "text/plain": [
       "'     titanic      '"
      ]
     },
     "execution_count": 6,
     "metadata": {},
     "output_type": "execute_result"
    }
   ],
   "source": [
    "data = \"     titanic      \"\n",
    "data"
   ]
  },
  {
   "cell_type": "code",
   "execution_count": 7,
   "id": "c9f449cd",
   "metadata": {},
   "outputs": [
    {
     "data": {
      "text/plain": [
       "18"
      ]
     },
     "execution_count": 7,
     "metadata": {},
     "output_type": "execute_result"
    }
   ],
   "source": [
    "# len will return the length of the data\n",
    "len(data)"
   ]
  },
  {
   "cell_type": "code",
   "execution_count": 8,
   "id": "0a0854dd",
   "metadata": {},
   "outputs": [],
   "source": [
    "# lstrip()\n",
    "left = data.lstrip()"
   ]
  },
  {
   "cell_type": "code",
   "execution_count": 9,
   "id": "63f63a9e",
   "metadata": {},
   "outputs": [
    {
     "data": {
      "text/plain": [
       "'titanic      '"
      ]
     },
     "execution_count": 9,
     "metadata": {},
     "output_type": "execute_result"
    }
   ],
   "source": [
    "left"
   ]
  },
  {
   "cell_type": "code",
   "execution_count": 10,
   "id": "f758d30c",
   "metadata": {},
   "outputs": [
    {
     "data": {
      "text/plain": [
       "13"
      ]
     },
     "execution_count": 10,
     "metadata": {},
     "output_type": "execute_result"
    }
   ],
   "source": [
    "len(left)"
   ]
  },
  {
   "cell_type": "code",
   "execution_count": 11,
   "id": "bd1722c5",
   "metadata": {},
   "outputs": [
    {
     "data": {
      "text/plain": [
       "'     titanic'"
      ]
     },
     "execution_count": 11,
     "metadata": {},
     "output_type": "execute_result"
    }
   ],
   "source": [
    "word = '     titanic    '\n",
    "word.rstrip ()"
   ]
  },
  {
   "cell_type": "code",
   "execution_count": 12,
   "id": "ad2b82ea",
   "metadata": {},
   "outputs": [],
   "source": [
    "word = '  titanic       '\n",
    "right = word.rstrip()\n"
   ]
  },
  {
   "cell_type": "code",
   "execution_count": 13,
   "id": "341c405c",
   "metadata": {},
   "outputs": [
    {
     "data": {
      "text/plain": [
       "'  titanic'"
      ]
     },
     "execution_count": 13,
     "metadata": {},
     "output_type": "execute_result"
    }
   ],
   "source": [
    "right"
   ]
  },
  {
   "cell_type": "code",
   "execution_count": 14,
   "id": "5b888eff",
   "metadata": {},
   "outputs": [
    {
     "data": {
      "text/plain": [
       "9"
      ]
     },
     "execution_count": 14,
     "metadata": {},
     "output_type": "execute_result"
    }
   ],
   "source": [
    "len(right)"
   ]
  },
  {
   "cell_type": "code",
   "execution_count": 15,
   "id": "8ad7bf23",
   "metadata": {},
   "outputs": [],
   "source": [
    "# Center method\n",
    "title = 'Information T'"
   ]
  },
  {
   "cell_type": "code",
   "execution_count": 16,
   "id": "6938e4b6",
   "metadata": {},
   "outputs": [
    {
     "name": "stdout",
     "output_type": "stream",
     "text": [
      "                                           Information T                                            \n"
     ]
    }
   ],
   "source": [
    "print(title.center(100))"
   ]
  },
  {
   "cell_type": "code",
   "execution_count": null,
   "id": "c9e24b6c",
   "metadata": {},
   "outputs": [],
   "source": []
  },
  {
   "cell_type": "code",
   "execution_count": 17,
   "id": "13beae97",
   "metadata": {},
   "outputs": [
    {
     "data": {
      "text/plain": [
       "3"
      ]
     },
     "execution_count": 17,
     "metadata": {},
     "output_type": "execute_result"
    }
   ],
   "source": [
    "Fruit = 'Mango, Apple, Banana, Watermelon, Apple, Apple, Pineapple'\n",
    "Fruit.count('Apple')"
   ]
  },
  {
   "cell_type": "code",
   "execution_count": 18,
   "id": "92c670b6",
   "metadata": {},
   "outputs": [],
   "source": [
    "my_string = '123'"
   ]
  },
  {
   "cell_type": "code",
   "execution_count": 19,
   "id": "2edc3db6",
   "metadata": {},
   "outputs": [
    {
     "data": {
      "text/plain": [
       "False"
      ]
     },
     "execution_count": 19,
     "metadata": {},
     "output_type": "execute_result"
    }
   ],
   "source": [
    "my_string.isalpha()"
   ]
  },
  {
   "cell_type": "code",
   "execution_count": 20,
   "id": "a88a83a8",
   "metadata": {},
   "outputs": [
    {
     "data": {
      "text/plain": [
       "True"
      ]
     },
     "execution_count": 20,
     "metadata": {},
     "output_type": "execute_result"
    }
   ],
   "source": [
    "your_string = 'Howard'\n",
    "your_string.isalpha()"
   ]
  },
  {
   "cell_type": "code",
   "execution_count": 21,
   "id": "426f0745",
   "metadata": {},
   "outputs": [],
   "source": [
    "your_text = 'Python is the most popular programming language. Python is a high level language. Python is very easy to learn.'"
   ]
  },
  {
   "cell_type": "code",
   "execution_count": 22,
   "id": "aabb8e18",
   "metadata": {},
   "outputs": [
    {
     "data": {
      "text/plain": [
       "True"
      ]
     },
     "execution_count": 22,
     "metadata": {},
     "output_type": "execute_result"
    }
   ],
   "source": [
    "your_text.startswith('Python')"
   ]
  },
  {
   "cell_type": "code",
   "execution_count": 23,
   "id": "16cf34d5",
   "metadata": {},
   "outputs": [
    {
     "data": {
      "text/plain": [
       "False"
      ]
     },
     "execution_count": 23,
     "metadata": {},
     "output_type": "execute_result"
    }
   ],
   "source": [
    "your_text.startswith('M')"
   ]
  },
  {
   "cell_type": "code",
   "execution_count": 24,
   "id": "95554612",
   "metadata": {},
   "outputs": [],
   "source": [
    " ### Boolean"
   ]
  },
  {
   "cell_type": "code",
   "execution_count": 25,
   "id": "7e841df0",
   "metadata": {},
   "outputs": [
    {
     "name": "stdout",
     "output_type": "stream",
     "text": [
      "False\n"
     ]
    }
   ],
   "source": [
    "print((2==3) & (1==1)) # & stands for AND operator"
   ]
  },
  {
   "cell_type": "code",
   "execution_count": 26,
   "id": "67a2ef27",
   "metadata": {},
   "outputs": [
    {
     "name": "stdout",
     "output_type": "stream",
     "text": [
      "True\n"
     ]
    }
   ],
   "source": [
    "print((2==3) | (1==1)) # | stands for OR"
   ]
  },
  {
   "cell_type": "code",
   "execution_count": 27,
   "id": "b783862a",
   "metadata": {},
   "outputs": [
    {
     "name": "stdout",
     "output_type": "stream",
     "text": [
      "True\n"
     ]
    }
   ],
   "source": [
    "print((2==2) & (1==1))"
   ]
  },
  {
   "cell_type": "code",
   "execution_count": 28,
   "id": "da9c7546",
   "metadata": {},
   "outputs": [
    {
     "name": "stdout",
     "output_type": "stream",
     "text": [
      "True\n"
     ]
    }
   ],
   "source": [
    "print(True & True)"
   ]
  },
  {
   "cell_type": "code",
   "execution_count": 29,
   "id": "ad543a3b",
   "metadata": {},
   "outputs": [
    {
     "name": "stdout",
     "output_type": "stream",
     "text": [
      "True\n"
     ]
    }
   ],
   "source": [
    "print(True |True)"
   ]
  },
  {
   "cell_type": "code",
   "execution_count": 30,
   "id": "136ded2f",
   "metadata": {},
   "outputs": [
    {
     "name": "stdout",
     "output_type": "stream",
     "text": [
      "False\n"
     ]
    }
   ],
   "source": [
    "print(False & False)"
   ]
  },
  {
   "cell_type": "code",
   "execution_count": 31,
   "id": "8e1a8d83",
   "metadata": {},
   "outputs": [
    {
     "name": "stdout",
     "output_type": "stream",
     "text": [
      "True\n"
     ]
    }
   ],
   "source": [
    "print((2 < 20 or 5 >= 3) & (4%3==1 or 17>20))"
   ]
  },
  {
   "cell_type": "code",
   "execution_count": 32,
   "id": "1d901a5f",
   "metadata": {},
   "outputs": [
    {
     "name": "stdout",
     "output_type": "stream",
     "text": [
      "False\n"
     ]
    }
   ],
   "source": [
    "print((2 < 20 or 5 >= 3) & (4%3==1 & 17>20))"
   ]
  },
  {
   "cell_type": "code",
   "execution_count": 33,
   "id": "3d96938c",
   "metadata": {},
   "outputs": [
    {
     "name": "stdout",
     "output_type": "stream",
     "text": [
      "False\n"
     ]
    }
   ],
   "source": [
    "print((2 < 20 or 5 >= 3) and (4%3==1 and 17>20))"
   ]
  },
  {
   "cell_type": "code",
   "execution_count": 34,
   "id": "0a09bb7a",
   "metadata": {},
   "outputs": [
    {
     "name": "stdout",
     "output_type": "stream",
     "text": [
      "False\n"
     ]
    }
   ],
   "source": [
    "print((2 < 20 | 5 >= 3) & (4%3==1 | 17>20))"
   ]
  },
  {
   "cell_type": "code",
   "execution_count": 35,
   "id": "a2b93fc3",
   "metadata": {},
   "outputs": [
    {
     "name": "stdout",
     "output_type": "stream",
     "text": [
      "True\n"
     ]
    }
   ],
   "source": [
    "print((2 < 20 or 5 >= 3) and (4%3==1 or 17>20))"
   ]
  },
  {
   "cell_type": "markdown",
   "id": "2a5ee181",
   "metadata": {},
   "source": [
    " The comparison operators are '==', '<', '<=', '>', '>='"
   ]
  },
  {
   "cell_type": "code",
   "execution_count": 36,
   "id": "473f7fea",
   "metadata": {},
   "outputs": [
    {
     "name": "stdout",
     "output_type": "stream",
     "text": [
      "True\n"
     ]
    }
   ],
   "source": [
    "print(3>=2)"
   ]
  },
  {
   "cell_type": "code",
   "execution_count": 37,
   "id": "c89b19c1",
   "metadata": {},
   "outputs": [
    {
     "name": "stdout",
     "output_type": "stream",
     "text": [
      "False\n"
     ]
    }
   ],
   "source": [
    "print(2<=1)"
   ]
  },
  {
   "cell_type": "markdown",
   "id": "d04aa694",
   "metadata": {},
   "source": [
    "List"
   ]
  },
  {
   "cell_type": "code",
   "execution_count": 38,
   "id": "59f98eb1",
   "metadata": {},
   "outputs": [],
   "source": [
    "mylist = [1,2,3,4,5,6,7,8,9]"
   ]
  },
  {
   "cell_type": "code",
   "execution_count": 39,
   "id": "cde38cf4",
   "metadata": {},
   "outputs": [
    {
     "data": {
      "text/plain": [
       "[1, 2, 3, 4, 5, 6, 7, 8, 9]"
      ]
     },
     "execution_count": 39,
     "metadata": {},
     "output_type": "execute_result"
    }
   ],
   "source": [
    "mylist"
   ]
  },
  {
   "cell_type": "code",
   "execution_count": 40,
   "id": "d4c82936",
   "metadata": {},
   "outputs": [
    {
     "data": {
      "text/plain": [
       "list"
      ]
     },
     "execution_count": 40,
     "metadata": {},
     "output_type": "execute_result"
    }
   ],
   "source": [
    "type(mylist)"
   ]
  },
  {
   "cell_type": "code",
   "execution_count": 41,
   "id": "bdb3b615",
   "metadata": {},
   "outputs": [
    {
     "data": {
      "text/plain": [
       "4"
      ]
     },
     "execution_count": 41,
     "metadata": {},
     "output_type": "execute_result"
    }
   ],
   "source": [
    "mylist[3]"
   ]
  },
  {
   "cell_type": "code",
   "execution_count": 42,
   "id": "0d44b83b",
   "metadata": {},
   "outputs": [],
   "source": [
    "myfruit = ['Mango', 'Apple', 'Watermelon' ,'Pineapple' , 'Dragon fruit']"
   ]
  },
  {
   "cell_type": "code",
   "execution_count": 43,
   "id": "1b221e68",
   "metadata": {},
   "outputs": [
    {
     "data": {
      "text/plain": [
       "'Apple'"
      ]
     },
     "execution_count": 43,
     "metadata": {},
     "output_type": "execute_result"
    }
   ],
   "source": [
    "myfruit[1]"
   ]
  },
  {
   "cell_type": "code",
   "execution_count": 44,
   "id": "01986051",
   "metadata": {},
   "outputs": [
    {
     "data": {
      "text/plain": [
       "'Dragon fruit'"
      ]
     },
     "execution_count": 44,
     "metadata": {},
     "output_type": "execute_result"
    }
   ],
   "source": [
    "myfruit[-1]"
   ]
  },
  {
   "cell_type": "markdown",
   "id": "f1ffb180",
   "metadata": {},
   "source": [
    " ## Reverse member of a list"
   ]
  },
  {
   "cell_type": "code",
   "execution_count": 45,
   "id": "718a606f",
   "metadata": {},
   "outputs": [
    {
     "data": {
      "text/plain": [
       "['Dragon fruit', 'Pineapple', 'Watermelon', 'Apple', 'Mango']"
      ]
     },
     "execution_count": 45,
     "metadata": {},
     "output_type": "execute_result"
    }
   ],
   "source": [
    "myfruit[::-1]"
   ]
  },
  {
   "cell_type": "code",
   "execution_count": 46,
   "id": "26fee67c",
   "metadata": {},
   "outputs": [
    {
     "data": {
      "text/plain": [
       "['Mango', 'Apple', 'Watermelon', 'Pineapple', 'Strawberry']"
      ]
     },
     "execution_count": 46,
     "metadata": {},
     "output_type": "execute_result"
    }
   ],
   "source": [
    "# Replacing a list member\n",
    "myfruit[4] = 'Strawberry'\n",
    "myfruit"
   ]
  },
  {
   "cell_type": "code",
   "execution_count": 47,
   "id": "be9caf7b",
   "metadata": {},
   "outputs": [],
   "source": [
    "### Adding a new member\n",
    "myfruit.append('Dragon fruit')"
   ]
  },
  {
   "cell_type": "code",
   "execution_count": 48,
   "id": "e9570e5b",
   "metadata": {},
   "outputs": [
    {
     "data": {
      "text/plain": [
       "['Mango', 'Apple', 'Watermelon', 'Pineapple', 'Strawberry', 'Dragon fruit']"
      ]
     },
     "execution_count": 48,
     "metadata": {},
     "output_type": "execute_result"
    }
   ],
   "source": [
    "myfruit"
   ]
  },
  {
   "cell_type": "code",
   "execution_count": 49,
   "id": "44cbe4fe",
   "metadata": {},
   "outputs": [
    {
     "data": {
      "text/plain": [
       "'Dragon fruit'"
      ]
     },
     "execution_count": 49,
     "metadata": {},
     "output_type": "execute_result"
    }
   ],
   "source": [
    "### Removing the last member of a list\n",
    "myfruit.pop()"
   ]
  },
  {
   "cell_type": "code",
   "execution_count": 50,
   "id": "1cfa41b0",
   "metadata": {},
   "outputs": [
    {
     "data": {
      "text/plain": [
       "'Mango'"
      ]
     },
     "execution_count": 50,
     "metadata": {},
     "output_type": "execute_result"
    }
   ],
   "source": [
    "myfruit.pop(0)"
   ]
  },
  {
   "cell_type": "code",
   "execution_count": 51,
   "id": "17f7c03d",
   "metadata": {},
   "outputs": [
    {
     "data": {
      "text/plain": [
       "['Apple', 'Watermelon', 'Pineapple', 'Strawberry']"
      ]
     },
     "execution_count": 51,
     "metadata": {},
     "output_type": "execute_result"
    }
   ],
   "source": [
    "myfruit"
   ]
  },
  {
   "cell_type": "code",
   "execution_count": 52,
   "id": "7314071d",
   "metadata": {},
   "outputs": [],
   "source": [
    "myvegetable = ['Salad', 'Carrot', 'Cabbage', 'Spinach']"
   ]
  },
  {
   "cell_type": "code",
   "execution_count": 53,
   "id": "c15370b7",
   "metadata": {},
   "outputs": [],
   "source": [
    "mybasket = myfruit + myvegetable"
   ]
  },
  {
   "cell_type": "code",
   "execution_count": 54,
   "id": "4addf430",
   "metadata": {},
   "outputs": [
    {
     "name": "stdout",
     "output_type": "stream",
     "text": [
      "['Apple', 'Watermelon', 'Pineapple', 'Strawberry', 'Salad', 'Carrot', 'Cabbage', 'Spinach']\n"
     ]
    }
   ],
   "source": [
    "print(mybasket)"
   ]
  },
  {
   "cell_type": "code",
   "execution_count": 55,
   "id": "dd0849a1",
   "metadata": {},
   "outputs": [
    {
     "data": {
      "text/plain": [
       "8"
      ]
     },
     "execution_count": 55,
     "metadata": {},
     "output_type": "execute_result"
    }
   ],
   "source": [
    "len(mybasket)"
   ]
  },
  {
   "cell_type": "code",
   "execution_count": 56,
   "id": "69fb0297",
   "metadata": {},
   "outputs": [
    {
     "data": {
      "text/plain": [
       "['Apple',\n",
       " 'Watermelon',\n",
       " 'Pineapple',\n",
       " 'Strawberry',\n",
       " 'Carrot',\n",
       " 'Cabbage',\n",
       " 'Spinach']"
      ]
     },
     "execution_count": 56,
     "metadata": {},
     "output_type": "execute_result"
    }
   ],
   "source": [
    "mybasket.remove('Salad')\n",
    "mybasket"
   ]
  },
  {
   "cell_type": "code",
   "execution_count": 57,
   "id": "d2e71494",
   "metadata": {},
   "outputs": [
    {
     "name": "stdout",
     "output_type": "stream",
     "text": [
      "['Apple', 'Watermelon', 'Pineapple', 'Strawberry', 'Carrot', 'Cabbage', 'Spinach']\n"
     ]
    }
   ],
   "source": [
    "print(mybasket)"
   ]
  },
  {
   "cell_type": "code",
   "execution_count": 58,
   "id": "fa1b5216",
   "metadata": {},
   "outputs": [
    {
     "data": {
      "text/plain": [
       "'Spinach'"
      ]
     },
     "execution_count": 58,
     "metadata": {},
     "output_type": "execute_result"
    }
   ],
   "source": [
    "my_basket = ['Salad', 'Spinach', 'Watermelon', 'Pineapple']\n",
    "my_basket.pop(1)"
   ]
  },
  {
   "cell_type": "code",
   "execution_count": 59,
   "id": "489b5e11",
   "metadata": {},
   "outputs": [],
   "source": [
    "my_basket.remove('Watermelon')"
   ]
  },
  {
   "cell_type": "code",
   "execution_count": 60,
   "id": "93bab1e8",
   "metadata": {},
   "outputs": [
    {
     "data": {
      "text/plain": [
       "['Salad', 'Pineapple']"
      ]
     },
     "execution_count": 60,
     "metadata": {},
     "output_type": "execute_result"
    }
   ],
   "source": [
    "my_basket"
   ]
  },
  {
   "cell_type": "code",
   "execution_count": 61,
   "id": "48cd1b1b",
   "metadata": {},
   "outputs": [],
   "source": [
    " # Dictionary \n",
    " # is a sequence of key-value pair. Members of a dictionary are between curly brackets\n",
    " ### Example passwords = {'id1':'aBcD', 'id2':'ZwAym'}"
   ]
  },
  {
   "cell_type": "code",
   "execution_count": 62,
   "id": "706e6730",
   "metadata": {},
   "outputs": [],
   "source": [
    "student = {'College':'Howard University',\n",
    "          'School':'COAS',\n",
    "          'Major':'Data Science',\n",
    "          'S_ID':'@01234567',\n",
    "          'Classes':['Data Science','English','CompSC','Math'],\n",
    "          'Status':['International', 'National'],\n",
    "          'Email':'myemail@bison.howard.edu',\n",
    "          'Phone':'202-555-5555',\n",
    "          'S_name':'Moussa Doumbia'}"
   ]
  },
  {
   "cell_type": "code",
   "execution_count": 63,
   "id": "91fe81ba",
   "metadata": {
    "scrolled": true
   },
   "outputs": [
    {
     "data": {
      "text/plain": [
       "{'College': 'Howard University',\n",
       " 'School': 'COAS',\n",
       " 'Major': 'Data Science',\n",
       " 'S_ID': '@01234567',\n",
       " 'Classes': ['Data Science', 'English', 'CompSC', 'Math'],\n",
       " 'Status': ['International', 'National'],\n",
       " 'Email': 'myemail@bison.howard.edu',\n",
       " 'Phone': '202-555-5555',\n",
       " 'S_name': 'Moussa Doumbia'}"
      ]
     },
     "execution_count": 63,
     "metadata": {},
     "output_type": "execute_result"
    }
   ],
   "source": [
    "student"
   ]
  },
  {
   "cell_type": "code",
   "execution_count": 64,
   "id": "0bbfeb59",
   "metadata": {},
   "outputs": [
    {
     "data": {
      "text/plain": [
       "'Data Science'"
      ]
     },
     "execution_count": 64,
     "metadata": {},
     "output_type": "execute_result"
    }
   ],
   "source": [
    "student['Major']"
   ]
  },
  {
   "cell_type": "code",
   "execution_count": 65,
   "id": "d3e74629",
   "metadata": {},
   "outputs": [
    {
     "data": {
      "text/plain": [
       "['International', 'National']"
      ]
     },
     "execution_count": 65,
     "metadata": {},
     "output_type": "execute_result"
    }
   ],
   "source": [
    "student['Status']"
   ]
  },
  {
   "cell_type": "code",
   "execution_count": 66,
   "id": "94fe2431",
   "metadata": {},
   "outputs": [
    {
     "data": {
      "text/plain": [
       "'Math'"
      ]
     },
     "execution_count": 66,
     "metadata": {},
     "output_type": "execute_result"
    }
   ],
   "source": [
    "student['Classes'][3]"
   ]
  },
  {
   "cell_type": "code",
   "execution_count": 67,
   "id": "64356d6b",
   "metadata": {},
   "outputs": [],
   "source": [
    "student['Address']= '123 Howard Pl NW, Washington, DC 20059'"
   ]
  },
  {
   "cell_type": "code",
   "execution_count": 68,
   "id": "0b4fe61d",
   "metadata": {},
   "outputs": [
    {
     "data": {
      "text/plain": [
       "{'College': 'Howard University',\n",
       " 'School': 'COAS',\n",
       " 'Major': 'Data Science',\n",
       " 'S_ID': '@01234567',\n",
       " 'Classes': ['Data Science', 'English', 'CompSC', 'Math'],\n",
       " 'Status': ['International', 'National'],\n",
       " 'Email': 'myemail@bison.howard.edu',\n",
       " 'Phone': '202-555-5555',\n",
       " 'S_name': 'Moussa Doumbia',\n",
       " 'Address': '123 Howard Pl NW, Washington, DC 20059'}"
      ]
     },
     "execution_count": 68,
     "metadata": {},
     "output_type": "execute_result"
    }
   ],
   "source": [
    "student"
   ]
  },
  {
   "cell_type": "code",
   "execution_count": 69,
   "id": "505cab98",
   "metadata": {},
   "outputs": [],
   "source": [
    "couple = student.items()"
   ]
  },
  {
   "cell_type": "code",
   "execution_count": 70,
   "id": "a70f2d41",
   "metadata": {},
   "outputs": [
    {
     "data": {
      "text/plain": [
       "dict_items([('College', 'Howard University'), ('School', 'COAS'), ('Major', 'Data Science'), ('S_ID', '@01234567'), ('Classes', ['Data Science', 'English', 'CompSC', 'Math']), ('Status', ['International', 'National']), ('Email', 'myemail@bison.howard.edu'), ('Phone', '202-555-5555'), ('S_name', 'Moussa Doumbia'), ('Address', '123 Howard Pl NW, Washington, DC 20059')])"
      ]
     },
     "execution_count": 70,
     "metadata": {},
     "output_type": "execute_result"
    }
   ],
   "source": [
    "couple"
   ]
  },
  {
   "cell_type": "code",
   "execution_count": 71,
   "id": "3a4a4d71",
   "metadata": {},
   "outputs": [],
   "source": [
    "x_12 = 5"
   ]
  },
  {
   "cell_type": "code",
   "execution_count": 72,
   "id": "168eeea6",
   "metadata": {},
   "outputs": [],
   "source": [
    "x_12 = 5"
   ]
  },
  {
   "cell_type": "markdown",
   "id": "542e0c1c",
   "metadata": {},
   "source": [
    "* ### The set() method is used to remove duplicates\n",
    "* ### Tuple are inmutable"
   ]
  },
  {
   "cell_type": "code",
   "execution_count": 73,
   "id": "787d851c",
   "metadata": {},
   "outputs": [],
   "source": [
    "mylist = [1,1,2,3,2,4,5,6,7,1,2,3,9]"
   ]
  },
  {
   "cell_type": "code",
   "execution_count": 74,
   "id": "3f9696f3",
   "metadata": {},
   "outputs": [],
   "source": [
    "newtuple = (11,2,13,13,13,11,2,2)"
   ]
  },
  {
   "cell_type": "code",
   "execution_count": 75,
   "id": "3855b8e0",
   "metadata": {},
   "outputs": [],
   "source": [
    "a,b,c,d,e,f,g,h = newtuple"
   ]
  },
  {
   "cell_type": "code",
   "execution_count": 76,
   "id": "b22bf14f",
   "metadata": {},
   "outputs": [
    {
     "data": {
      "text/plain": [
       "13"
      ]
     },
     "execution_count": 76,
     "metadata": {},
     "output_type": "execute_result"
    }
   ],
   "source": [
    "newtuple[4]"
   ]
  },
  {
   "cell_type": "code",
   "execution_count": 77,
   "id": "fd58b583",
   "metadata": {},
   "outputs": [],
   "source": [
    "mylist = [1,1,2,3,2,4,5,6,7,1,2,3,9]"
   ]
  },
  {
   "cell_type": "code",
   "execution_count": 78,
   "id": "4d66ea79",
   "metadata": {},
   "outputs": [
    {
     "data": {
      "text/plain": [
       "{1, 2, 3, 4, 5, 6, 7, 9}"
      ]
     },
     "execution_count": 78,
     "metadata": {},
     "output_type": "execute_result"
    }
   ],
   "source": [
    "set(mylist)"
   ]
  },
  {
   "cell_type": "code",
   "execution_count": 79,
   "id": "2f61be3f",
   "metadata": {},
   "outputs": [],
   "source": [
    "name = 'New student'"
   ]
  },
  {
   "cell_type": "code",
   "execution_count": 80,
   "id": "53d2d188",
   "metadata": {},
   "outputs": [
    {
     "data": {
      "text/plain": [
       "'New student'"
      ]
     },
     "execution_count": 80,
     "metadata": {},
     "output_type": "execute_result"
    }
   ],
   "source": [
    "name"
   ]
  },
  {
   "cell_type": "code",
   "execution_count": 81,
   "id": "a1cc9cb8",
   "metadata": {},
   "outputs": [
    {
     "name": "stdout",
     "output_type": "stream",
     "text": [
      "Hello New student! \n",
      "welcome to the data science class\n"
     ]
    }
   ],
   "source": [
    "print('Hello', name+'!','\\n' 'welcome to the data science class')"
   ]
  },
  {
   "cell_type": "code",
   "execution_count": 82,
   "id": "3c26e72c",
   "metadata": {},
   "outputs": [],
   "source": [
    "f_name = 'Moussa'"
   ]
  },
  {
   "cell_type": "code",
   "execution_count": 83,
   "id": "1a7e053b",
   "metadata": {},
   "outputs": [],
   "source": [
    "l_name = 'Doumbia'"
   ]
  },
  {
   "cell_type": "code",
   "execution_count": 84,
   "id": "02ee7878",
   "metadata": {},
   "outputs": [
    {
     "name": "stdout",
     "output_type": "stream",
     "text": [
      "Hello Doumbia!\n",
      " Welcome to DS\n"
     ]
    }
   ],
   "source": [
    "print(f'Hello {l_name}!\\n Welcome to DS')"
   ]
  },
  {
   "cell_type": "code",
   "execution_count": 85,
   "id": "189b4fb9",
   "metadata": {},
   "outputs": [
    {
     "name": "stdout",
     "output_type": "stream",
     "text": [
      "Hello Moussa Doumbia!\n",
      "Welcome to data science class.\n"
     ]
    }
   ],
   "source": [
    "print(\"Hello {one} {two}!\\nWelcome to data science class.\".format(two= l_name,one= f_name))"
   ]
  },
  {
   "cell_type": "code",
   "execution_count": 86,
   "id": "848abdd1",
   "metadata": {},
   "outputs": [
    {
     "name": "stdout",
     "output_type": "stream",
     "text": [
      "Hello Moussa Doumbia!\n",
      "Welcome to Howard UNiversity\n"
     ]
    }
   ],
   "source": [
    "print(f'Hello { f_name} {l_name}!\\nWelcome to Howard UNiversity')"
   ]
  },
  {
   "cell_type": "code",
   "execution_count": 87,
   "id": "b9a23db9",
   "metadata": {},
   "outputs": [
    {
     "name": "stdout",
     "output_type": "stream",
     "text": [
      "Hello Moussa Doumbia \n",
      " Welcome to Howard University\n"
     ]
    }
   ],
   "source": [
    "print('Hello', f_name, l_name, '\\n Welcome to Howard University')"
   ]
  },
  {
   "cell_type": "code",
   "execution_count": 88,
   "id": "fe86fd6a",
   "metadata": {},
   "outputs": [
    {
     "name": "stdout",
     "output_type": "stream",
     "text": [
      "Hello Moussa Doumbia\n"
     ]
    }
   ],
   "source": [
    "print('Hello ' + f_name + \" \" + l_name) "
   ]
  },
  {
   "cell_type": "code",
   "execution_count": 89,
   "id": "70619928",
   "metadata": {},
   "outputs": [],
   "source": [
    "# In Python, functions start with def plus the function name\n",
    "def my_double(num):\n",
    "    return num*2"
   ]
  },
  {
   "cell_type": "code",
   "execution_count": 90,
   "id": "6ac2c130",
   "metadata": {},
   "outputs": [
    {
     "data": {
      "text/plain": [
       "16"
      ]
     },
     "execution_count": 90,
     "metadata": {},
     "output_type": "execute_result"
    }
   ],
   "source": [
    "my_double(8)"
   ]
  },
  {
   "cell_type": "code",
   "execution_count": 91,
   "id": "97829a09",
   "metadata": {},
   "outputs": [],
   "source": [
    "def my_print(astr):\n",
    "    print('Hello', astr)"
   ]
  },
  {
   "cell_type": "code",
   "execution_count": 92,
   "id": "a4605c1c",
   "metadata": {},
   "outputs": [
    {
     "name": "stdout",
     "output_type": "stream",
     "text": [
      "Hello Moussa!\n"
     ]
    }
   ],
   "source": [
    "my_print('Moussa!')"
   ]
  },
  {
   "cell_type": "code",
   "execution_count": 93,
   "id": "81c87858",
   "metadata": {},
   "outputs": [],
   "source": [
    "def even_func(num):\n",
    "    result = 2*num + 8\n",
    "    return result"
   ]
  },
  {
   "cell_type": "code",
   "execution_count": 94,
   "id": "d60592c7",
   "metadata": {},
   "outputs": [
    {
     "data": {
      "text/plain": [
       "10"
      ]
     },
     "execution_count": 94,
     "metadata": {},
     "output_type": "execute_result"
    }
   ],
   "source": [
    "even_func(1)"
   ]
  },
  {
   "cell_type": "code",
   "execution_count": 95,
   "id": "50fbd690",
   "metadata": {},
   "outputs": [],
   "source": [
    "### split() method will split a string\n",
    "my_str = 'my_email@howard.edu'"
   ]
  },
  {
   "cell_type": "code",
   "execution_count": 96,
   "id": "ee4fd0be",
   "metadata": {},
   "outputs": [
    {
     "data": {
      "text/plain": [
       "'howard.edu'"
      ]
     },
     "execution_count": 96,
     "metadata": {},
     "output_type": "execute_result"
    }
   ],
   "source": [
    "my_str.split('@')[1]"
   ]
  },
  {
   "cell_type": "code",
   "execution_count": 97,
   "id": "d2e3fdec",
   "metadata": {},
   "outputs": [],
   "source": [
    "def get_email(astr):\n",
    "    part = astr.split('@')[1]\n",
    "    return part "
   ]
  },
  {
   "cell_type": "code",
   "execution_count": 98,
   "id": "cbc9dca5",
   "metadata": {},
   "outputs": [],
   "source": [
    "my_customer1 = 'customer@amazon.com'\n",
    "my_customer2 = 'customer@yahoo.fr'\n",
    "my_customer3 = 'customer@gmail.com'"
   ]
  },
  {
   "cell_type": "code",
   "execution_count": 99,
   "id": "c9424184",
   "metadata": {},
   "outputs": [
    {
     "data": {
      "text/plain": [
       "'amazon.com'"
      ]
     },
     "execution_count": 99,
     "metadata": {},
     "output_type": "execute_result"
    }
   ],
   "source": [
    "get_email(my_customer1)"
   ]
  },
  {
   "cell_type": "code",
   "execution_count": 100,
   "id": "1e451b61",
   "metadata": {},
   "outputs": [],
   "source": [
    "# For loop\n",
    "seq_num = [1,2,3,4,5,6,7]    "
   ]
  },
  {
   "cell_type": "code",
   "execution_count": 101,
   "id": "cb3ac543",
   "metadata": {},
   "outputs": [],
   "source": [
    "for number in seq_num:\n",
    "    print"
   ]
  },
  {
   "cell_type": "code",
   "execution_count": 102,
   "id": "22011201",
   "metadata": {},
   "outputs": [],
   "source": [
    "first = 'abc'\n",
    "second = '123'\n",
    "third = 'xyz'"
   ]
  },
  {
   "cell_type": "code",
   "execution_count": 103,
   "id": "7b13f711",
   "metadata": {},
   "outputs": [
    {
     "name": "stdout",
     "output_type": "stream",
     "text": [
      "('a', '1', 'x')\n",
      "('a', '1', 'y')\n",
      "('a', '1', 'z')\n",
      "('a', '2', 'x')\n",
      "('a', '2', 'y')\n",
      "('a', '2', 'z')\n",
      "('a', '3', 'x')\n",
      "('a', '3', 'y')\n",
      "('a', '3', 'z')\n",
      "('b', '1', 'x')\n",
      "('b', '1', 'y')\n",
      "('b', '1', 'z')\n",
      "('b', '2', 'x')\n",
      "('b', '2', 'y')\n",
      "('b', '2', 'z')\n",
      "('b', '3', 'x')\n",
      "('b', '3', 'y')\n",
      "('b', '3', 'z')\n",
      "('c', '1', 'x')\n",
      "('c', '1', 'y')\n",
      "('c', '1', 'z')\n",
      "('c', '2', 'x')\n",
      "('c', '2', 'y')\n",
      "('c', '2', 'z')\n",
      "('c', '3', 'x')\n",
      "('c', '3', 'y')\n",
      "('c', '3', 'z')\n"
     ]
    }
   ],
   "source": [
    "for i in first:\n",
    "    for j in second:\n",
    "        for k in third:\n",
    "            print((i,j,k))"
   ]
  },
  {
   "cell_type": "code",
   "execution_count": 104,
   "id": "75618099",
   "metadata": {},
   "outputs": [],
   "source": [
    "seq_num = [1,2,3,4,5,6,7]  "
   ]
  },
  {
   "cell_type": "code",
   "execution_count": 105,
   "id": "373c5d91",
   "metadata": {},
   "outputs": [
    {
     "name": "stdout",
     "output_type": "stream",
     "text": [
      "1 is an odd number\n",
      "2 is an even number \n",
      "3 is an odd number\n",
      "4 is an even number \n",
      "5 is an odd number\n",
      "6 is an even number \n",
      "7 is an odd number\n"
     ]
    }
   ],
   "source": [
    "# If else statements\n",
    "for number in seq_num:\n",
    "    if number % 2 == 0:\n",
    "        print('{} is an even number '.format(number))\n",
    "    else:\n",
    "            print('{} is an odd number'.format(number))"
   ]
  },
  {
   "cell_type": "code",
   "execution_count": 106,
   "id": "62d7a542",
   "metadata": {},
   "outputs": [],
   "source": [
    "students_gpa = {'John':4.0,\n",
    "                'Mya':4.0,\n",
    "                'Sean':3.7,\n",
    "                'Jon':3.8,\n",
    "                'Sarah':3.85,\n",
    "                'Isaac':3.5,\n",
    "                'Issa':2.8\n",
    "               }"
   ]
  },
  {
   "cell_type": "code",
   "execution_count": 107,
   "id": "1e0fe92c",
   "metadata": {},
   "outputs": [
    {
     "name": "stdout",
     "output_type": "stream",
     "text": [
      "John is an outstanding student.\n",
      "Mya is an outstanding student.\n",
      "Sean is not qualifed for this Summer REU\n",
      "Jon is an outstanding student.\n",
      "Sarah is an outstanding student.\n",
      "Isaac is not qualifed for this Summer REU\n",
      "Issa is not qualifed for this Summer REU\n"
     ]
    }
   ],
   "source": [
    "for key,val in students_gpa.items():\n",
    "    if students_gpa[key] >3.7:\n",
    "        print('{} is an outstanding student.'.format(key))\n",
    "    else:\n",
    "        print('{} is not qualifed for this Summer REU'.format(key))"
   ]
  },
  {
   "cell_type": "code",
   "execution_count": 108,
   "id": "f78829a6",
   "metadata": {},
   "outputs": [
    {
     "name": "stdout",
     "output_type": "stream",
     "text": [
      "John is an outstanding student.\n",
      "Mya is an outstanding student.\n",
      "Sean is a good student.\n",
      "Jon is an outstanding student.\n",
      "Sarah is an outstanding student.\n",
      "Isaac is not qualifed for this Summer REU.\n",
      "Issa is not qualifed for this Summer REU.\n"
     ]
    }
   ],
   "source": [
    "# If, elif, else statements\n",
    "for key,val in students_gpa.items():\n",
    "    if students_gpa[key] >3.7:\n",
    "        print('{} is an outstanding student.'.format(key))\n",
    "    elif students_gpa[key] >=3.7:\n",
    "        print('{} is a good student.'.format(key))\n",
    "    else:\n",
    "        print('{} is not qualifed for this Summer REU.'.format(key))"
   ]
  },
  {
   "cell_type": "code",
   "execution_count": 109,
   "id": "7ef615c7",
   "metadata": {},
   "outputs": [],
   "source": [
    "def compute_grade(grade):\n",
    "    if grade >= 90:\n",
    "        print('A')\n",
    "    elif grade >= 80:\n",
    "        print('B')\n",
    "    elif grade >= 70:\n",
    "        print('C')\n",
    "    elif grade >= 60:\n",
    "        print('D')\n",
    "    else:\n",
    "        print('F')"
   ]
  },
  {
   "cell_type": "code",
   "execution_count": 110,
   "id": "4081f187",
   "metadata": {},
   "outputs": [
    {
     "name": "stdout",
     "output_type": "stream",
     "text": [
      "F\n"
     ]
    }
   ],
   "source": [
    "compute_grade(2)"
   ]
  },
  {
   "cell_type": "code",
   "execution_count": 111,
   "id": "85092f75",
   "metadata": {},
   "outputs": [],
   "source": [
    " ### While loop "
   ]
  },
  {
   "cell_type": "code",
   "execution_count": 112,
   "id": "9510d06e",
   "metadata": {},
   "outputs": [
    {
     "name": "stdout",
     "output_type": "stream",
     "text": [
      "Hello World!\n",
      "Hello World!\n",
      "Hello World!\n",
      "Hello World!\n",
      "Hello World!\n",
      "Hello World!\n"
     ]
    }
   ],
   "source": [
    "count = 0\n",
    "while count < 6:\n",
    "    print(\"Hello World!\")\n",
    "    count = count + 1"
   ]
  },
  {
   "cell_type": "code",
   "execution_count": 113,
   "id": "a83c4e16",
   "metadata": {},
   "outputs": [
    {
     "name": "stdout",
     "output_type": "stream",
     "text": [
      "0 Is less than 6!\n",
      "1 Is less than 6!\n",
      "2 Is less than 6!\n",
      "3 Is less than 6!\n",
      "4 Is less than 6!\n",
      "5 Is less than 6!\n"
     ]
    }
   ],
   "source": [
    "count = 0\n",
    "while count < 6:\n",
    "    print(f\"{count} Is less than 6!\")\n",
    "    count = count + 1"
   ]
  },
  {
   "cell_type": "code",
   "execution_count": 114,
   "id": "a27adaa7",
   "metadata": {},
   "outputs": [],
   "source": [
    "while False:\n",
    "    print('Hi') # this will never start"
   ]
  },
  {
   "cell_type": "code",
   "execution_count": 115,
   "id": "eac9b2fd",
   "metadata": {},
   "outputs": [],
   "source": [
    "# while True:\n",
    "#  print('True') # this is an infinite loop"
   ]
  },
  {
   "cell_type": "code",
   "execution_count": 116,
   "id": "2a1b947e",
   "metadata": {},
   "outputs": [],
   "source": [
    "num = 0\n",
    "a_list = []\n",
    "while num < 10:\n",
    "    a_list.append(num)\n",
    "    num += 1 \n",
    " \n"
   ]
  },
  {
   "cell_type": "code",
   "execution_count": 117,
   "id": "01bfff2d",
   "metadata": {},
   "outputs": [],
   "source": [
    "def build_alist(num):\n",
    "    num = 0\n",
    "    a_list = []\n",
    "    while num < 10:\n",
    "        a_list.append(num)\n",
    "        num += 1\n",
    "    return a_list"
   ]
  },
  {
   "cell_type": "code",
   "execution_count": 118,
   "id": "25fe66c0",
   "metadata": {},
   "outputs": [
    {
     "data": {
      "text/plain": [
       "[0, 1, 2, 3, 4, 5, 6, 7, 8, 9]"
      ]
     },
     "execution_count": 118,
     "metadata": {},
     "output_type": "execute_result"
    }
   ],
   "source": [
    "a_list"
   ]
  },
  {
   "cell_type": "code",
   "execution_count": 119,
   "id": "0e9cc26b",
   "metadata": {},
   "outputs": [
    {
     "data": {
      "text/plain": [
       "[0, 1, 2, 3, 4, 5, 6, 7, 8, 9]"
      ]
     },
     "execution_count": 119,
     "metadata": {},
     "output_type": "execute_result"
    }
   ],
   "source": [
    "build_alist(3)"
   ]
  },
  {
   "cell_type": "markdown",
   "id": "55c0b16d",
   "metadata": {},
   "source": [
    " # List comprehension\n"
   ]
  },
  {
   "cell_type": "code",
   "execution_count": 120,
   "id": "44126036",
   "metadata": {},
   "outputs": [],
   "source": [
    "def compute_grade(grade):\n",
    "    if grade >= 90:\n",
    "        print('A')\n",
    "    elif grade >= 80:\n",
    "        print('B')\n",
    "    elif grade >= 70:\n",
    "        print('C')\n",
    "    elif grade >= 60:\n",
    "        print('D')\n",
    "    else:\n",
    "        print('F')"
   ]
  },
  {
   "cell_type": "code",
   "execution_count": 121,
   "id": "dfeebb4c",
   "metadata": {},
   "outputs": [],
   "source": [
    "scores = [60, 90, 70, 85, 100, 99, 40]"
   ]
  },
  {
   "cell_type": "code",
   "execution_count": 122,
   "id": "bae10dbf",
   "metadata": {},
   "outputs": [],
   "source": [
    "grade = ['A' if score >=90 else 'B' if score >= 80\n",
    "        else 'C' if score >= 70 else 'D' if score >= 60\n",
    "        else 'F' for score in scores]"
   ]
  },
  {
   "cell_type": "code",
   "execution_count": 123,
   "id": "e7de8d3e",
   "metadata": {},
   "outputs": [
    {
     "data": {
      "text/plain": [
       "['D', 'A', 'C', 'B', 'A', 'A', 'F']"
      ]
     },
     "execution_count": 123,
     "metadata": {},
     "output_type": "execute_result"
    }
   ],
   "source": [
    "grade"
   ]
  },
  {
   "cell_type": "markdown",
   "id": "b0642034",
   "metadata": {},
   "source": [
    "# We want to build a list with the square root of numbers from a sequence of numberes using booth function and list comprehension"
   ]
  },
  {
   "cell_type": "code",
   "execution_count": 124,
   "id": "37b90506",
   "metadata": {},
   "outputs": [],
   "source": [
    "seq = [0,1,2,3,4,5,6,7,8,9]"
   ]
  },
  {
   "cell_type": "code",
   "execution_count": 125,
   "id": "2d3bec0a",
   "metadata": {},
   "outputs": [],
   "source": [
    "def list_builder():\n",
    "    em_list = []\n",
    "    for num in seq:\n",
    "        em_list.append(num**0.5)\n",
    "    return em_list\n"
   ]
  },
  {
   "cell_type": "code",
   "execution_count": 126,
   "id": "2400348f",
   "metadata": {},
   "outputs": [
    {
     "ename": "TypeError",
     "evalue": "list_builder() takes 0 positional arguments but 1 was given",
     "output_type": "error",
     "traceback": [
      "\u001b[1;31m---------------------------------------------------------------------------\u001b[0m",
      "\u001b[1;31mTypeError\u001b[0m                                 Traceback (most recent call last)",
      "\u001b[1;32m~\\AppData\\Local\\Temp\\ipykernel_18992\\1625063525.py\u001b[0m in \u001b[0;36m<module>\u001b[1;34m\u001b[0m\n\u001b[1;32m----> 1\u001b[1;33m \u001b[0mprint\u001b[0m\u001b[1;33m(\u001b[0m\u001b[0mlist_builder\u001b[0m\u001b[1;33m(\u001b[0m\u001b[0mseq\u001b[0m\u001b[1;33m)\u001b[0m\u001b[1;33m)\u001b[0m\u001b[1;33m\u001b[0m\u001b[1;33m\u001b[0m\u001b[0m\n\u001b[0m",
      "\u001b[1;31mTypeError\u001b[0m: list_builder() takes 0 positional arguments but 1 was given"
     ]
    }
   ],
   "source": [
    "print(list_builder(seq))"
   ]
  },
  {
   "cell_type": "code",
   "execution_count": null,
   "id": "7c27ac0e",
   "metadata": {},
   "outputs": [],
   "source": [
    "easy_builder = [num**0.5 for num in seq]\n",
    "print(easy_builder)"
   ]
  },
  {
   "cell_type": "markdown",
   "id": "cf1c2725",
   "metadata": {},
   "source": [
    "#  Lambda, Map, and filter"
   ]
  },
  {
   "cell_type": "code",
   "execution_count": null,
   "id": "4bf9883d",
   "metadata": {},
   "outputs": [],
   "source": [
    "seq = [0,1,2,3,4,5,6,7,8,9]"
   ]
  },
  {
   "cell_type": "code",
   "execution_count": null,
   "id": "c49b61a4",
   "metadata": {},
   "outputs": [],
   "source": [
    " # We want to obtain the cube of every number in the seq\n",
    " # 1. using function\n",
    " # 2. using lambda function\n",
    " # We want to obtain the list of the cubes for every number in the seq\n",
    "def num_cube(num):\n",
    "    return num**3"
   ]
  },
  {
   "cell_type": "code",
   "execution_count": null,
   "id": "55bb08df",
   "metadata": {},
   "outputs": [],
   "source": [
    "num_cube(4)"
   ]
  },
  {
   "cell_type": "code",
   "execution_count": null,
   "id": "2aeae0e1",
   "metadata": {},
   "outputs": [],
   "source": [
    "def num_cube(seq):\n",
    "    cube_list = []\n",
    "    for num in seq:\n",
    "        cube_list.append(num**3)\n",
    "    return cube_list"
   ]
  },
  {
   "cell_type": "code",
   "execution_count": null,
   "id": "82854ef4",
   "metadata": {},
   "outputs": [],
   "source": [
    "num_cube(seq)"
   ]
  },
  {
   "cell_type": "code",
   "execution_count": null,
   "id": "ff2f26f6",
   "metadata": {},
   "outputs": [],
   "source": [
    "list(map(lambda num : num**3, seq))"
   ]
  },
  {
   "cell_type": "code",
   "execution_count": null,
   "id": "fd17dcce",
   "metadata": {},
   "outputs": [],
   "source": [
    "customer_list = ['my_customer1@gmail.com' , 'my_customer2@yahoo.com', 'my_customer3@hotmail.com']"
   ]
  },
  {
   "cell_type": "code",
   "execution_count": null,
   "id": "ba2960cb",
   "metadata": {},
   "outputs": [],
   "source": [
    "l = map(lambda x: x.split('@')[1] , customers_list)"
   ]
  },
  {
   "cell_type": "code",
   "execution_count": null,
   "id": "e0ed2edb",
   "metadata": {},
   "outputs": [],
   "source": [
    "list(0)"
   ]
  },
  {
   "cell_type": "code",
   "execution_count": 130,
   "id": "f823dd8f",
   "metadata": {},
   "outputs": [
    {
     "name": "stdout",
     "output_type": "stream",
     "text": [
      "[2, 4, 6, 8, 10]\n"
     ]
    }
   ],
   "source": [
    " # returns true if the argument passed is even\n",
    "    \n",
    "def check_even(number):\n",
    "    if number % 2 == 0:\n",
    "        return True\n",
    "    \n",
    "    return False\n",
    "\n",
    "numbers = [1,2,3,4,5,6,7,8,9,10]\n",
    "\n",
    " # if an element passed to check_even() returns True, select it\n",
    "even_numbers_iterator = filter(check_even, numbers)\n",
    "\n",
    " # converting to list\n",
    "even_numbers = list(even_numbers_iterator)\n",
    "\n",
    "print(even_numbers)"
   ]
  },
  {
   "cell_type": "code",
   "execution_count": 131,
   "id": "40b1c770",
   "metadata": {},
   "outputs": [
    {
     "data": {
      "text/plain": [
       "[2, 4, 6, 8, 10]"
      ]
     },
     "execution_count": 131,
     "metadata": {},
     "output_type": "execute_result"
    }
   ],
   "source": [
    "list(filter(check_even, numbers))"
   ]
  },
  {
   "cell_type": "code",
   "execution_count": 138,
   "id": "3174e5f6",
   "metadata": {},
   "outputs": [
    {
     "data": {
      "text/plain": [
       "['a', 'e', 'i', 'o', 'u']"
      ]
     },
     "execution_count": 138,
     "metadata": {},
     "output_type": "execute_result"
    }
   ],
   "source": [
    "letters = ['a', 'b', 'd', 'e', 'i', 'j', 'o', 'u']\n",
    "\n",
    "# a function that returns True if letter is a vowel\n",
    "def filter_vowels(letter):\n",
    "    vowels = ['a', 'e', 'i', 'o', 'u']\n",
    "    return True if letter in vowels else False\n",
    "\n",
    "filtered_vowels = filter(filter_vowels, letters)\n",
    "\n",
    "# converting to list\n",
    "vowels = list(filtered_vowels)\n",
    "vowels\n"
   ]
  },
  {
   "cell_type": "code",
   "execution_count": 139,
   "id": "f517ff39",
   "metadata": {},
   "outputs": [],
   "source": []
  },
  {
   "cell_type": "code",
   "execution_count": null,
   "id": "5ef52526",
   "metadata": {},
   "outputs": [],
   "source": []
  }
 ],
 "metadata": {
  "kernelspec": {
   "display_name": "Python 3 (ipykernel)",
   "language": "python",
   "name": "python3"
  },
  "language_info": {
   "codemirror_mode": {
    "name": "ipython",
    "version": 3
   },
   "file_extension": ".py",
   "mimetype": "text/x-python",
   "name": "python",
   "nbconvert_exporter": "python",
   "pygments_lexer": "ipython3",
   "version": "3.9.13"
  }
 },
 "nbformat": 4,
 "nbformat_minor": 5
}
