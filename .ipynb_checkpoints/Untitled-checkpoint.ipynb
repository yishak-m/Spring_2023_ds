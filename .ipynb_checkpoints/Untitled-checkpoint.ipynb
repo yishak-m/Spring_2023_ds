{
 "cells": [
  {
   "cell_type": "code",
   "execution_count": 1,
   "id": "5434080c",
   "metadata": {},
   "outputs": [
    {
     "data": {
      "text/plain": [
       "'TEACHER'"
      ]
     },
     "execution_count": 1,
     "metadata": {},
     "output_type": "execute_result"
    }
   ],
   "source": [
    "position = \"TEACHER\"\n",
    "position"
   ]
  },
  {
   "cell_type": "code",
   "execution_count": 2,
   "id": "b9c21b3d",
   "metadata": {},
   "outputs": [
    {
     "data": {
      "text/plain": [
       "'dowmbia'"
      ]
     },
     "execution_count": 2,
     "metadata": {},
     "output_type": "execute_result"
    }
   ],
   "source": [
    "last = 'DOWMBIA'\n",
    "last.lower()"
   ]
  },
  {
   "cell_type": "code",
   "execution_count": 3,
   "id": "61a15e13",
   "metadata": {},
   "outputs": [
    {
     "data": {
      "text/plain": [
       "'Teacher'"
      ]
     },
     "execution_count": 3,
     "metadata": {},
     "output_type": "execute_result"
    }
   ],
   "source": [
    "position.title()"
   ]
  },
  {
   "cell_type": "code",
   "execution_count": 4,
   "id": "8eee61d2",
   "metadata": {},
   "outputs": [],
   "source": [
    "# title() --> will capitalize the first charcter of a string\n",
    "# lower() --> will lowercase all the characters of a string\n",
    "# strip() --> remove sll the unnecessary spaces\n",
    "# lstrip / rstrip / strip "
   ]
  },
  {
   "cell_type": "code",
   "execution_count": 5,
   "id": "7feda57f",
   "metadata": {},
   "outputs": [],
   "source": [
    "### Strip method()"
   ]
  },
  {
   "cell_type": "code",
   "execution_count": 6,
   "id": "36779f7d",
   "metadata": {},
   "outputs": [
    {
     "data": {
      "text/plain": [
       "'     titanic      '"
      ]
     },
     "execution_count": 6,
     "metadata": {},
     "output_type": "execute_result"
    }
   ],
   "source": [
    "data = \"     titanic      \"\n",
    "data"
   ]
  },
  {
   "cell_type": "code",
   "execution_count": 7,
   "id": "c9f449cd",
   "metadata": {},
   "outputs": [
    {
     "data": {
      "text/plain": [
       "18"
      ]
     },
     "execution_count": 7,
     "metadata": {},
     "output_type": "execute_result"
    }
   ],
   "source": [
    "# len will return the length of the data\n",
    "len(data)"
   ]
  },
  {
   "cell_type": "code",
   "execution_count": 8,
   "id": "0a0854dd",
   "metadata": {},
   "outputs": [],
   "source": [
    "# lstrip()\n",
    "left = data.lstrip()"
   ]
  },
  {
   "cell_type": "code",
   "execution_count": 9,
   "id": "63f63a9e",
   "metadata": {},
   "outputs": [
    {
     "data": {
      "text/plain": [
       "'titanic      '"
      ]
     },
     "execution_count": 9,
     "metadata": {},
     "output_type": "execute_result"
    }
   ],
   "source": [
    "left"
   ]
  },
  {
   "cell_type": "code",
   "execution_count": 10,
   "id": "f758d30c",
   "metadata": {},
   "outputs": [
    {
     "data": {
      "text/plain": [
       "13"
      ]
     },
     "execution_count": 10,
     "metadata": {},
     "output_type": "execute_result"
    }
   ],
   "source": [
    "len(left)"
   ]
  },
  {
   "cell_type": "code",
   "execution_count": 11,
   "id": "bd1722c5",
   "metadata": {},
   "outputs": [
    {
     "ename": "AttributeError",
     "evalue": "'str' object has no attribute 'rtrip'",
     "output_type": "error",
     "traceback": [
      "\u001b[1;31m---------------------------------------------------------------------------\u001b[0m",
      "\u001b[1;31mAttributeError\u001b[0m                            Traceback (most recent call last)",
      "\u001b[1;32m~\\AppData\\Local\\Temp\\ipykernel_20956\\3240800247.py\u001b[0m in \u001b[0;36m<module>\u001b[1;34m\u001b[0m\n\u001b[0;32m      1\u001b[0m \u001b[0mword\u001b[0m \u001b[1;33m=\u001b[0m \u001b[1;34m'     titanic    '\u001b[0m\u001b[1;33m\u001b[0m\u001b[1;33m\u001b[0m\u001b[0m\n\u001b[1;32m----> 2\u001b[1;33m \u001b[0mword\u001b[0m\u001b[1;33m.\u001b[0m\u001b[0mrtrip\u001b[0m\u001b[1;33m(\u001b[0m\u001b[1;33m)\u001b[0m\u001b[1;33m\u001b[0m\u001b[1;33m\u001b[0m\u001b[0m\n\u001b[0m",
      "\u001b[1;31mAttributeError\u001b[0m: 'str' object has no attribute 'rtrip'"
     ]
    }
   ],
   "source": [
    "word = '     titanic    '\n",
    "word.rtrip()"
   ]
  },
  {
   "cell_type": "code",
   "execution_count": null,
   "id": "ad2b82ea",
   "metadata": {},
   "outputs": [],
   "source": [
    "word = '  titanic       '\n",
    "right = word.rstrip()\n"
   ]
  },
  {
   "cell_type": "code",
   "execution_count": null,
   "id": "341c405c",
   "metadata": {},
   "outputs": [],
   "source": [
    "right"
   ]
  },
  {
   "cell_type": "code",
   "execution_count": null,
   "id": "5b888eff",
   "metadata": {},
   "outputs": [],
   "source": [
    "len(right)"
   ]
  },
  {
   "cell_type": "code",
   "execution_count": null,
   "id": "8ad7bf23",
   "metadata": {},
   "outputs": [],
   "source": [
    "# Center method\n",
    "title = 'Information T'"
   ]
  },
  {
   "cell_type": "code",
   "execution_count": null,
   "id": "6938e4b6",
   "metadata": {},
   "outputs": [],
   "source": [
    "print(Title.center(100))"
   ]
  },
  {
   "cell_type": "code",
   "execution_count": null,
   "id": "c9e24b6c",
   "metadata": {},
   "outputs": [],
   "source": []
  },
  {
   "cell_type": "code",
   "execution_count": null,
   "id": "13beae97",
   "metadata": {},
   "outputs": [],
   "source": [
    "Fruit = 'Mango, Apple, Banana, Watermelon, Apple, Apple, Pineapple'\n",
    "Fruit.count('Apple')"
   ]
  },
  {
   "cell_type": "code",
   "execution_count": null,
   "id": "92c670b6",
   "metadata": {},
   "outputs": [],
   "source": [
    "my_string = '123'"
   ]
  },
  {
   "cell_type": "code",
   "execution_count": null,
   "id": "2edc3db6",
   "metadata": {},
   "outputs": [],
   "source": [
    "my_string.isalpha()"
   ]
  },
  {
   "cell_type": "code",
   "execution_count": null,
   "id": "a88a83a8",
   "metadata": {},
   "outputs": [],
   "source": [
    "your_string = 'Howard'\n",
    "your_string.isalpha()"
   ]
  },
  {
   "cell_type": "code",
   "execution_count": null,
   "id": "426f0745",
   "metadata": {},
   "outputs": [],
   "source": [
    "your_text = 'Python is the most popular programming language. Python is a high level language. Python is very easy to learn.'"
   ]
  },
  {
   "cell_type": "code",
   "execution_count": null,
   "id": "aabb8e18",
   "metadata": {},
   "outputs": [],
   "source": [
    "your_text.startswith('Python')"
   ]
  },
  {
   "cell_type": "code",
   "execution_count": null,
   "id": "16cf34d5",
   "metadata": {},
   "outputs": [],
   "source": [
    "your_text.startswith('M')"
   ]
  },
  {
   "cell_type": "code",
   "execution_count": null,
   "id": "95554612",
   "metadata": {},
   "outputs": [],
   "source": [
    " ### Boolean"
   ]
  },
  {
   "cell_type": "code",
   "execution_count": null,
   "id": "7e841df0",
   "metadata": {},
   "outputs": [],
   "source": [
    "print((2==3) & (1==1)) # & stands for AND operator"
   ]
  },
  {
   "cell_type": "code",
   "execution_count": null,
   "id": "67a2ef27",
   "metadata": {},
   "outputs": [],
   "source": [
    "print((2==3) | (1==1)) # | stands for OR"
   ]
  },
  {
   "cell_type": "code",
   "execution_count": null,
   "id": "b783862a",
   "metadata": {},
   "outputs": [],
   "source": [
    "print((2==2) & (1==1))"
   ]
  },
  {
   "cell_type": "code",
   "execution_count": null,
   "id": "da9c7546",
   "metadata": {},
   "outputs": [],
   "source": [
    "print(True & True)"
   ]
  },
  {
   "cell_type": "code",
   "execution_count": null,
   "id": "ad543a3b",
   "metadata": {},
   "outputs": [],
   "source": [
    "print(True |True)"
   ]
  },
  {
   "cell_type": "code",
   "execution_count": null,
   "id": "136ded2f",
   "metadata": {},
   "outputs": [],
   "source": [
    "print(False & False)"
   ]
  },
  {
   "cell_type": "code",
   "execution_count": null,
   "id": "8e1a8d83",
   "metadata": {},
   "outputs": [],
   "source": [
    "print((2 < 20 or 5 >= 3) & (4%3==1 or 17>20))"
   ]
  },
  {
   "cell_type": "code",
   "execution_count": null,
   "id": "1d901a5f",
   "metadata": {},
   "outputs": [],
   "source": [
    "print((2 < 20 or 5 >= 3) & (4%3==1 & 17>20))"
   ]
  },
  {
   "cell_type": "code",
   "execution_count": null,
   "id": "3d96938c",
   "metadata": {},
   "outputs": [],
   "source": [
    "print((2 < 20 or 5 >= 3) and (4%3==1 and 17>20))"
   ]
  },
  {
   "cell_type": "code",
   "execution_count": null,
   "id": "0a09bb7a",
   "metadata": {},
   "outputs": [],
   "source": [
    "print((2 < 20 | 5 >= 3) & (4%3==1 | 17>20))"
   ]
  },
  {
   "cell_type": "code",
   "execution_count": null,
   "id": "a2b93fc3",
   "metadata": {},
   "outputs": [],
   "source": [
    "print((2 < 20 or 5 >= 3) and (4%3==1 or 17>20))"
   ]
  },
  {
   "cell_type": "markdown",
   "id": "2a5ee181",
   "metadata": {},
   "source": [
    " The comparison operators are '==', '<', '<=', '>', '>='"
   ]
  },
  {
   "cell_type": "code",
   "execution_count": null,
   "id": "473f7fea",
   "metadata": {},
   "outputs": [],
   "source": [
    "print(3>=2)"
   ]
  },
  {
   "cell_type": "code",
   "execution_count": null,
   "id": "c89b19c1",
   "metadata": {},
   "outputs": [],
   "source": [
    "print(2<=1)"
   ]
  },
  {
   "cell_type": "markdown",
   "id": "d04aa694",
   "metadata": {},
   "source": [
    "List"
   ]
  },
  {
   "cell_type": "code",
   "execution_count": null,
   "id": "59f98eb1",
   "metadata": {},
   "outputs": [],
   "source": [
    "mylist = [1,2,3,4,5,6,7,8,9]"
   ]
  },
  {
   "cell_type": "code",
   "execution_count": null,
   "id": "cde38cf4",
   "metadata": {},
   "outputs": [],
   "source": [
    "mylist"
   ]
  },
  {
   "cell_type": "code",
   "execution_count": null,
   "id": "d4c82936",
   "metadata": {},
   "outputs": [],
   "source": [
    "type(mylist)"
   ]
  },
  {
   "cell_type": "code",
   "execution_count": null,
   "id": "bdb3b615",
   "metadata": {},
   "outputs": [],
   "source": [
    "mylist[3]"
   ]
  },
  {
   "cell_type": "code",
   "execution_count": null,
   "id": "0d44b83b",
   "metadata": {},
   "outputs": [],
   "source": [
    "myfruit = ['Mango', 'Apple', 'Watermelon' ,'Pineapple' , 'Dragon fruit']"
   ]
  },
  {
   "cell_type": "code",
   "execution_count": null,
   "id": "1b221e68",
   "metadata": {},
   "outputs": [],
   "source": [
    "myfruit[1]"
   ]
  },
  {
   "cell_type": "code",
   "execution_count": null,
   "id": "01986051",
   "metadata": {},
   "outputs": [],
   "source": [
    "myfruit[-1]"
   ]
  },
  {
   "cell_type": "markdown",
   "id": "f1ffb180",
   "metadata": {},
   "source": [
    " ## Reverse member of a list"
   ]
  },
  {
   "cell_type": "code",
   "execution_count": null,
   "id": "718a606f",
   "metadata": {},
   "outputs": [],
   "source": [
    "myfruit[::-1]"
   ]
  },
  {
   "cell_type": "code",
   "execution_count": null,
   "id": "26fee67c",
   "metadata": {},
   "outputs": [],
   "source": [
    "# Replacing a list member\n",
    "myfruit[4] = 'Strawberry'\n",
    "myfruit"
   ]
  },
  {
   "cell_type": "code",
   "execution_count": null,
   "id": "be9caf7b",
   "metadata": {},
   "outputs": [],
   "source": [
    "### Adding a new member\n",
    "myfruit.append('Dragon fruit')"
   ]
  },
  {
   "cell_type": "code",
   "execution_count": null,
   "id": "e9570e5b",
   "metadata": {},
   "outputs": [],
   "source": [
    "myfruit"
   ]
  },
  {
   "cell_type": "code",
   "execution_count": null,
   "id": "44cbe4fe",
   "metadata": {},
   "outputs": [],
   "source": [
    "### Removing the last member of a list\n",
    "myfruit.pop()"
   ]
  },
  {
   "cell_type": "code",
   "execution_count": null,
   "id": "1cfa41b0",
   "metadata": {},
   "outputs": [],
   "source": [
    "myfruit.pop(0)"
   ]
  },
  {
   "cell_type": "code",
   "execution_count": null,
   "id": "17f7c03d",
   "metadata": {},
   "outputs": [],
   "source": [
    "myfruit"
   ]
  },
  {
   "cell_type": "code",
   "execution_count": null,
   "id": "7314071d",
   "metadata": {},
   "outputs": [],
   "source": [
    "myvegetable = ['Salad', 'Carrot', 'Cabbage', 'Spinach']"
   ]
  },
  {
   "cell_type": "code",
   "execution_count": null,
   "id": "c15370b7",
   "metadata": {},
   "outputs": [],
   "source": [
    "mybasket = myfruit + myvegetable"
   ]
  },
  {
   "cell_type": "code",
   "execution_count": null,
   "id": "4addf430",
   "metadata": {},
   "outputs": [],
   "source": [
    "print(mybasket)"
   ]
  },
  {
   "cell_type": "code",
   "execution_count": null,
   "id": "dd0849a1",
   "metadata": {},
   "outputs": [],
   "source": [
    "len(mybasket)"
   ]
  },
  {
   "cell_type": "code",
   "execution_count": null,
   "id": "69fb0297",
   "metadata": {},
   "outputs": [],
   "source": [
    "mybasket.remove('Salad')\n",
    "mybasket"
   ]
  },
  {
   "cell_type": "code",
   "execution_count": null,
   "id": "d2e71494",
   "metadata": {},
   "outputs": [],
   "source": [
    "print(mybasket)"
   ]
  },
  {
   "cell_type": "code",
   "execution_count": null,
   "id": "fa1b5216",
   "metadata": {},
   "outputs": [],
   "source": [
    "my_basket = ['Salad', 'Spinach', 'Watermelon', 'Pineapple']\n",
    "my_basket.pop(1)"
   ]
  },
  {
   "cell_type": "code",
   "execution_count": null,
   "id": "489b5e11",
   "metadata": {},
   "outputs": [],
   "source": [
    "my_basket.remove('Watermelon')"
   ]
  },
  {
   "cell_type": "code",
   "execution_count": null,
   "id": "93bab1e8",
   "metadata": {},
   "outputs": [],
   "source": [
    "my_basket"
   ]
  },
  {
   "cell_type": "code",
   "execution_count": null,
   "id": "48cd1b1b",
   "metadata": {},
   "outputs": [],
   "source": [
    "1 * # Dictionary \n",
    "2 is a sequence of key-value pair. Members of a dictionary are between curly brackets\n",
    "3 ### Example passwords = {'id1':'aBcD', 'id2':'ZwAym'}"
   ]
  },
  {
   "cell_type": "code",
   "execution_count": null,
   "id": "706e6730",
   "metadata": {},
   "outputs": [],
   "source": [
    "student = {'College':'Howard University',\n",
    "          'School':'COAS',\n",
    "          'Major':'Data Science',\n",
    "          'S_ID':'@01234567',\n",
    "          'Classes':['Data Science','English','CompSC','Math'],\n",
    "          'Status':['International', 'National'],\n",
    "          'Email':'myemail@bison.howard.edu',\n",
    "          'Phone':'202-555-5555',\n",
    "          'S_name':'Moussa Doumbia'}"
   ]
  },
  {
   "cell_type": "code",
   "execution_count": null,
   "id": "91fe81ba",
   "metadata": {
    "scrolled": true
   },
   "outputs": [],
   "source": [
    "student"
   ]
  },
  {
   "cell_type": "code",
   "execution_count": null,
   "id": "0bbfeb59",
   "metadata": {},
   "outputs": [],
   "source": [
    "student['Major']"
   ]
  },
  {
   "cell_type": "code",
   "execution_count": null,
   "id": "d3e74629",
   "metadata": {},
   "outputs": [],
   "source": [
    "student['Status']"
   ]
  },
  {
   "cell_type": "code",
   "execution_count": null,
   "id": "94fe2431",
   "metadata": {},
   "outputs": [],
   "source": [
    "student['Classes'][3]"
   ]
  },
  {
   "cell_type": "code",
   "execution_count": null,
   "id": "64356d6b",
   "metadata": {},
   "outputs": [],
   "source": [
    "student['Address']= '123 Howard Pl NW, Washington, DC 20059'"
   ]
  },
  {
   "cell_type": "code",
   "execution_count": null,
   "id": "0b4fe61d",
   "metadata": {},
   "outputs": [],
   "source": [
    "student"
   ]
  },
  {
   "cell_type": "code",
   "execution_count": null,
   "id": "505cab98",
   "metadata": {},
   "outputs": [],
   "source": [
    "couple = student.items()"
   ]
  },
  {
   "cell_type": "code",
   "execution_count": null,
   "id": "a70f2d41",
   "metadata": {},
   "outputs": [],
   "source": [
    "couple"
   ]
  },
  {
   "cell_type": "code",
   "execution_count": null,
   "id": "3a4a4d71",
   "metadata": {},
   "outputs": [],
   "source": [
    "12_x = 5"
   ]
  },
  {
   "cell_type": "code",
   "execution_count": null,
   "id": "168eeea6",
   "metadata": {},
   "outputs": [],
   "source": [
    "x_12 = 5"
   ]
  },
  {
   "cell_type": "code",
   "execution_count": null,
   "id": "c7db4797",
   "metadata": {},
   "outputs": [],
   "source": [
    "5 = x_12"
   ]
  },
  {
   "cell_type": "markdown",
   "id": "542e0c1c",
   "metadata": {},
   "source": [
    "* ### The set() method is used to remove duplicates\n",
    "* ### Tuple are inmutable"
   ]
  },
  {
   "cell_type": "code",
   "execution_count": null,
   "id": "787d851c",
   "metadata": {},
   "outputs": [],
   "source": [
    "mylist = [1,1,2,3,2,4,5,6,7,1,2,3,9]"
   ]
  },
  {
   "cell_type": "code",
   "execution_count": null,
   "id": "3f9696f3",
   "metadata": {},
   "outputs": [],
   "source": [
    "newtuple = (11,2,13,13,13,11,2,2)"
   ]
  },
  {
   "cell_type": "code",
   "execution_count": null,
   "id": "3855b8e0",
   "metadata": {},
   "outputs": [],
   "source": [
    "a,b,c,d,e,f,g,h = newtuple"
   ]
  },
  {
   "cell_type": "code",
   "execution_count": null,
   "id": "b22bf14f",
   "metadata": {},
   "outputs": [],
   "source": [
    "newtuple[4]"
   ]
  },
  {
   "cell_type": "code",
   "execution_count": null,
   "id": "fd58b583",
   "metadata": {},
   "outputs": [],
   "source": [
    "mylist = [1,1,2,3,2,4,5,6,7,1,2,3,9]"
   ]
  },
  {
   "cell_type": "code",
   "execution_count": null,
   "id": "4d66ea79",
   "metadata": {},
   "outputs": [],
   "source": [
    "set(mylist)"
   ]
  },
  {
   "cell_type": "code",
   "execution_count": null,
   "id": "2f61be3f",
   "metadata": {},
   "outputs": [],
   "source": [
    "name = 'New student'"
   ]
  },
  {
   "cell_type": "code",
   "execution_count": null,
   "id": "53d2d188",
   "metadata": {},
   "outputs": [],
   "source": [
    "name"
   ]
  },
  {
   "cell_type": "code",
   "execution_count": null,
   "id": "a1cc9cb8",
   "metadata": {},
   "outputs": [],
   "source": [
    "print('Hello', name+'!','\\n' 'welcome to the data science class')"
   ]
  },
  {
   "cell_type": "code",
   "execution_count": null,
   "id": "3c26e72c",
   "metadata": {},
   "outputs": [],
   "source": [
    "f_name = 'Moussa'"
   ]
  },
  {
   "cell_type": "code",
   "execution_count": null,
   "id": "1a7e053b",
   "metadata": {},
   "outputs": [],
   "source": [
    "l_name = 'Doumbia'"
   ]
  },
  {
   "cell_type": "code",
   "execution_count": null,
   "id": "02ee7878",
   "metadata": {},
   "outputs": [],
   "source": [
    "print(f'Hello {l_name}!\\n Welcome to DS')"
   ]
  },
  {
   "cell_type": "code",
   "execution_count": null,
   "id": "189b4fb9",
   "metadata": {},
   "outputs": [],
   "source": [
    "print(\"Hello {one} {two}!\\nWelcome to data science class.\".format(two= l_name,one= f_name))"
   ]
  },
  {
   "cell_type": "code",
   "execution_count": null,
   "id": "848abdd1",
   "metadata": {},
   "outputs": [],
   "source": [
    "print(f'Hello { f_name} {l_name}!\\nWelcome to Howard UNiversity')"
   ]
  },
  {
   "cell_type": "code",
   "execution_count": null,
   "id": "b9a23db9",
   "metadata": {},
   "outputs": [],
   "source": [
    "print('Hello', f_name, l_name, '\\n Welcome to Howard University')"
   ]
  },
  {
   "cell_type": "code",
   "execution_count": null,
   "id": "fe86fd6a",
   "metadata": {},
   "outputs": [],
   "source": [
    "print('Hello ' + f_name + \" \" + l_name) "
   ]
  },
  {
   "cell_type": "code",
   "execution_count": null,
   "id": "70619928",
   "metadata": {},
   "outputs": [],
   "source": [
    "# In Python, functions start with def plus the function name\n",
    "def my_double(num):\n",
    "    return num*2"
   ]
  },
  {
   "cell_type": "code",
   "execution_count": null,
   "id": "6ac2c130",
   "metadata": {},
   "outputs": [],
   "source": [
    "my_double(8)"
   ]
  },
  {
   "cell_type": "code",
   "execution_count": null,
   "id": "97829a09",
   "metadata": {},
   "outputs": [],
   "source": [
    "def my_print(astr):\n",
    "    print('Hello', astr)"
   ]
  },
  {
   "cell_type": "code",
   "execution_count": null,
   "id": "a4605c1c",
   "metadata": {},
   "outputs": [],
   "source": [
    "my_print('Moussa!')"
   ]
  },
  {
   "cell_type": "code",
   "execution_count": null,
   "id": "81c87858",
   "metadata": {},
   "outputs": [],
   "source": [
    "def even_func(num):\n",
    "    result = 2*num + 8\n",
    "    return result"
   ]
  },
  {
   "cell_type": "code",
   "execution_count": null,
   "id": "d60592c7",
   "metadata": {},
   "outputs": [],
   "source": [
    "even_func(1)"
   ]
  },
  {
   "cell_type": "code",
   "execution_count": null,
   "id": "50fbd690",
   "metadata": {},
   "outputs": [],
   "source": [
    "### split() method will split a string\n",
    "my_str = 'my_email@howard.edu'"
   ]
  },
  {
   "cell_type": "code",
   "execution_count": null,
   "id": "ee4fd0be",
   "metadata": {},
   "outputs": [],
   "source": [
    "my_str.split('@')[1]"
   ]
  },
  {
   "cell_type": "code",
   "execution_count": 15,
   "id": "d2e3fdec",
   "metadata": {},
   "outputs": [],
   "source": [
    "def get_email(astr):\n",
    "    part = astr.split('@')[1]\n",
    "    return part "
   ]
  },
  {
   "cell_type": "code",
   "execution_count": 16,
   "id": "cbc9dca5",
   "metadata": {},
   "outputs": [],
   "source": [
    "my_customer1 = 'customer@amazon.com'\n",
    "my_customer2 = 'customer@yahoo.fr'"
   ]
  },
  {
   "cell_type": "code",
   "execution_count": 17,
   "id": "c9424184",
   "metadata": {},
   "outputs": [
    {
     "data": {
      "text/plain": [
       "'amazon.com'"
      ]
     },
     "execution_count": 17,
     "metadata": {},
     "output_type": "execute_result"
    }
   ],
   "source": [
    "get_email(my_customer1)"
   ]
  },
  {
   "cell_type": "code",
   "execution_count": 18,
   "id": "1e451b61",
   "metadata": {},
   "outputs": [],
   "source": [
    "# For loop\n",
    "seq_num = [1,2,3,4,5,6,7]    "
   ]
  },
  {
   "cell_type": "code",
   "execution_count": null,
   "id": "cb3ac543",
   "metadata": {},
   "outputs": [],
   "source": [
    "for number in seq_num:\n",
    "    print"
   ]
  },
  {
   "cell_type": "code",
   "execution_count": 19,
   "id": "22011201",
   "metadata": {},
   "outputs": [],
   "source": [
    "first = 'abc'\n",
    "second = '123'\n",
    "third = 'xyz'"
   ]
  },
  {
   "cell_type": "code",
   "execution_count": 20,
   "id": "7b13f711",
   "metadata": {},
   "outputs": [
    {
     "name": "stdout",
     "output_type": "stream",
     "text": [
      "('a', '1', 'x')\n",
      "('a', '1', 'y')\n",
      "('a', '1', 'z')\n",
      "('a', '2', 'x')\n",
      "('a', '2', 'y')\n",
      "('a', '2', 'z')\n",
      "('a', '3', 'x')\n",
      "('a', '3', 'y')\n",
      "('a', '3', 'z')\n",
      "('b', '1', 'x')\n",
      "('b', '1', 'y')\n",
      "('b', '1', 'z')\n",
      "('b', '2', 'x')\n",
      "('b', '2', 'y')\n",
      "('b', '2', 'z')\n",
      "('b', '3', 'x')\n",
      "('b', '3', 'y')\n",
      "('b', '3', 'z')\n",
      "('c', '1', 'x')\n",
      "('c', '1', 'y')\n",
      "('c', '1', 'z')\n",
      "('c', '2', 'x')\n",
      "('c', '2', 'y')\n",
      "('c', '2', 'z')\n",
      "('c', '3', 'x')\n",
      "('c', '3', 'y')\n",
      "('c', '3', 'z')\n"
     ]
    }
   ],
   "source": [
    "for i in first:\n",
    "    for j in second:\n",
    "        for k in third:\n",
    "            print((i,j,k))"
   ]
  },
  {
   "cell_type": "code",
   "execution_count": null,
   "id": "75618099",
   "metadata": {},
   "outputs": [],
   "source": [
    "seq_num = [1,2,3,4,5,6,7]  "
   ]
  },
  {
   "cell_type": "code",
   "execution_count": 26,
   "id": "373c5d91",
   "metadata": {},
   "outputs": [
    {
     "name": "stdout",
     "output_type": "stream",
     "text": [
      "1 is an odd number\n",
      "2 is an even number \n",
      "3 is an odd number\n",
      "4 is an even number \n",
      "5 is an odd number\n",
      "6 is an even number \n",
      "7 is an odd number\n"
     ]
    }
   ],
   "source": [
    "# If else statements\n",
    "for number in seq_num:\n",
    "    if number % 2 == 0:\n",
    "        print('{} is an even number '.format(number))\n",
    "    else:\n",
    "            print('{} is an odd number'.format(number))"
   ]
  },
  {
   "cell_type": "code",
   "execution_count": 31,
   "id": "62d7a542",
   "metadata": {},
   "outputs": [],
   "source": [
    "students_gpa = {'John':4.0,\n",
    "                'Mya':4.0,\n",
    "                'Sean':3.7,\n",
    "                'Jon':3.8,\n",
    "                'Sarah':3.85,\n",
    "                'Isaac':3.5,\n",
    "                'Issa':2.8\n",
    "               }"
   ]
  },
  {
   "cell_type": "code",
   "execution_count": 34,
   "id": "1e0fe92c",
   "metadata": {},
   "outputs": [
    {
     "name": "stdout",
     "output_type": "stream",
     "text": [
      "John is an outstanding student.\n",
      "Mya is an outstanding student.\n",
      "Sean is not qualifed for this Summer REU\n",
      "Jon is an outstanding student.\n",
      "Sarah is an outstanding student.\n",
      "Isaac is not qualifed for this Summer REU\n",
      "Issa is not qualifed for this Summer REU\n"
     ]
    }
   ],
   "source": [
    "for key,val in students_gpa.items():\n",
    "    if students_gpa[key] >3.7:\n",
    "        print('{} is an outstanding student.'.format(key))\n",
    "    else:\n",
    "        print('{} is not qualifed for this Summer REU'.format(key))"
   ]
  },
  {
   "cell_type": "code",
   "execution_count": 39,
   "id": "f78829a6",
   "metadata": {},
   "outputs": [
    {
     "name": "stdout",
     "output_type": "stream",
     "text": [
      "John is an outstanding student.\n",
      "Mya is an outstanding student.\n",
      "Sean is a good student.\n",
      "Jon is an outstanding student.\n",
      "Sarah is an outstanding student.\n",
      "Isaac is not qualifed for this Summer REU.\n",
      "Issa is not qualifed for this Summer REU.\n"
     ]
    }
   ],
   "source": [
    "# If, elif, else statements\n",
    "for key,val in students_gpa.items():\n",
    "    if students_gpa[key] >3.7:\n",
    "        print('{} is an outstanding student.'.format(key))\n",
    "    elif students_gpa[key] >=3.7:\n",
    "        print('{} is a good student.'.format(key))\n",
    "    else:\n",
    "        print('{} is not qualifed for this Summer REU.'.format(key))"
   ]
  },
  {
   "cell_type": "code",
   "execution_count": 40,
   "id": "7ef615c7",
   "metadata": {},
   "outputs": [],
   "source": [
    "def compute_grade(grade):\n",
    "    if grade >= 90:\n",
    "        print('A')\n",
    "    elif grade >= 80:\n",
    "        print('B')\n",
    "    elif grade >= 70:\n",
    "        print('C')\n",
    "    elif grade >= 60:\n",
    "        print('D')\n",
    "    else:\n",
    "        print('F')"
   ]
  },
  {
   "cell_type": "code",
   "execution_count": 42,
   "id": "4081f187",
   "metadata": {},
   "outputs": [
    {
     "name": "stdout",
     "output_type": "stream",
     "text": [
      "F\n"
     ]
    }
   ],
   "source": [
    "compute_grade(2)"
   ]
  },
  {
   "cell_type": "code",
   "execution_count": null,
   "id": "85092f75",
   "metadata": {},
   "outputs": [],
   "source": [
    "# While loop "
   ]
  }
 ],
 "metadata": {
  "kernelspec": {
   "display_name": "Python 3 (ipykernel)",
   "language": "python",
   "name": "python3"
  },
  "language_info": {
   "codemirror_mode": {
    "name": "ipython",
    "version": 3
   },
   "file_extension": ".py",
   "mimetype": "text/x-python",
   "name": "python",
   "nbconvert_exporter": "python",
   "pygments_lexer": "ipython3",
   "version": "3.9.13"
  }
 },
 "nbformat": 4,
 "nbformat_minor": 5
}
