{
 "cells": [
  {
   "cell_type": "code",
   "execution_count": 4,
   "id": "5ba5960f",
   "metadata": {},
   "outputs": [],
   "source": [
    "recipes = {}\n",
    "recipes['Vegetable soup'] = {'carrots' : '2', 'potatoes': '2', 'celery': '2 stalks'}\n",
    "recipes['Spaghetti'] = {'spaghetti noodles': '1 pack', 'ground beef': '1 pound', 'tomato sauce': '24 oz'}\n",
    "recipes['Pancakes'] = {'flour': '2 cups', 'milk': '2 cups', 'eggs': '2'}"
   ]
  },
  {
   "cell_type": "code",
   "execution_count": 5,
   "id": "f751152a",
   "metadata": {},
   "outputs": [],
   "source": [
    "def get_all_ingredients(recipe_dict):\n",
    "    all_ingredients = []\n",
    "    for recipe in recipe_dict:\n",
    "        ingredients = recipe_dict[recipe]\n",
    "        for ingredient in ingredients:\n",
    "            all_ingredients.append(ingredient)\n",
    "    return all_ingredients"
   ]
  },
  {
   "cell_type": "code",
   "execution_count": 6,
   "id": "8ea24af3",
   "metadata": {},
   "outputs": [
    {
     "name": "stdout",
     "output_type": "stream",
     "text": [
      "['carrots', 'potatoes', 'celery', 'spaghetti noodles', 'ground beef', 'tomato sauce', 'flour', 'milk', 'eggs']\n"
     ]
    }
   ],
   "source": [
    "ingredients_list = get_all_ingredients(recipes)\n",
    "print(ingredients_list)"
   ]
  }
 ],
 "metadata": {
  "kernelspec": {
   "display_name": "Python 3 (ipykernel)",
   "language": "python",
   "name": "python3"
  },
  "language_info": {
   "codemirror_mode": {
    "name": "ipython",
    "version": 3
   },
   "file_extension": ".py",
   "mimetype": "text/x-python",
   "name": "python",
   "nbconvert_exporter": "python",
   "pygments_lexer": "ipython3",
   "version": "3.9.13"
  }
 },
 "nbformat": 4,
 "nbformat_minor": 5
}
