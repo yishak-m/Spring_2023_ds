{
 "cells": [
  {
   "cell_type": "code",
   "execution_count": 1,
   "id": "537b7282",
   "metadata": {},
   "outputs": [
    {
     "name": "stdout",
     "output_type": "stream",
     "text": [
      "2\n"
     ]
    }
   ],
   "source": [
    "print(1+1)"
   ]
  },
  {
   "cell_type": "code",
   "execution_count": 2,
   "id": "be50238e",
   "metadata": {},
   "outputs": [
    {
     "name": "stdout",
     "output_type": "stream",
     "text": [
      "2\n"
     ]
    }
   ],
   "source": [
    "print(1+1)"
   ]
  },
  {
   "cell_type": "markdown",
   "id": "e0655294",
   "metadata": {},
   "source": [
    "# Data type\n",
    "* ## Opertors\n",
    "    * Addition\n",
    "    * Subtraction\n",
    "    * Division\n",
    "    * Multiplication\n",
    "    * Power\n",
    "    * Integer Division\n",
    "    * Mod (This will return the remain of the division)\n",
    "* ## Integers\n",
    "* ## Floats\n",
    "* ## Strings\n",
    "    * ## String methods\n",
    "* ## Boolean\n",
    "* ## Comparison operators\n",
    "\n",
    "* ## List\n",
    "* ## Dictionary\n",
    "* ## Set\n",
    "* ## Tuple\n",
    "* ## Printing and F'string\n",
    "# Functions \n",
    "* # if, elif, else statements\n",
    "* ## Define/Build Function\n",
    "* ## Lambda\n",
    "* ## Filter\n",
    "* ## Map\n",
    " \n",
    "# Build Pandas DataFrame\n",
    " "
   ]
  },
  {
   "cell_type": "markdown",
   "id": "0ed67431",
   "metadata": {},
   "source": [
    "## Integers\n",
    "# For example ... -5,-4, -3,-2,-1,0,1,2,3,4,5,..."
   ]
  },
  {
   "cell_type": "markdown",
   "id": "bb731328",
   "metadata": {},
   "source": [
    "### Addition\n",
    "15 + 7"
   ]
  },
  {
   "cell_type": "code",
   "execution_count": 3,
   "id": "5655aeee",
   "metadata": {},
   "outputs": [
    {
     "data": {
      "text/plain": [
       "8"
      ]
     },
     "execution_count": 3,
     "metadata": {},
     "output_type": "execute_result"
    }
   ],
   "source": [
    "15 - 7"
   ]
  },
  {
   "cell_type": "markdown",
   "id": "378b01a2",
   "metadata": {},
   "source": [
    "### Multiplication\n",
    "3 * 5"
   ]
  },
  {
   "cell_type": "markdown",
   "id": "76c33166",
   "metadata": {},
   "source": [
    "### Power"
   ]
  },
  {
   "cell_type": "code",
   "execution_count": 4,
   "id": "50aebe33",
   "metadata": {},
   "outputs": [
    {
     "data": {
      "text/plain": [
       "16"
      ]
     },
     "execution_count": 4,
     "metadata": {},
     "output_type": "execute_result"
    }
   ],
   "source": [
    "# @ raise to the power 4 is\n",
    "2**4"
   ]
  },
  {
   "cell_type": "code",
   "execution_count": 5,
   "id": "1469a5d6",
   "metadata": {},
   "outputs": [
    {
     "data": {
      "text/plain": [
       "4.0"
      ]
     },
     "execution_count": 5,
     "metadata": {},
     "output_type": "execute_result"
    }
   ],
   "source": [
    "##  16 raise to the power 1/2 is\n",
    "16**0.5\n"
   ]
  },
  {
   "cell_type": "markdown",
   "id": "6adf9de2",
   "metadata": {},
   "source": [
    "## Division\n",
    "20/4"
   ]
  },
  {
   "cell_type": "code",
   "execution_count": 6,
   "id": "bd3c49a4",
   "metadata": {},
   "outputs": [
    {
     "data": {
      "text/plain": [
       "5.75"
      ]
     },
     "execution_count": 6,
     "metadata": {},
     "output_type": "execute_result"
    }
   ],
   "source": [
    "23/4"
   ]
  },
  {
   "cell_type": "markdown",
   "id": "a76eef0b",
   "metadata": {},
   "source": [
    "## Integer Division"
   ]
  },
  {
   "cell_type": "code",
   "execution_count": 7,
   "id": "48a5b2aa",
   "metadata": {},
   "outputs": [
    {
     "data": {
      "text/plain": [
       "5"
      ]
     },
     "execution_count": 7,
     "metadata": {},
     "output_type": "execute_result"
    }
   ],
   "source": [
    "23//4"
   ]
  },
  {
   "cell_type": "markdown",
   "id": "b59f7ded",
   "metadata": {},
   "source": [
    "# Mod operator (%) this will return the remainder of the division"
   ]
  },
  {
   "cell_type": "code",
   "execution_count": 8,
   "id": "31f3372e",
   "metadata": {},
   "outputs": [
    {
     "data": {
      "text/plain": [
       "1"
      ]
     },
     "execution_count": 8,
     "metadata": {},
     "output_type": "execute_result"
    }
   ],
   "source": [
    "# Example\n",
    "21 % 4"
   ]
  },
  {
   "cell_type": "markdown",
   "id": "2b106bfd",
   "metadata": {},
   "source": [
    "## To check if a N number is even, it suffices to show N % 2 = 0"
   ]
  },
  {
   "cell_type": "code",
   "execution_count": 9,
   "id": "7f5a3a58",
   "metadata": {},
   "outputs": [
    {
     "data": {
      "text/plain": [
       "0"
      ]
     },
     "execution_count": 9,
     "metadata": {},
     "output_type": "execute_result"
    }
   ],
   "source": [
    "# For instance \n",
    "212 % 2 # so 212 is an even number"
   ]
  },
  {
   "cell_type": "markdown",
   "id": "3a99b16b",
   "metadata": {},
   "source": [
    "# To check if a N number is Odd, it suffices to show N % 2 = 1"
   ]
  },
  {
   "cell_type": "code",
   "execution_count": 10,
   "id": "dd8678a9",
   "metadata": {},
   "outputs": [
    {
     "data": {
      "text/plain": [
       "1"
      ]
     },
     "execution_count": 10,
     "metadata": {},
     "output_type": "execute_result"
    }
   ],
   "source": [
    "# For instance: \n",
    "121 % 2 # is 1, so 121 is an odd number"
   ]
  },
  {
   "cell_type": "markdown",
   "id": "1c9e2294",
   "metadata": {},
   "source": [
    "## String is a sequence of charaters\n",
    "We use sigle, or double quotation to define a string; that is , a string must between quotations"
   ]
  },
  {
   "cell_type": "code",
   "execution_count": 11,
   "id": "8a3d05a7",
   "metadata": {},
   "outputs": [
    {
     "data": {
      "text/plain": [
       "'Moussa'"
      ]
     },
     "execution_count": 11,
     "metadata": {},
     "output_type": "execute_result"
    }
   ],
   "source": [
    "# Examples\n",
    "'Moussa'"
   ]
  },
  {
   "cell_type": "code",
   "execution_count": 12,
   "id": "f66c7158",
   "metadata": {},
   "outputs": [
    {
     "data": {
      "text/plain": [
       "str"
      ]
     },
     "execution_count": 12,
     "metadata": {},
     "output_type": "execute_result"
    }
   ],
   "source": [
    "type('Moussa')"
   ]
  },
  {
   "cell_type": "code",
   "execution_count": 13,
   "id": "070084a0",
   "metadata": {},
   "outputs": [
    {
     "data": {
      "text/plain": [
       "str"
      ]
     },
     "execution_count": 13,
     "metadata": {},
     "output_type": "execute_result"
    }
   ],
   "source": [
    "type(\" \")"
   ]
  },
  {
   "cell_type": "code",
   "execution_count": 14,
   "id": "add03f16",
   "metadata": {},
   "outputs": [
    {
     "data": {
      "text/plain": [
       "int"
      ]
     },
     "execution_count": 14,
     "metadata": {},
     "output_type": "execute_result"
    }
   ],
   "source": [
    "type(123)"
   ]
  },
  {
   "cell_type": "code",
   "execution_count": 15,
   "id": "13b65c37",
   "metadata": {},
   "outputs": [
    {
     "data": {
      "text/plain": [
       "'123'"
      ]
     },
     "execution_count": 15,
     "metadata": {},
     "output_type": "execute_result"
    }
   ],
   "source": [
    "age = str(123)\n",
    "age"
   ]
  },
  {
   "cell_type": "code",
   "execution_count": 16,
   "id": "df6a63ed",
   "metadata": {},
   "outputs": [
    {
     "data": {
      "text/plain": [
       "str"
      ]
     },
     "execution_count": 16,
     "metadata": {},
     "output_type": "execute_result"
    }
   ],
   "source": [
    "type(age)"
   ]
  },
  {
   "cell_type": "code",
   "execution_count": 17,
   "id": "d29b5257",
   "metadata": {},
   "outputs": [],
   "source": [
    "new_age = int(age)"
   ]
  },
  {
   "cell_type": "code",
   "execution_count": 18,
   "id": "29d259a8",
   "metadata": {},
   "outputs": [
    {
     "data": {
      "text/plain": [
       "int"
      ]
     },
     "execution_count": 18,
     "metadata": {},
     "output_type": "execute_result"
    }
   ],
   "source": [
    "type(new_age)"
   ]
  },
  {
   "cell_type": "markdown",
   "id": "e7c9eca9",
   "metadata": {},
   "source": [
    "# Strings methods"
   ]
  },
  {
   "cell_type": "markdown",
   "id": "1cb323df",
   "metadata": {},
   "source": [
    "* ### Upper()"
   ]
  },
  {
   "cell_type": "code",
   "execution_count": 19,
   "id": "ed57d0ba",
   "metadata": {},
   "outputs": [],
   "source": [
    "name = 'moussa'"
   ]
  },
  {
   "cell_type": "code",
   "execution_count": 20,
   "id": "ba1962e9",
   "metadata": {},
   "outputs": [
    {
     "data": {
      "text/plain": [
       "'moussa'"
      ]
     },
     "execution_count": 20,
     "metadata": {},
     "output_type": "execute_result"
    }
   ],
   "source": [
    "name"
   ]
  },
  {
   "cell_type": "code",
   "execution_count": 21,
   "id": "9ff06592",
   "metadata": {},
   "outputs": [
    {
     "data": {
      "text/plain": [
       "'MOUSSA'"
      ]
     },
     "execution_count": 21,
     "metadata": {},
     "output_type": "execute_result"
    }
   ],
   "source": [
    "name.upper()"
   ]
  },
  {
   "cell_type": "markdown",
   "id": "ce5e7d7a",
   "metadata": {},
   "source": [
    "* ## Lower()"
   ]
  },
  {
   "cell_type": "code",
   "execution_count": 22,
   "id": "a648b8c5",
   "metadata": {},
   "outputs": [
    {
     "data": {
      "text/plain": [
       "'DOUMBIA'"
      ]
     },
     "execution_count": 22,
     "metadata": {},
     "output_type": "execute_result"
    }
   ],
   "source": [
    "last = 'DOUMBIA'\n",
    "last"
   ]
  },
  {
   "cell_type": "code",
   "execution_count": 23,
   "id": "6105731a",
   "metadata": {},
   "outputs": [
    {
     "data": {
      "text/plain": [
       "'doumbia'"
      ]
     },
     "execution_count": 23,
     "metadata": {},
     "output_type": "execute_result"
    }
   ],
   "source": [
    "last.lower()"
   ]
  },
  {
   "cell_type": "markdown",
   "id": "0e7ff596",
   "metadata": {},
   "source": [
    "* #### Title()"
   ]
  },
  {
   "cell_type": "code",
   "execution_count": 24,
   "id": "4e44b286",
   "metadata": {},
   "outputs": [
    {
     "data": {
      "text/plain": [
       "'TEACHER'"
      ]
     },
     "execution_count": 24,
     "metadata": {},
     "output_type": "execute_result"
    }
   ],
   "source": [
    "position = 'TEACHER'\n",
    "position"
   ]
  },
  {
   "cell_type": "code",
   "execution_count": 25,
   "id": "6f2953cb",
   "metadata": {},
   "outputs": [
    {
     "data": {
      "text/plain": [
       "'Teacher'"
      ]
     },
     "execution_count": 25,
     "metadata": {},
     "output_type": "execute_result"
    }
   ],
   "source": [
    "position.title()"
   ]
  },
  {
   "cell_type": "markdown",
   "id": "7e1f7ec2",
   "metadata": {},
   "source": [
    "* ### Strip, lstrip, rstrip methods()"
   ]
  },
  {
   "cell_type": "code",
   "execution_count": 26,
   "id": "a91ed94d",
   "metadata": {},
   "outputs": [
    {
     "data": {
      "text/plain": [
       "'   titanic        '"
      ]
     },
     "execution_count": 26,
     "metadata": {},
     "output_type": "execute_result"
    }
   ],
   "source": [
    "data = \"   titanic        \"\n",
    "data"
   ]
  },
  {
   "cell_type": "code",
   "execution_count": 27,
   "id": "870bd6ed",
   "metadata": {},
   "outputs": [
    {
     "data": {
      "text/plain": [
       "18"
      ]
     },
     "execution_count": 27,
     "metadata": {},
     "output_type": "execute_result"
    }
   ],
   "source": [
    "# len will return the length of the data\n",
    "len(data)"
   ]
  },
  {
   "cell_type": "code",
   "execution_count": 28,
   "id": "484d0630",
   "metadata": {},
   "outputs": [],
   "source": [
    "# lstrip()\n",
    "left = data.lstrip()"
   ]
  },
  {
   "cell_type": "code",
   "execution_count": 29,
   "id": "9b36f27d",
   "metadata": {},
   "outputs": [
    {
     "data": {
      "text/plain": [
       "'titanic        '"
      ]
     },
     "execution_count": 29,
     "metadata": {},
     "output_type": "execute_result"
    }
   ],
   "source": [
    "left"
   ]
  },
  {
   "cell_type": "code",
   "execution_count": 30,
   "id": "195f7c8e",
   "metadata": {},
   "outputs": [
    {
     "data": {
      "text/plain": [
       "15"
      ]
     },
     "execution_count": 30,
     "metadata": {},
     "output_type": "execute_result"
    }
   ],
   "source": [
    "len(left)"
   ]
  },
  {
   "cell_type": "code",
   "execution_count": 31,
   "id": "b3604722",
   "metadata": {},
   "outputs": [
    {
     "data": {
      "text/plain": [
       "'   titanic'"
      ]
     },
     "execution_count": 31,
     "metadata": {},
     "output_type": "execute_result"
    }
   ],
   "source": [
    "# rtrip()\n",
    "right = data.rstrip()\n",
    "right"
   ]
  },
  {
   "cell_type": "code",
   "execution_count": 32,
   "id": "24fd35d0",
   "metadata": {},
   "outputs": [
    {
     "data": {
      "text/plain": [
       "10"
      ]
     },
     "execution_count": 32,
     "metadata": {},
     "output_type": "execute_result"
    }
   ],
   "source": [
    "len(right)"
   ]
  },
  {
   "cell_type": "code",
   "execution_count": 33,
   "id": "84d515da",
   "metadata": {},
   "outputs": [],
   "source": [
    "# strip() method()\n",
    "lr = data.strip()"
   ]
  },
  {
   "cell_type": "code",
   "execution_count": 34,
   "id": "a4fd767a",
   "metadata": {},
   "outputs": [
    {
     "data": {
      "text/plain": [
       "'titanic'"
      ]
     },
     "execution_count": 34,
     "metadata": {},
     "output_type": "execute_result"
    }
   ],
   "source": [
    "lr"
   ]
  },
  {
   "cell_type": "code",
   "execution_count": 35,
   "id": "7ad0ca17",
   "metadata": {},
   "outputs": [
    {
     "data": {
      "text/plain": [
       "7"
      ]
     },
     "execution_count": 35,
     "metadata": {},
     "output_type": "execute_result"
    }
   ],
   "source": [
    "len(lr)"
   ]
  },
  {
   "cell_type": "code",
   "execution_count": 36,
   "id": "12c04469",
   "metadata": {},
   "outputs": [],
   "source": [
    "# Center method\n",
    "Title = \"Information T\""
   ]
  },
  {
   "cell_type": "code",
   "execution_count": 37,
   "id": "e7a0d7d1",
   "metadata": {},
   "outputs": [
    {
     "name": "stdout",
     "output_type": "stream",
     "text": [
      "                                           Information T                                            \n"
     ]
    }
   ],
   "source": [
    "print(Title.center(100))"
   ]
  },
  {
   "cell_type": "code",
   "execution_count": 38,
   "id": "5b990829",
   "metadata": {},
   "outputs": [],
   "source": [
    "Fruit = 'Mango, Apple, Banana, Watermelon, Apple, Apple, Pineaple'"
   ]
  },
  {
   "cell_type": "code",
   "execution_count": 39,
   "id": "39467fbc",
   "metadata": {},
   "outputs": [
    {
     "data": {
      "text/plain": [
       "3"
      ]
     },
     "execution_count": 39,
     "metadata": {},
     "output_type": "execute_result"
    }
   ],
   "source": [
    "Fruit.count('Apple')"
   ]
  },
  {
   "cell_type": "code",
   "execution_count": 40,
   "id": "e82bc91c",
   "metadata": {},
   "outputs": [],
   "source": [
    "my_string = 'H1o2w3ard'"
   ]
  },
  {
   "cell_type": "code",
   "execution_count": 41,
   "id": "9a524117",
   "metadata": {},
   "outputs": [
    {
     "data": {
      "text/plain": [
       "False"
      ]
     },
     "execution_count": 41,
     "metadata": {},
     "output_type": "execute_result"
    }
   ],
   "source": [
    "my_string.isalpha()"
   ]
  },
  {
   "cell_type": "code",
   "execution_count": 42,
   "id": "ecb2d20d",
   "metadata": {},
   "outputs": [],
   "source": [
    "your_string = 'Howard'"
   ]
  },
  {
   "cell_type": "code",
   "execution_count": 43,
   "id": "66b7c61d",
   "metadata": {},
   "outputs": [
    {
     "data": {
      "text/plain": [
       "True"
      ]
     },
     "execution_count": 43,
     "metadata": {},
     "output_type": "execute_result"
    }
   ],
   "source": [
    "your_string.isalpha()"
   ]
  },
  {
   "cell_type": "code",
   "execution_count": 44,
   "id": "7cff5fde",
   "metadata": {},
   "outputs": [],
   "source": [
    "my_text  = \"Python is the most popular programming language. Python is a high level language. Python is very easy to learn\""
   ]
  },
  {
   "cell_type": "code",
   "execution_count": 45,
   "id": "e6da749e",
   "metadata": {},
   "outputs": [
    {
     "data": {
      "text/plain": [
       "True"
      ]
     },
     "execution_count": 45,
     "metadata": {},
     "output_type": "execute_result"
    }
   ],
   "source": [
    "my_text.startswith('Python')"
   ]
  },
  {
   "cell_type": "code",
   "execution_count": 46,
   "id": "95ca5308",
   "metadata": {},
   "outputs": [
    {
     "data": {
      "text/plain": [
       "False"
      ]
     },
     "execution_count": 46,
     "metadata": {},
     "output_type": "execute_result"
    }
   ],
   "source": [
    "my_text.startswith(\"M\")"
   ]
  },
  {
   "cell_type": "markdown",
   "id": "6ed2b385",
   "metadata": {},
   "source": [
    "* ### Boolean"
   ]
  },
  {
   "cell_type": "code",
   "execution_count": 47,
   "id": "d0c6d42c",
   "metadata": {},
   "outputs": [
    {
     "name": "stdout",
     "output_type": "stream",
     "text": [
      "False\n"
     ]
    }
   ],
   "source": [
    "print((2==3) & (1==1)) # & stands for AND operator"
   ]
  },
  {
   "cell_type": "code",
   "execution_count": 48,
   "id": "a24946fc",
   "metadata": {},
   "outputs": [
    {
     "name": "stdout",
     "output_type": "stream",
     "text": [
      "True\n"
     ]
    }
   ],
   "source": [
    "print((2==3) | (1==1)) # | stands for or"
   ]
  },
  {
   "cell_type": "code",
   "execution_count": 49,
   "id": "0d3d0b19",
   "metadata": {},
   "outputs": [
    {
     "name": "stdout",
     "output_type": "stream",
     "text": [
      "True\n"
     ]
    }
   ],
   "source": [
    "print((2==3) or (1==1))"
   ]
  },
  {
   "cell_type": "code",
   "execution_count": 50,
   "id": "c79a0dc4",
   "metadata": {},
   "outputs": [
    {
     "name": "stdout",
     "output_type": "stream",
     "text": [
      "True\n"
     ]
    }
   ],
   "source": [
    "print((2==2) & (1==1))"
   ]
  },
  {
   "cell_type": "code",
   "execution_count": 51,
   "id": "cdaca9dd",
   "metadata": {},
   "outputs": [
    {
     "name": "stdout",
     "output_type": "stream",
     "text": [
      "True\n"
     ]
    }
   ],
   "source": [
    "print(True& True)"
   ]
  },
  {
   "cell_type": "code",
   "execution_count": 52,
   "id": "89257895",
   "metadata": {},
   "outputs": [
    {
     "name": "stdout",
     "output_type": "stream",
     "text": [
      "True\n"
     ]
    }
   ],
   "source": [
    "print(True | True)"
   ]
  },
  {
   "cell_type": "code",
   "execution_count": 53,
   "id": "4408425a",
   "metadata": {},
   "outputs": [
    {
     "name": "stdout",
     "output_type": "stream",
     "text": [
      "False\n"
     ]
    }
   ],
   "source": [
    "print(True& False)"
   ]
  },
  {
   "cell_type": "code",
   "execution_count": 54,
   "id": "a97084e4",
   "metadata": {},
   "outputs": [
    {
     "name": "stdout",
     "output_type": "stream",
     "text": [
      "False\n"
     ]
    }
   ],
   "source": [
    "print(False & True)"
   ]
  },
  {
   "cell_type": "code",
   "execution_count": 55,
   "id": "a1328747",
   "metadata": {},
   "outputs": [
    {
     "name": "stdout",
     "output_type": "stream",
     "text": [
      "False\n"
     ]
    }
   ],
   "source": [
    "print(False & False)"
   ]
  },
  {
   "cell_type": "code",
   "execution_count": 56,
   "id": "675047cc",
   "metadata": {},
   "outputs": [
    {
     "name": "stdout",
     "output_type": "stream",
     "text": [
      "True\n"
     ]
    }
   ],
   "source": [
    "print(False | True)"
   ]
  },
  {
   "cell_type": "code",
   "execution_count": 57,
   "id": "78e5e30b",
   "metadata": {},
   "outputs": [
    {
     "name": "stdout",
     "output_type": "stream",
     "text": [
      "False\n"
     ]
    }
   ],
   "source": [
    "print((2 < 20 or 5>= 3) &  (4%3==1 and 17>20))"
   ]
  },
  {
   "cell_type": "code",
   "execution_count": 58,
   "id": "65088d41",
   "metadata": {},
   "outputs": [
    {
     "name": "stdout",
     "output_type": "stream",
     "text": [
      "True\n"
     ]
    }
   ],
   "source": [
    "print((2 < 20 or 5>= 3) &  (4%3==1 or 17>20))"
   ]
  },
  {
   "cell_type": "code",
   "execution_count": 59,
   "id": "ab1df960",
   "metadata": {},
   "outputs": [
    {
     "name": "stdout",
     "output_type": "stream",
     "text": [
      "False\n"
     ]
    }
   ],
   "source": [
    "print((2 < 20 or 5>= 3) &  (4%3==1 & 17>20))"
   ]
  },
  {
   "cell_type": "code",
   "execution_count": 60,
   "id": "47ae3b95",
   "metadata": {},
   "outputs": [
    {
     "name": "stdout",
     "output_type": "stream",
     "text": [
      "False\n"
     ]
    }
   ],
   "source": [
    "print((2 < 20 or 5>= 3) and  (4%3==1 and 17>20))"
   ]
  },
  {
   "cell_type": "markdown",
   "id": "74c80a1e",
   "metadata": {},
   "source": [
    "* ### The comparison operators are \"==\", '<','<=','>' and '>='"
   ]
  },
  {
   "cell_type": "code",
   "execution_count": 61,
   "id": "d94b2bb2",
   "metadata": {},
   "outputs": [
    {
     "name": "stdout",
     "output_type": "stream",
     "text": [
      "False\n"
     ]
    }
   ],
   "source": [
    "print(2 == 4)"
   ]
  },
  {
   "cell_type": "code",
   "execution_count": 62,
   "id": "be002dbf",
   "metadata": {},
   "outputs": [
    {
     "name": "stdout",
     "output_type": "stream",
     "text": [
      "True\n"
     ]
    }
   ],
   "source": [
    "print(3 >= 2)"
   ]
  },
  {
   "cell_type": "code",
   "execution_count": 63,
   "id": "94fbe00a",
   "metadata": {},
   "outputs": [
    {
     "name": "stdout",
     "output_type": "stream",
     "text": [
      "False\n"
     ]
    }
   ],
   "source": [
    "print(3 <= 1)"
   ]
  },
  {
   "cell_type": "markdown",
   "id": "a0382cac",
   "metadata": {},
   "source": [
    "* ### List\n",
    "#### example [1,2,3,4,5,6,7,8,9,10]"
   ]
  },
  {
   "cell_type": "code",
   "execution_count": 64,
   "id": "865564c6",
   "metadata": {},
   "outputs": [],
   "source": [
    "mylist = [1,2,3,4,5,6,7,8,9]"
   ]
  },
  {
   "cell_type": "code",
   "execution_count": 65,
   "id": "9da44fb4",
   "metadata": {},
   "outputs": [
    {
     "data": {
      "text/plain": [
       "[1, 2, 3, 4, 5, 6, 7, 8, 9]"
      ]
     },
     "execution_count": 65,
     "metadata": {},
     "output_type": "execute_result"
    }
   ],
   "source": [
    "mylist"
   ]
  },
  {
   "cell_type": "code",
   "execution_count": 66,
   "id": "a681ec83",
   "metadata": {},
   "outputs": [
    {
     "data": {
      "text/plain": [
       "list"
      ]
     },
     "execution_count": 66,
     "metadata": {},
     "output_type": "execute_result"
    }
   ],
   "source": [
    "type(mylist)"
   ]
  },
  {
   "cell_type": "code",
   "execution_count": 67,
   "id": "b04fca0d",
   "metadata": {},
   "outputs": [
    {
     "data": {
      "text/plain": [
       "4"
      ]
     },
     "execution_count": 67,
     "metadata": {},
     "output_type": "execute_result"
    }
   ],
   "source": [
    "mylist[3]"
   ]
  },
  {
   "cell_type": "code",
   "execution_count": 68,
   "id": "fa3c27dd",
   "metadata": {},
   "outputs": [],
   "source": [
    "my_fruit = ['Mango','Apple','Watermelon','Pineapple','Dragon fruit']"
   ]
  },
  {
   "cell_type": "code",
   "execution_count": 69,
   "id": "a9fd8d49",
   "metadata": {},
   "outputs": [
    {
     "data": {
      "text/plain": [
       "'Apple'"
      ]
     },
     "execution_count": 69,
     "metadata": {},
     "output_type": "execute_result"
    }
   ],
   "source": [
    "my_fruit[1]"
   ]
  },
  {
   "cell_type": "code",
   "execution_count": 70,
   "id": "ab47d7bb",
   "metadata": {},
   "outputs": [
    {
     "data": {
      "text/plain": [
       "'Dragon fruit'"
      ]
     },
     "execution_count": 70,
     "metadata": {},
     "output_type": "execute_result"
    }
   ],
   "source": [
    "my_fruit[4]"
   ]
  },
  {
   "cell_type": "code",
   "execution_count": 71,
   "id": "e7bcc35a",
   "metadata": {},
   "outputs": [
    {
     "data": {
      "text/plain": [
       "'Pineapple'"
      ]
     },
     "execution_count": 71,
     "metadata": {},
     "output_type": "execute_result"
    }
   ],
   "source": [
    "my_fruit[-2]"
   ]
  },
  {
   "cell_type": "markdown",
   "id": "ce297a5f",
   "metadata": {},
   "source": [
    "## Reverse member of a list"
   ]
  },
  {
   "cell_type": "code",
   "execution_count": 72,
   "id": "bd8b66ab",
   "metadata": {},
   "outputs": [
    {
     "data": {
      "text/plain": [
       "['Mango', 'Apple', 'Watermelon', 'Pineapple', 'Dragon fruit']"
      ]
     },
     "execution_count": 72,
     "metadata": {},
     "output_type": "execute_result"
    }
   ],
   "source": [
    "my_fruit"
   ]
  },
  {
   "cell_type": "code",
   "execution_count": 73,
   "id": "57cb4abd",
   "metadata": {},
   "outputs": [
    {
     "data": {
      "text/plain": [
       "['Dragon fruit', 'Pineapple', 'Watermelon', 'Apple', 'Mango']"
      ]
     },
     "execution_count": 73,
     "metadata": {},
     "output_type": "execute_result"
    }
   ],
   "source": [
    "my_fruit[::-1]"
   ]
  },
  {
   "cell_type": "code",
   "execution_count": 74,
   "id": "cbfab1c3",
   "metadata": {},
   "outputs": [
    {
     "data": {
      "text/plain": [
       "['Mango', 'Apple', 'Watermelon', 'Pineapple', 'Strawberry']"
      ]
     },
     "execution_count": 74,
     "metadata": {},
     "output_type": "execute_result"
    }
   ],
   "source": [
    "# Replacing a list member\n",
    "my_fruit[4] = 'Strawberry'\n",
    "my_fruit"
   ]
  },
  {
   "cell_type": "code",
   "execution_count": 75,
   "id": "9553427c",
   "metadata": {},
   "outputs": [],
   "source": [
    "### Adding new member\n",
    "my_fruit.append('Dragon Fruit')"
   ]
  },
  {
   "cell_type": "code",
   "execution_count": 76,
   "id": "478580e5",
   "metadata": {},
   "outputs": [],
   "source": [
    "my_fruit.append('Strawberry')"
   ]
  },
  {
   "cell_type": "code",
   "execution_count": 77,
   "id": "91967136",
   "metadata": {},
   "outputs": [
    {
     "data": {
      "text/plain": [
       "'Strawberry'"
      ]
     },
     "execution_count": 77,
     "metadata": {},
     "output_type": "execute_result"
    }
   ],
   "source": [
    "### Removing the last member of a list\n",
    "my_fruit.pop()"
   ]
  },
  {
   "cell_type": "code",
   "execution_count": 78,
   "id": "32acf242",
   "metadata": {},
   "outputs": [
    {
     "data": {
      "text/plain": [
       "'Mango'"
      ]
     },
     "execution_count": 78,
     "metadata": {},
     "output_type": "execute_result"
    }
   ],
   "source": [
    "my_fruit.pop(0)"
   ]
  },
  {
   "cell_type": "code",
   "execution_count": 79,
   "id": "88a5285d",
   "metadata": {},
   "outputs": [
    {
     "data": {
      "text/plain": [
       "['Apple', 'Watermelon', 'Pineapple', 'Strawberry', 'Dragon Fruit']"
      ]
     },
     "execution_count": 79,
     "metadata": {},
     "output_type": "execute_result"
    }
   ],
   "source": [
    "my_fruit"
   ]
  },
  {
   "cell_type": "code",
   "execution_count": 80,
   "id": "4627e558",
   "metadata": {},
   "outputs": [],
   "source": [
    "my_vegi = ['Salad','Carrot','Cabbage','Spinach']"
   ]
  },
  {
   "cell_type": "code",
   "execution_count": 81,
   "id": "071ed293",
   "metadata": {},
   "outputs": [],
   "source": [
    "my_bas = my_vegi + my_fruit"
   ]
  },
  {
   "cell_type": "code",
   "execution_count": 82,
   "id": "4964bbbd",
   "metadata": {},
   "outputs": [
    {
     "name": "stdout",
     "output_type": "stream",
     "text": [
      "['Salad', 'Carrot', 'Cabbage', 'Spinach', 'Apple', 'Watermelon', 'Pineapple', 'Strawberry', 'Dragon Fruit']\n"
     ]
    }
   ],
   "source": [
    "print(my_bas)"
   ]
  },
  {
   "cell_type": "code",
   "execution_count": 83,
   "id": "3653e6f7",
   "metadata": {},
   "outputs": [
    {
     "data": {
      "text/plain": [
       "9"
      ]
     },
     "execution_count": 83,
     "metadata": {},
     "output_type": "execute_result"
    }
   ],
   "source": [
    "len(my_bas) # len return the lenght of the list"
   ]
  },
  {
   "cell_type": "code",
   "execution_count": 84,
   "id": "f0802815",
   "metadata": {},
   "outputs": [],
   "source": [
    "list_mum = [5,3,7,6,1,2,3,4]"
   ]
  },
  {
   "cell_type": "code",
   "execution_count": 85,
   "id": "75cbe4e9",
   "metadata": {},
   "outputs": [],
   "source": [
    "list_s = sorted(list_mum)"
   ]
  },
  {
   "cell_type": "code",
   "execution_count": 86,
   "id": "10e98ce7",
   "metadata": {},
   "outputs": [
    {
     "data": {
      "text/plain": [
       "[1, 2, 3, 3, 4, 5, 6, 7]"
      ]
     },
     "execution_count": 86,
     "metadata": {},
     "output_type": "execute_result"
    }
   ],
   "source": [
    "list_s"
   ]
  },
  {
   "cell_type": "code",
   "execution_count": 87,
   "id": "e8bd2e51",
   "metadata": {},
   "outputs": [],
   "source": [
    "list_mum.sort(reverse=True)"
   ]
  },
  {
   "cell_type": "code",
   "execution_count": 88,
   "id": "bab09229",
   "metadata": {},
   "outputs": [
    {
     "name": "stdout",
     "output_type": "stream",
     "text": [
      "[7, 6, 5, 4, 3, 3, 2, 1]\n"
     ]
    }
   ],
   "source": [
    "print(list_mum)"
   ]
  },
  {
   "cell_type": "code",
   "execution_count": 89,
   "id": "33447604",
   "metadata": {},
   "outputs": [
    {
     "name": "stdout",
     "output_type": "stream",
     "text": [
      "7\n"
     ]
    }
   ],
   "source": [
    "print(my_bas.index('Strawberry')) # To obtain the position of a particular list member"
   ]
  },
  {
   "cell_type": "code",
   "execution_count": 90,
   "id": "13c9bf0a",
   "metadata": {},
   "outputs": [],
   "source": [
    "my_bas.remove('Apple')"
   ]
  },
  {
   "cell_type": "code",
   "execution_count": 91,
   "id": "e76292e8",
   "metadata": {},
   "outputs": [
    {
     "data": {
      "text/plain": [
       "['Salad',\n",
       " 'Carrot',\n",
       " 'Cabbage',\n",
       " 'Spinach',\n",
       " 'Watermelon',\n",
       " 'Pineapple',\n",
       " 'Strawberry',\n",
       " 'Dragon Fruit']"
      ]
     },
     "execution_count": 91,
     "metadata": {},
     "output_type": "execute_result"
    }
   ],
   "source": [
    "my_bas"
   ]
  },
  {
   "cell_type": "markdown",
   "id": "e077bb8e",
   "metadata": {},
   "source": [
    "* # Dictionary \n",
    "is a sequence of  key-value pair. Members of a dictonary are between curly brackets\n",
    "### Example passwords = {'id1':'aBcD', 'id2':'ZwAym'}"
   ]
  },
  {
   "cell_type": "code",
   "execution_count": 92,
   "id": "f854ff7c",
   "metadata": {},
   "outputs": [],
   "source": [
    "student = {\n",
    "    'College': 'Howard University',\n",
    "    'School':'COAS',\n",
    "    'Major':'Data Science',\n",
    "    'S_ID':'@01234567',\n",
    "    'Classes':['Data Science','English','CompSC','Math'],\n",
    "    'Status':['International','Natinal'],\n",
    "    'Email':'myemail@bison.howar.edu',\n",
    "    'Phone':'202-555-5555',\n",
    "    'S_name':'Moussa Doumbia'\n",
    "}"
   ]
  },
  {
   "cell_type": "code",
   "execution_count": 93,
   "id": "485a29da",
   "metadata": {},
   "outputs": [],
   "source": [
    "student['Address'] = '123 Howard Pl NW, Washington, DC 20059'\n"
   ]
  },
  {
   "cell_type": "code",
   "execution_count": 94,
   "id": "8b7a70c7",
   "metadata": {},
   "outputs": [
    {
     "data": {
      "text/plain": [
       "{'College': 'Howard University',\n",
       " 'School': 'COAS',\n",
       " 'Major': 'Data Science',\n",
       " 'S_ID': '@01234567',\n",
       " 'Classes': ['Data Science', 'English', 'CompSC', 'Math'],\n",
       " 'Status': ['International', 'Natinal'],\n",
       " 'Email': 'myemail@bison.howar.edu',\n",
       " 'Phone': '202-555-5555',\n",
       " 'S_name': 'Moussa Doumbia',\n",
       " 'Address': '123 Howard Pl NW, Washington, DC 20059'}"
      ]
     },
     "execution_count": 94,
     "metadata": {},
     "output_type": "execute_result"
    }
   ],
   "source": [
    "student"
   ]
  },
  {
   "cell_type": "code",
   "execution_count": 95,
   "id": "87f19b8f",
   "metadata": {},
   "outputs": [],
   "source": [
    "couple = student.items()"
   ]
  },
  {
   "cell_type": "code",
   "execution_count": 96,
   "id": "e048222b",
   "metadata": {},
   "outputs": [
    {
     "data": {
      "text/plain": [
       "dict_items([('College', 'Howard University'), ('School', 'COAS'), ('Major', 'Data Science'), ('S_ID', '@01234567'), ('Classes', ['Data Science', 'English', 'CompSC', 'Math']), ('Status', ['International', 'Natinal']), ('Email', 'myemail@bison.howar.edu'), ('Phone', '202-555-5555'), ('S_name', 'Moussa Doumbia'), ('Address', '123 Howard Pl NW, Washington, DC 20059')])"
      ]
     },
     "execution_count": 96,
     "metadata": {},
     "output_type": "execute_result"
    }
   ],
   "source": [
    "couple"
   ]
  },
  {
   "cell_type": "code",
   "execution_count": 97,
   "id": "454b6057",
   "metadata": {
    "scrolled": true
   },
   "outputs": [],
   "source": [
    "#12_x = 5\n"
   ]
  },
  {
   "cell_type": "code",
   "execution_count": 98,
   "id": "d5149dab",
   "metadata": {},
   "outputs": [],
   "source": [
    "x_12 = 5"
   ]
  },
  {
   "cell_type": "code",
   "execution_count": 99,
   "id": "230c7eee",
   "metadata": {},
   "outputs": [],
   "source": [
    "#5 = x_12"
   ]
  },
  {
   "cell_type": "markdown",
   "id": "7c09d405",
   "metadata": {},
   "source": [
    "* #### The set() method is used to remove duplicates"
   ]
  },
  {
   "cell_type": "code",
   "execution_count": 100,
   "id": "37d89c64",
   "metadata": {},
   "outputs": [],
   "source": [
    "my_list = [1,1,2,3,2,4,5,6,7,1,2,3,9]\n",
    "my_tuple = (1,1,2,3,2,4,5,6,7,1,2,3,9) # Tuple are immutable"
   ]
  },
  {
   "cell_type": "code",
   "execution_count": 101,
   "id": "9815c6f0",
   "metadata": {},
   "outputs": [],
   "source": [
    "new_tuple = (11,2,13,13,13,11,2,2)"
   ]
  },
  {
   "cell_type": "code",
   "execution_count": 102,
   "id": "c1c2b21a",
   "metadata": {},
   "outputs": [],
   "source": [
    "a,b,c,d,e,f,g,h = new_tuple"
   ]
  },
  {
   "cell_type": "code",
   "execution_count": 103,
   "id": "41a1e948",
   "metadata": {},
   "outputs": [],
   "source": [
    "#new_tuple[0]=1 "
   ]
  },
  {
   "cell_type": "code",
   "execution_count": 104,
   "id": "63e90d9e",
   "metadata": {},
   "outputs": [
    {
     "data": {
      "text/plain": [
       "{2, 11, 13}"
      ]
     },
     "execution_count": 104,
     "metadata": {},
     "output_type": "execute_result"
    }
   ],
   "source": [
    "set(new_tuple)"
   ]
  },
  {
   "cell_type": "code",
   "execution_count": 105,
   "id": "61b844ff",
   "metadata": {},
   "outputs": [
    {
     "data": {
      "text/plain": [
       "{1, 2, 3, 4, 5, 6, 7, 9}"
      ]
     },
     "execution_count": 105,
     "metadata": {},
     "output_type": "execute_result"
    }
   ],
   "source": [
    "set(my_list)"
   ]
  },
  {
   "cell_type": "code",
   "execution_count": 106,
   "id": "9f322a20",
   "metadata": {},
   "outputs": [],
   "source": [
    "name = 'New student'"
   ]
  },
  {
   "cell_type": "code",
   "execution_count": 107,
   "id": "2c11fc68",
   "metadata": {},
   "outputs": [
    {
     "data": {
      "text/plain": [
       "'New student'"
      ]
     },
     "execution_count": 107,
     "metadata": {},
     "output_type": "execute_result"
    }
   ],
   "source": [
    "name"
   ]
  },
  {
   "cell_type": "code",
   "execution_count": 108,
   "id": "c01586d6",
   "metadata": {},
   "outputs": [
    {
     "name": "stdout",
     "output_type": "stream",
     "text": [
      "Hello New student! \n",
      "Welcome to data science class.\n"
     ]
    }
   ],
   "source": [
    "print('Hello',name+'!','\\n''Welcome to data science class.')"
   ]
  },
  {
   "cell_type": "code",
   "execution_count": 109,
   "id": "d9484f06",
   "metadata": {},
   "outputs": [],
   "source": [
    "f_name = 'Moussa'"
   ]
  },
  {
   "cell_type": "code",
   "execution_count": 110,
   "id": "4105e3a2",
   "metadata": {},
   "outputs": [],
   "source": [
    "l_name = 'Doumbia'"
   ]
  },
  {
   "cell_type": "code",
   "execution_count": 111,
   "id": "e47a6e47",
   "metadata": {},
   "outputs": [
    {
     "name": "stdout",
     "output_type": "stream",
     "text": [
      "Hello Doumbia!\n",
      " Welcome to DS\n"
     ]
    }
   ],
   "source": [
    "print(f'Hello {l_name}!\\n Welcome to DS')"
   ]
  },
  {
   "cell_type": "code",
   "execution_count": 112,
   "id": "8c6d59ba",
   "metadata": {},
   "outputs": [
    {
     "name": "stdout",
     "output_type": "stream",
     "text": [
      "Hello Moussa Doumbia!\n",
      " Welcome to data science class.\n"
     ]
    }
   ],
   "source": [
    "# Format method\n",
    "print(\"Hello {one} {two}!\\n Welcome to data science class.\".format(two= l_name,one= f_name))"
   ]
  },
  {
   "cell_type": "code",
   "execution_count": 113,
   "id": "2f13587d",
   "metadata": {},
   "outputs": [
    {
     "name": "stdout",
     "output_type": "stream",
     "text": [
      "Hello Moussa Doumbia!\n",
      " Welcome to Howard University\n"
     ]
    }
   ],
   "source": [
    "print(f'Hello { f_name} {l_name}!\\n Welcome to Howard University')"
   ]
  },
  {
   "cell_type": "code",
   "execution_count": 114,
   "id": "04d51370",
   "metadata": {},
   "outputs": [
    {
     "name": "stdout",
     "output_type": "stream",
     "text": [
      "Hello Moussa Doumbia \n",
      " Welcome to Howard University\n"
     ]
    }
   ],
   "source": [
    "print('Hello', f_name, l_name, '\\n Welcome to Howard University')"
   ]
  },
  {
   "cell_type": "code",
   "execution_count": 115,
   "id": "680007d0",
   "metadata": {},
   "outputs": [
    {
     "name": "stdout",
     "output_type": "stream",
     "text": [
      "Hello Moussa Doumbia\n"
     ]
    }
   ],
   "source": [
    "print('Hello '+ f_name+\" \"+ l_name)"
   ]
  },
  {
   "cell_type": "code",
   "execution_count": 116,
   "id": "63b71fd4",
   "metadata": {},
   "outputs": [],
   "source": [
    "# In Python, functions start with def plus the function name\n",
    "def my_double(num):\n",
    "    \n",
    "    return num*2"
   ]
  },
  {
   "cell_type": "code",
   "execution_count": 117,
   "id": "6a4e0a91",
   "metadata": {},
   "outputs": [
    {
     "data": {
      "text/plain": [
       "16"
      ]
     },
     "execution_count": 117,
     "metadata": {},
     "output_type": "execute_result"
    }
   ],
   "source": [
    "my_double(8)"
   ]
  },
  {
   "cell_type": "code",
   "execution_count": 118,
   "id": "d62e0b2d",
   "metadata": {},
   "outputs": [
    {
     "data": {
      "text/plain": [
       "'3'"
      ]
     },
     "execution_count": 118,
     "metadata": {},
     "output_type": "execute_result"
    }
   ],
   "source": [
    "str(3)"
   ]
  },
  {
   "cell_type": "code",
   "execution_count": 119,
   "id": "75d55e3f",
   "metadata": {},
   "outputs": [],
   "source": [
    "def my_print(astr):\n",
    "    print('Hello', astr)"
   ]
  },
  {
   "cell_type": "code",
   "execution_count": 120,
   "id": "52b4c6b3",
   "metadata": {},
   "outputs": [
    {
     "name": "stdout",
     "output_type": "stream",
     "text": [
      "Hello Moussa!\n"
     ]
    }
   ],
   "source": [
    "my_print('Moussa!')"
   ]
  },
  {
   "cell_type": "code",
   "execution_count": 121,
   "id": "dd4f896b",
   "metadata": {},
   "outputs": [],
   "source": [
    "def even_func(num):\n",
    "    result = 2*num + 8\n",
    "    return result"
   ]
  },
  {
   "cell_type": "code",
   "execution_count": 122,
   "id": "30f91418",
   "metadata": {
    "scrolled": true
   },
   "outputs": [
    {
     "data": {
      "text/plain": [
       "10"
      ]
     },
     "execution_count": 122,
     "metadata": {},
     "output_type": "execute_result"
    }
   ],
   "source": [
    "even_func(1)"
   ]
  },
  {
   "cell_type": "code",
   "execution_count": 123,
   "id": "f980be9c",
   "metadata": {},
   "outputs": [],
   "source": [
    "### split() metho will split a string \n",
    "my_str = 'my_email@howard.edu'"
   ]
  },
  {
   "cell_type": "code",
   "execution_count": 124,
   "id": "72b306da",
   "metadata": {},
   "outputs": [
    {
     "data": {
      "text/plain": [
       "'howard.edu'"
      ]
     },
     "execution_count": 124,
     "metadata": {},
     "output_type": "execute_result"
    }
   ],
   "source": [
    "my_str.split('@')[1]"
   ]
  },
  {
   "cell_type": "code",
   "execution_count": 125,
   "id": "ed622092",
   "metadata": {},
   "outputs": [],
   "source": [
    "def get_email(astr):\n",
    "    part = astr.split('@')[1]\n",
    "    return part"
   ]
  },
  {
   "cell_type": "code",
   "execution_count": 126,
   "id": "65799ba3",
   "metadata": {},
   "outputs": [],
   "source": [
    "my_customer1 = 'customer@amazon.com'\n",
    "\n",
    "my_customer2 = 'customer@yahoo.fr'\n",
    "my_customer3 = 'customer@yahoo.com'\n",
    "my_customer4 = 'customer@gmail.com'\n",
    "my_customer5 = 'customer@hotmail.com'\n"
   ]
  },
  {
   "cell_type": "code",
   "execution_count": 127,
   "id": "0d0d73a4",
   "metadata": {},
   "outputs": [
    {
     "data": {
      "text/plain": [
       "'yahoo.fr'"
      ]
     },
     "execution_count": 127,
     "metadata": {},
     "output_type": "execute_result"
    }
   ],
   "source": [
    "get_email(my_customer2)"
   ]
  },
  {
   "cell_type": "code",
   "execution_count": 128,
   "id": "e83d4c84",
   "metadata": {},
   "outputs": [],
   "source": [
    "# For loop\n",
    "seq_num = [1,2,3,4,5,6,7]"
   ]
  },
  {
   "cell_type": "code",
   "execution_count": 129,
   "id": "1f3fcdaf",
   "metadata": {},
   "outputs": [
    {
     "name": "stdout",
     "output_type": "stream",
     "text": [
      "1\n",
      "4\n",
      "9\n",
      "16\n",
      "25\n",
      "36\n",
      "49\n"
     ]
    }
   ],
   "source": [
    "for number in seq_num:\n",
    "    print(number**2)"
   ]
  },
  {
   "cell_type": "code",
   "execution_count": 130,
   "id": "c460f99d",
   "metadata": {},
   "outputs": [],
   "source": [
    "first = 'abc'\n",
    "second = '123'\n",
    "third = 'xyz'"
   ]
  },
  {
   "cell_type": "code",
   "execution_count": 131,
   "id": "721ddcc4",
   "metadata": {},
   "outputs": [
    {
     "name": "stdout",
     "output_type": "stream",
     "text": [
      "('a', '1', 'x')\n",
      "('a', '1', 'y')\n",
      "('a', '1', 'z')\n",
      "('a', '2', 'x')\n",
      "('a', '2', 'y')\n",
      "('a', '2', 'z')\n",
      "('a', '3', 'x')\n",
      "('a', '3', 'y')\n",
      "('a', '3', 'z')\n",
      "('b', '1', 'x')\n",
      "('b', '1', 'y')\n",
      "('b', '1', 'z')\n",
      "('b', '2', 'x')\n",
      "('b', '2', 'y')\n",
      "('b', '2', 'z')\n",
      "('b', '3', 'x')\n",
      "('b', '3', 'y')\n",
      "('b', '3', 'z')\n",
      "('c', '1', 'x')\n",
      "('c', '1', 'y')\n",
      "('c', '1', 'z')\n",
      "('c', '2', 'x')\n",
      "('c', '2', 'y')\n",
      "('c', '2', 'z')\n",
      "('c', '3', 'x')\n",
      "('c', '3', 'y')\n",
      "('c', '3', 'z')\n"
     ]
    }
   ],
   "source": [
    "for i in first:\n",
    "    for j in second:\n",
    "        for k in third:\n",
    "            print((i,j,k))"
   ]
  },
  {
   "cell_type": "code",
   "execution_count": 132,
   "id": "0ee24530",
   "metadata": {},
   "outputs": [],
   "source": [
    "seq_num = [1,2,3,4,5,6,7]"
   ]
  },
  {
   "cell_type": "code",
   "execution_count": 133,
   "id": "292c0296",
   "metadata": {},
   "outputs": [
    {
     "name": "stdout",
     "output_type": "stream",
     "text": [
      "1 is an odd number\n",
      "2 is an even number \n",
      "3 is an odd number\n",
      "4 is an even number \n",
      "5 is an odd number\n",
      "6 is an even number \n",
      "7 is an odd number\n"
     ]
    }
   ],
   "source": [
    "# If else statements\n",
    "\n",
    "for number in seq_num:\n",
    "    if number % 2 == 0:\n",
    "        print('{} is an even number '.format(number))\n",
    "    else:\n",
    "        print(number,'is an odd number')\n",
    "    "
   ]
  },
  {
   "cell_type": "code",
   "execution_count": 134,
   "id": "3cc57579",
   "metadata": {},
   "outputs": [
    {
     "name": "stdout",
     "output_type": "stream",
     "text": [
      "College....... Howard University\n",
      "School....... COAS\n",
      "Major....... Data Science\n",
      "S_ID....... @01234567\n",
      "Classes....... ['Data Science', 'English', 'CompSC', 'Math']\n",
      "Status....... ['International', 'Natinal']\n",
      "Email....... myemail@bison.howar.edu\n",
      "Phone....... 202-555-5555\n",
      "S_name....... Moussa Doumbia\n",
      "Address....... 123 Howard Pl NW, Washington, DC 20059\n"
     ]
    }
   ],
   "source": [
    "for key, val in student.items():\n",
    "    print(key+\".......\", val)"
   ]
  },
  {
   "cell_type": "code",
   "execution_count": 162,
   "id": "49bb50ac",
   "metadata": {},
   "outputs": [],
   "source": [
    "students_gpa = {\n",
    "    'John':[4.0,'US'],\n",
    "    'Mya':[4.0,'US'],\n",
    "    'Sean':[3.7,'US'],\n",
    "    'Jon':[3.8,'INT'],\n",
    "    'Sarah':[3.85,'INT'],\n",
    "    'Isaac':[3.5,'INT'],\n",
    "    'Issa':[2.8,'US']\n",
    "}"
   ]
  },
  {
   "cell_type": "code",
   "execution_count": 163,
   "id": "a407e4ec",
   "metadata": {},
   "outputs": [
    {
     "name": "stdout",
     "output_type": "stream",
     "text": [
      "John is an outstanding U.S. student.\n",
      "Mya is an outstanding U.S. student.\n",
      "Sean is not qualify for this Summer REU\n",
      "Jon is not qualify for this Summer REU\n",
      "Sarah is not qualify for this Summer REU\n",
      "Isaac is not qualify for this Summer REU\n",
      "Issa is not qualify for this Summer REU\n"
     ]
    }
   ],
   "source": [
    "for key,val in students_gpa.items():\n",
    "    if (students_gpa[key][0] > 3.7) and (students_gpa[key][1]=='US'):\n",
    "        print('{} is an outstanding U.S. student.'.format(key))\n",
    "    else:\n",
    "        print('{} is not qualify for this Summer REU'.format(key))"
   ]
  },
  {
   "cell_type": "code",
   "execution_count": 164,
   "id": "f7a6a4fd",
   "metadata": {},
   "outputs": [
    {
     "name": "stdout",
     "output_type": "stream",
     "text": [
      "John is a U.S. citizen and is qualified for the Summer REU.\n",
      "Mya is a U.S. citizen and is qualified for the Summer REU.\n",
      "Sean is a U.S. citizen, but not qualified for the Summer REU \n",
      "Jon is not qualify for this Summer REU\n",
      "Sarah is not qualify for this Summer REU\n",
      "Isaac is not qualify for this Summer REU\n",
      "Issa is not qualify for this Summer REU\n"
     ]
    }
   ],
   "source": [
    "# If, elif, else statements\n",
    "for key,val in students_gpa.items():\n",
    "    if (students_gpa[key][0] > 3.8) and (students_gpa[key][1]=='US'):\n",
    "        print('{} is a U.S. citizen and is qualified for the Summer REU.'.format(key))\n",
    "    elif (students_gpa[key][0] > 3.5) and (students_gpa[key][1]=='US'):\n",
    "        print('{} is a U.S. citizen, but not qualified for the Summer REU '.format(key))\n",
    "    else:\n",
    "        print('{} is not qualify for this Summer REU'.format(key))"
   ]
  },
  {
   "cell_type": "code",
   "execution_count": 138,
   "id": "1ac6add9",
   "metadata": {},
   "outputs": [],
   "source": [
    "def compute_grade(grade):\n",
    "    if grade >= 90:\n",
    "        print('A')\n",
    "    elif grade >= 80:\n",
    "        print('B')\n",
    "    elif grade >= 70:\n",
    "        print('C')\n",
    "    elif grade >= 60:\n",
    "        print('D')\n",
    "    else:\n",
    "        print('F')"
   ]
  },
  {
   "cell_type": "code",
   "execution_count": 139,
   "id": "1656d15f",
   "metadata": {
    "scrolled": true
   },
   "outputs": [
    {
     "name": "stdout",
     "output_type": "stream",
     "text": [
      "C\n"
     ]
    }
   ],
   "source": [
    "compute_grade(70.5)"
   ]
  },
  {
   "cell_type": "markdown",
   "id": "eb27de05",
   "metadata": {},
   "source": [
    "* ### While loop "
   ]
  },
  {
   "cell_type": "code",
   "execution_count": 140,
   "id": "c487283c",
   "metadata": {},
   "outputs": [
    {
     "name": "stdout",
     "output_type": "stream",
     "text": [
      "0 Hello World!\n",
      "1 Hello World!\n",
      "2 Hello World!\n",
      "3 Hello World!\n",
      "4 Hello World!\n",
      "5 Hello World!\n"
     ]
    }
   ],
   "source": [
    "count = 0\n",
    "while count < 6:\n",
    "    print(f'{count} Hello World!')\n",
    "    count = count + 1\n",
    "    #count += 1"
   ]
  },
  {
   "cell_type": "code",
   "execution_count": 141,
   "id": "e39bf668",
   "metadata": {},
   "outputs": [
    {
     "name": "stdout",
     "output_type": "stream",
     "text": [
      "0 is less than 6!\n",
      "1 is less than 6!\n",
      "2 is less than 6!\n",
      "3 is less than 6!\n",
      "4 is less than 6!\n",
      "5 is less than 6!\n"
     ]
    }
   ],
   "source": [
    "count = 0\n",
    "while count < 6:\n",
    "    print(f'{count} is less than 6!')\n",
    "    count = count + 1"
   ]
  },
  {
   "cell_type": "code",
   "execution_count": 142,
   "id": "8b723d89",
   "metadata": {},
   "outputs": [],
   "source": [
    "while False:\n",
    "    print('Hi') # This will never start"
   ]
  },
  {
   "cell_type": "code",
   "execution_count": 143,
   "id": "0b2b0532",
   "metadata": {},
   "outputs": [],
   "source": [
    "# while True:\n",
    "#     print('True') # This is an infinite loop"
   ]
  },
  {
   "cell_type": "code",
   "execution_count": 144,
   "id": "b97a286b",
   "metadata": {},
   "outputs": [],
   "source": [
    "num = 0\n",
    "a_list =[]\n",
    "while num < 10:\n",
    "    a_list.append(num)\n",
    "    num += 1\n",
    "        \n",
    "   "
   ]
  },
  {
   "cell_type": "code",
   "execution_count": 145,
   "id": "63848e62",
   "metadata": {},
   "outputs": [],
   "source": [
    "def build_alist(num):\n",
    "    num = 0\n",
    "    a_list =[]\n",
    "    while num < 10:\n",
    "        a_list.append(num)\n",
    "        num += 1\n",
    "    return a_list"
   ]
  },
  {
   "cell_type": "code",
   "execution_count": 146,
   "id": "53c001fb",
   "metadata": {},
   "outputs": [
    {
     "data": {
      "text/plain": [
       "[0, 1, 2, 3, 4, 5, 6, 7, 8, 9]"
      ]
     },
     "execution_count": 146,
     "metadata": {},
     "output_type": "execute_result"
    }
   ],
   "source": [
    "a_list"
   ]
  },
  {
   "cell_type": "code",
   "execution_count": 147,
   "id": "8b8f587b",
   "metadata": {},
   "outputs": [
    {
     "data": {
      "text/plain": [
       "[0, 1, 2, 3, 4, 5, 6, 7, 8, 9]"
      ]
     },
     "execution_count": 147,
     "metadata": {},
     "output_type": "execute_result"
    }
   ],
   "source": [
    "build_alist(3)"
   ]
  },
  {
   "cell_type": "markdown",
   "id": "31e29c39",
   "metadata": {},
   "source": [
    "* ## List Comprehension"
   ]
  },
  {
   "cell_type": "code",
   "execution_count": 148,
   "id": "61cf93ec",
   "metadata": {},
   "outputs": [],
   "source": [
    "def compute_grade(grade):\n",
    "    if grade >= 90:\n",
    "        print('A')\n",
    "    elif grade >= 80:\n",
    "        print('B')\n",
    "    elif grade >= 70:\n",
    "        print('C')\n",
    "    elif grade >= 60:\n",
    "        print('D')\n",
    "    else:\n",
    "        print('F')"
   ]
  },
  {
   "cell_type": "code",
   "execution_count": 149,
   "id": "3e3e04f4",
   "metadata": {},
   "outputs": [],
   "source": [
    "scores = [60,90,70,85,100,99,40]"
   ]
  },
  {
   "cell_type": "code",
   "execution_count": 167,
   "id": "3d7e773c",
   "metadata": {},
   "outputs": [],
   "source": [
    "grade = ['A' if score>=90 else \"B\" if score>=80\n",
    "        else 'C' if score >=70 else 'D' if\n",
    "        score>=60 else \"F\" for score in scores]"
   ]
  },
  {
   "cell_type": "code",
   "execution_count": 151,
   "id": "9ea12cf3",
   "metadata": {},
   "outputs": [
    {
     "data": {
      "text/plain": [
       "['D', 'A', 'C', 'B', 'A', 'A', 'F']"
      ]
     },
     "execution_count": 151,
     "metadata": {},
     "output_type": "execute_result"
    }
   ],
   "source": [
    "grade"
   ]
  },
  {
   "cell_type": "markdown",
   "id": "e5faf572",
   "metadata": {},
   "source": [
    "### We want to build a list with the square root of numbers from a sequence of numb ers using booth function and list comprehension"
   ]
  },
  {
   "cell_type": "code",
   "execution_count": 152,
   "id": "41a0efac",
   "metadata": {},
   "outputs": [],
   "source": [
    "seq = [0,1,2,3,4,5,6,7,8,9]"
   ]
  },
  {
   "cell_type": "code",
   "execution_count": 153,
   "id": "6b8e83fd",
   "metadata": {},
   "outputs": [],
   "source": [
    "def list_builder(seq):\n",
    "    em_list = []\n",
    "    for num in seq:\n",
    "        em_list.append(num**0.5)\n",
    "    return em_list\n"
   ]
  },
  {
   "cell_type": "code",
   "execution_count": 154,
   "id": "9e9be86c",
   "metadata": {},
   "outputs": [
    {
     "name": "stdout",
     "output_type": "stream",
     "text": [
      "[0.0, 1.0, 1.4142135623730951, 1.7320508075688772, 2.0, 2.23606797749979, 2.449489742783178, 2.6457513110645907, 2.8284271247461903, 3.0]\n"
     ]
    }
   ],
   "source": [
    "print(list_builder(seq))"
   ]
  },
  {
   "cell_type": "code",
   "execution_count": 155,
   "id": "cfc08cd6",
   "metadata": {},
   "outputs": [
    {
     "name": "stdout",
     "output_type": "stream",
     "text": [
      "[0.0, 1.0, 1.4142135623730951, 1.7320508075688772, 2.0, 2.23606797749979, 2.449489742783178, 2.6457513110645907, 2.8284271247461903, 3.0]\n"
     ]
    }
   ],
   "source": [
    "easy_builder = [num**0.5 for num in seq]\n",
    "print(easy_builder)"
   ]
  },
  {
   "cell_type": "markdown",
   "id": "6ca78e8f",
   "metadata": {},
   "source": [
    "* ### Lambda, Map,and  filter"
   ]
  },
  {
   "cell_type": "code",
   "execution_count": 181,
   "id": "0a69709c",
   "metadata": {},
   "outputs": [],
   "source": [
    "seq = [1,2,3,4,5,6,7,8,9]"
   ]
  },
  {
   "cell_type": "code",
   "execution_count": 176,
   "id": "5ac07685",
   "metadata": {},
   "outputs": [],
   "source": [
    "# We want to obtain the list of cubes for every number in the seq \n",
    "# 1. using function\n",
    "# 2. using map function\n",
    "def num_cube(seq):\n",
    "    cube_list = []\n",
    "    for num in seq:\n",
    "        cube_list.append(num**3)\n",
    "    return cube_list\n",
    "\n"
   ]
  },
  {
   "cell_type": "code",
   "execution_count": 177,
   "id": "606a1f35",
   "metadata": {},
   "outputs": [
    {
     "data": {
      "text/plain": [
       "[1, 8, 27, 64, 125, 216, 343, 512, 729]"
      ]
     },
     "execution_count": 177,
     "metadata": {},
     "output_type": "execute_result"
    }
   ],
   "source": [
    "num_cube(seq)"
   ]
  },
  {
   "cell_type": "code",
   "execution_count": 194,
   "id": "8ac2def2",
   "metadata": {},
   "outputs": [
    {
     "data": {
      "text/plain": [
       "[1, 8, 27, 64, 125, 216, 343, 512, 729]"
      ]
     },
     "execution_count": 194,
     "metadata": {},
     "output_type": "execute_result"
    }
   ],
   "source": [
    "list(map(lambda num: num**3, seq))"
   ]
  },
  {
   "cell_type": "code",
   "execution_count": 224,
   "id": "3b71aad4",
   "metadata": {},
   "outputs": [],
   "source": [
    "customers_list = ['my_customer1@gmail.com', 'my_cutomer2@yahoo.com',\n",
    "'customer2@hotmail.com']"
   ]
  },
  {
   "cell_type": "code",
   "execution_count": 225,
   "id": "175ceaa4",
   "metadata": {},
   "outputs": [],
   "source": [
    "l = map(lambda x: x.split('@')[1], customers_list)"
   ]
  },
  {
   "cell_type": "code",
   "execution_count": 226,
   "id": "4598d457",
   "metadata": {},
   "outputs": [
    {
     "data": {
      "text/plain": [
       "['gmail.com', 'yahoo.com', 'hotmail.com']"
      ]
     },
     "execution_count": 226,
     "metadata": {},
     "output_type": "execute_result"
    }
   ],
   "source": [
    "list(l)"
   ]
  },
  {
   "cell_type": "code",
   "execution_count": null,
   "id": "f453531d",
   "metadata": {},
   "outputs": [],
   "source": []
  },
  {
   "cell_type": "code",
   "execution_count": null,
   "id": "5a4ceedf",
   "metadata": {},
   "outputs": [],
   "source": []
  },
  {
   "cell_type": "code",
   "execution_count": null,
   "id": "0120d712",
   "metadata": {},
   "outputs": [],
   "source": []
  },
  {
   "cell_type": "code",
   "execution_count": 165,
   "id": "658f2b62",
   "metadata": {},
   "outputs": [],
   "source": [
    "def get_qualified_student(aditc):\n",
    "    for key,val in students_gpa.items():\n",
    "        if (students_gpa[key][0] > 3.8) and (students_gpa[key][1]=='US'):\n",
    "            print('{} is a U.S. citizen and is qualified for the Summer REU.'.format(key))\n",
    "        elif (students_gpa[key][0] > 3.5) and (students_gpa[key][1]=='US'):\n",
    "            print('{} is a U.S. citizen, but not qualified for the Summer REU '.format(key))\n",
    "        else:\n",
    "            print('{} is not qualify for this Summer REU'.format(key))"
   ]
  },
  {
   "cell_type": "code",
   "execution_count": 157,
   "id": "b6a982e1",
   "metadata": {
    "scrolled": true
   },
   "outputs": [
    {
     "name": "stdout",
     "output_type": "stream",
     "text": [
      "John is a U.S. citizen and is qualified for the Summer REU.\n",
      "Mya is a U.S. citizen and is qualified for the Summer REU.\n",
      "Sean is a U.S. citizen, but not qualified for the Summer REU \n",
      "Jon is not qualify for this Summer REU\n",
      "Sarah is not qualify for this Summer REU\n",
      "Isaac is not qualify for this Summer REU\n",
      "Issa is not qualify for this Summer REU\n"
     ]
    }
   ],
   "source": [
    "get_qualified_student(student)"
   ]
  },
  {
   "cell_type": "code",
   "execution_count": 158,
   "id": "272404ff",
   "metadata": {},
   "outputs": [],
   "source": [
    "# flag = 1\n",
    "# while flag:\n",
    "#     print('Given flag is really true')\n",
    "#     print('Good bye')"
   ]
  },
  {
   "cell_type": "code",
   "execution_count": 159,
   "id": "10a0dbab",
   "metadata": {},
   "outputs": [],
   "source": [
    "scores = [85,90,90,50,70,60,100]"
   ]
  },
  {
   "cell_type": "code",
   "execution_count": 166,
   "id": "020ec24e",
   "metadata": {},
   "outputs": [],
   "source": [
    "grades = ['A' if x >=90 else \"B\" if x>=80 else \"C\" if x>=70 else 'D' if x>=60 else 'F'\n",
    "         for x in range(50,100,10)]"
   ]
  },
  {
   "cell_type": "code",
   "execution_count": null,
   "id": "b4b731c3",
   "metadata": {},
   "outputs": [],
   "source": []
  },
  {
   "cell_type": "code",
   "execution_count": 161,
   "id": "66b4e189",
   "metadata": {},
   "outputs": [
    {
     "data": {
      "text/plain": [
       "['F', 'D', 'C', 'B', 'A']"
      ]
     },
     "execution_count": 161,
     "metadata": {},
     "output_type": "execute_result"
    }
   ],
   "source": [
    "grades"
   ]
  },
  {
   "cell_type": "code",
   "execution_count": null,
   "id": "2572622b",
   "metadata": {},
   "outputs": [],
   "source": []
  }
 ],
 "metadata": {
  "kernelspec": {
   "display_name": "Python 3 (ipykernel)",
   "language": "python",
   "name": "python3"
  },
  "language_info": {
   "codemirror_mode": {
    "name": "ipython",
    "version": 3
   },
   "file_extension": ".py",
   "mimetype": "text/x-python",
   "name": "python",
   "nbconvert_exporter": "python",
   "pygments_lexer": "ipython3",
   "version": "3.9.13"
  }
 },
 "nbformat": 4,
 "nbformat_minor": 5
}
