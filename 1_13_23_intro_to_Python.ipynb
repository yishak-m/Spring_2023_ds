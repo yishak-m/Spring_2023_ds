{
 "cells": [
  {
   "cell_type": "code",
   "execution_count": 5,
   "id": "b2d7a92e",
   "metadata": {},
   "outputs": [
    {
     "name": "stdout",
     "output_type": "stream",
     "text": [
      "First\n",
      "Second\n",
      "Third\n"
     ]
    }
   ],
   "source": [
    "print('First')\n",
    "\n",
    "print('Second')\n",
    "\n",
    "print('Third')"
   ]
  },
  {
   "cell_type": "markdown",
   "id": "d0b850db",
   "metadata": {},
   "source": [
    " # Hi, My name is Moussa"
   ]
  },
  {
   "cell_type": "code",
   "execution_count": null,
   "id": "6bbb125f",
   "metadata": {},
   "outputs": [],
   "source": [
    "print('Hello World!')"
   ]
  },
  {
   "cell_type": "markdown",
   "id": "4131ad59",
   "metadata": {},
   "source": [
    "### Hi, My name is Moussa"
   ]
  },
  {
   "cell_type": "code",
   "execution_count": 7,
   "id": "eb8bd8f2",
   "metadata": {},
   "outputs": [
    {
     "data": {
      "text/plain": [
       "' Course Description: The purpose of this course is to provide basic analytical tools to the students of business school, natural sciences, and computer science. Applied Calculus involves equations and formulas. This course will also increase your dictionary experience about integrals and  applications of integrals in real world.. It has applications in every field of science and contemporary research. All of these applications involve other branches of business, science and mathematics, but they all use calculus in some essential way. The main objective of this course is to provide all necessary tools and fundamental concepts of differential calculus so that the students can\\n\\nassimilate these ideas to learn advanced topics  in calculus and be able to use calculus in all other relevant areas of applications.  WebAssign platform will be used to allow students to perform their assignments. This course will enhance your knowledge of limits, derivatives, applications of derivates, marginal analysis of profit, cost and revenue functions and  applications of integrals in real world. The Applied Calculus course is an independent course. You will mainly learn this course via lectures, class discussions and videos. I am Moussa Doumbia, Ph.D., I am a faculty member in the department of mathematics at Howard University. I have been teaching applied calculus for almost six(6) years. In addition to teaching mathematics, I also developed, implemented and taught an introductory to data science course( see Moussa Doumbia at Howard UniversityLinks to an external site.  for more information), and I am very excited to serve as your instructor for this course. \\n\\nA good place to get started during the 1st week of class is the Syllabus, Discussion/n Board, and Week 1 tabs. Please also review the content and class overview in CANVAS. \\n\\nTo be successful in this course, please be sure to check your Howard email daily and log into the course daily as well.    '"
      ]
     },
     "execution_count": 7,
     "metadata": {},
     "output_type": "execute_result"
    }
   ],
   "source": [
    "''' Course Description: The purpose of this course is to provide basic analytical tools to the students of business school, natural sciences, and computer science. Applied Calculus involves equations and formulas. This course will also increase your dictionary experience about integrals and  applications of integrals in real world.. It has applications in every field of science and contemporary research. All of these applications involve other branches of business, science and mathematics, but they all use calculus in some essential way. The main objective of this course is to provide all necessary tools and fundamental concepts of differential calculus so that the students can\n",
    "\n",
    "assimilate these ideas to learn advanced topics  in calculus and be able to use calculus in all other relevant areas of applications.  WebAssign platform will be used to allow students to perform their assignments. This course will enhance your knowledge of limits, derivatives, applications of derivates, marginal analysis of profit, cost and revenue functions and  applications of integrals in real world. The Applied Calculus course is an independent course. You will mainly learn this course via lectures, class discussions and videos. I am Moussa Doumbia, Ph.D., I am a faculty member in the department of mathematics at Howard University. I have been teaching applied calculus for almost six(6) years. In addition to teaching mathematics, I also developed, implemented and taught an introductory to data science course( see Moussa Doumbia at Howard UniversityLinks to an external site.  for more information), and I am very excited to serve as your instructor for this course. \n",
    "\n",
    "A good place to get started during the 1st week of class is the Syllabus, Discussion/n Board, and Week 1 tabs. Please also review the content and class overview in CANVAS. \n",
    "\n",
    "To be successful in this course, please be sure to check your Howard email daily and log into the course daily as well.    '''"
   ]
  },
  {
   "cell_type": "code",
   "execution_count": null,
   "id": "375b3142",
   "metadata": {},
   "outputs": [],
   "source": []
  }
 ],
 "metadata": {
  "kernelspec": {
   "display_name": "Python 3 (ipykernel)",
   "language": "python",
   "name": "python3"
  },
  "language_info": {
   "codemirror_mode": {
    "name": "ipython",
    "version": 3
   },
   "file_extension": ".py",
   "mimetype": "text/x-python",
   "name": "python",
   "nbconvert_exporter": "python",
   "pygments_lexer": "ipython3",
   "version": "3.9.13"
  }
 },
 "nbformat": 4,
 "nbformat_minor": 5
}
